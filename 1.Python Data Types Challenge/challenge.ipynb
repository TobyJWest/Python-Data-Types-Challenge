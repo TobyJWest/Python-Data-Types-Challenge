{
 "cells": [
  {
   "cell_type": "markdown",
   "source": "## Python Data Types Challenge\n\n> Handling common [Python Data Types](https://www.w3schools.com/python/python_datatypes.asp).\n\n1. ##### Remember to onboard a problem solving process and engage your community!\n\n2. ##### Use `print()` to output your solutions. E.g. printing out all the data types in the `random_list`:\n",
   "metadata": {
    "tags": [],
    "output_cleared": false,
    "cell_id": "00000-dbe03cea-5e6e-407d-aed3-b4e88933d4d9",
    "deepnote_cell_type": "markdown",
    "deepnote_cell_height": 187.390625
   }
  },
  {
   "cell_type": "code",
   "metadata": {
    "tags": [],
    "cell_id": "00001-540d393c-d023-4e1e-b617-8ceaa510cb39",
    "deepnote_to_be_reexecuted": false,
    "source_hash": "b7f6699e",
    "execution_millis": 13,
    "execution_start": 1668684331503,
    "deepnote_cell_type": "code",
    "deepnote_cell_height": 238.1875,
    "deepnote_output_heights": [
     20.1875
    ]
   },
   "source": "random_list = [\"1\", 2, 3.00, [4, 5], {\"number\": 6.0}]\n\ntype(random_list[3])\n\n#data_types = [type(item) for item in random_list]\n\n#print(data_types)\n",
   "execution_count": null,
   "outputs": [
    {
     "output_type": "execute_result",
     "execution_count": 1,
     "data": {
      "text/plain": "list"
     },
     "metadata": {}
    }
   ]
  },
  {
   "cell_type": "markdown",
   "source": "### Strings (str)",
   "metadata": {
    "tags": [],
    "cell_id": "00001-1478b2a8-8942-43ef-9d25-daaa25117135",
    "deepnote_cell_type": "markdown",
    "deepnote_cell_height": 62
   }
  },
  {
   "cell_type": "code",
   "metadata": {
    "tags": [],
    "cell_id": "00002-96634c9e-41d7-4ac3-a3d9-a14c9952fc90",
    "deepnote_to_be_reexecuted": false,
    "source_hash": "93d6a72f",
    "execution_millis": 15,
    "execution_start": 1668684331504,
    "owner_user_id": "9c76995f-be4b-40da-aa41-4b4af36e4747",
    "deepnote_cell_type": "code",
    "deepnote_cell_height": 628.6875
   },
   "source": "name = \"Lionel Messi\"\n\n# Return a first name\nfirst_name = (name.split()[0])\nprint (first_name)\n# Return a last name\nlast_name = (name.split()[-1])\nprint (last_name)\n# Return the name in lowercase\nlower = (name.lower())\nprint (lower)\n# Remove the space inbetween the name\nprint (name.replace(\" \",\"\"))\nprint (name.split()[0]+name.split()[-1])\nprint(first_name+last_name)\nfirst_name_1, last_name_1 = name.split()\nprint(first_name_1+last_name_1)\n# Print the name out like so: \"Messi, Lionel\"\nprint(last_name+\", \"+first_name)\ndt = str(20221114)\nprint(last_name+\", \"+first_name + dt)",
   "execution_count": null,
   "outputs": [
    {
     "name": "stdout",
     "text": "Lionel\nMessi\nlionel messi\nLionelMessi\nLionelMessi\nLionelMessi\nLionelMessi\nMessi, Lionel\nMessi, Lionel20221114\n",
     "output_type": "stream"
    }
   ]
  },
  {
   "cell_type": "markdown",
   "source": "### Numbers (int, float)\n",
   "metadata": {
    "tags": [],
    "cell_id": "00004-5fc5c02c-5107-45ab-8faa-8aa1bb368f72",
    "deepnote_cell_type": "markdown",
    "deepnote_cell_height": 62
   }
  },
  {
   "cell_type": "code",
   "metadata": {
    "tags": [],
    "cell_id": "00003-24a62ac1-c3e4-48d7-b4ba-22ccea6fdad9",
    "deepnote_to_be_reexecuted": false,
    "source_hash": "b3d119d5",
    "execution_millis": 3,
    "output_cleared": false,
    "execution_start": 1669976449952,
    "deepnote_cell_type": "code",
    "deepnote_cell_height": 417.5625,
    "deepnote_output_heights": [
     null,
     20.1875
    ]
   },
   "source": "mass_kg = \"50kg\"\ntime_secs = 7\nvelocity_ms = 12.35\n\n# Return Acceleration (velocity / time)\nacceleration = (velocity_ms/time_secs)\nprint (acceleration)\n\n# Format mass_kg variable into a float (e.g. 50.00)\nmass = float(mass_kg.split(\"k\")[0])\nprint (mass)\n# Return Force (mass * acceleration) & Round force down to three decimal places\nforce = mass*acceleration\nprint (round(force,3))\n\n",
   "execution_count": null,
   "outputs": [
    {
     "name": "stdout",
     "text": "1.7642857142857142\n50.0\n88.214\n",
     "output_type": "stream"
    }
   ]
  },
  {
   "cell_type": "markdown",
   "source": "### Lists (list)",
   "metadata": {
    "tags": [],
    "cell_id": "00006-fc8ab289-d1d0-4121-bacb-ef5309accb86",
    "deepnote_cell_type": "markdown",
    "deepnote_cell_height": 62
   }
  },
  {
   "cell_type": "code",
   "metadata": {
    "cell_id": "8f08517c39bb4d0bbef1c3ab61d0bf1b",
    "tags": [],
    "deepnote_to_be_reexecuted": false,
    "source_hash": "f9fd7e0d",
    "execution_start": 1669976969572,
    "execution_millis": 2,
    "deepnote_cell_type": "code",
    "deepnote_cell_height": 112
   },
   "source": "import numpy as np # for generating random list of integers\n\nls = list(np.random.randint(100, size=(50)))",
   "execution_count": null,
   "outputs": []
  },
  {
   "cell_type": "code",
   "metadata": {
    "tags": [],
    "cell_id": "00007-386aac4c-1ddc-4254-be96-6209f1a317b0",
    "deepnote_to_be_reexecuted": false,
    "source_hash": "3c99375d",
    "execution_millis": 4,
    "execution_start": 1669976971157,
    "deepnote_cell_type": "code",
    "deepnote_cell_height": 1090.9375
   },
   "source": "\nprint (ls)\n\n# Return the 10th number in the list\nprint (ls[9])\n\n# Return the last 10 numbers in the list\nprint (ls[-10:])\n\n# Sum the numbers in the list\nprint (sum(ls))\n\n# Unique the numbers in the list\nprint(np.unique(ls))\n\n# Return the largest number\nprint (max(ls))\n# Return a sorted list (in reverse)\nreverselist = ls.copy()\nreverselist.sort(reverse=True)\nprint (reverselist)\n# Loop over each number and append the number to a new list if it is less than or equal too 50\nnew_list = []\nsecond_list = []\nfor i in ls:\n    if i <= 50:\n        new_list.append(i)\n    elif i <= 75:\n        second_list.append(i)\n    else:\n        print (i)\nprint (new_list)\nprint (second_list)",
   "execution_count": null,
   "outputs": [
    {
     "name": "stdout",
     "text": "[95, 28, 59, 96, 96, 39, 56, 69, 68, 90, 31, 57, 45, 3, 24, 83, 65, 97, 17, 81, 72, 25, 5, 72, 61, 89, 41, 11, 55, 58, 20, 20, 12, 12, 34, 84, 18, 83, 9, 58, 48, 93, 75, 33, 2, 19, 1, 42, 26, 52]\n90\n[48, 93, 75, 33, 2, 19, 1, 42, 26, 52]\n2429\n[ 1  2  3  5  9 11 12 17 18 19 20 24 25 26 28 31 33 34 39 41 42 45 48 52\n 55 56 57 58 59 61 65 68 69 72 75 81 83 84 89 90 93 95 96 97]\n97\n[97, 96, 96, 95, 93, 90, 89, 84, 83, 83, 81, 75, 72, 72, 69, 68, 65, 61, 59, 58, 58, 57, 56, 55, 52, 48, 45, 42, 41, 39, 34, 33, 31, 28, 26, 25, 24, 20, 20, 19, 18, 17, 12, 12, 11, 9, 5, 3, 2, 1]\n95\n96\n96\n90\n83\n97\n81\n89\n84\n83\n93\n[28, 39, 31, 45, 3, 24, 17, 25, 5, 41, 11, 20, 20, 12, 12, 34, 18, 9, 48, 33, 2, 19, 1, 42, 26]\n[59, 56, 69, 68, 57, 65, 72, 72, 61, 55, 58, 58, 75, 52]\n",
     "output_type": "stream"
    }
   ]
  },
  {
   "cell_type": "code",
   "metadata": {
    "cell_id": "f495b3dfcacb44bfa826972c96224836",
    "tags": [],
    "deepnote_to_be_reexecuted": false,
    "source_hash": "1248c306",
    "execution_start": 1668684331525,
    "execution_millis": 3,
    "deepnote_cell_type": "code",
    "deepnote_cell_height": 125.1875
   },
   "source": "third_list = [i for i in ls if i <= 50]\nprint(third_list)",
   "execution_count": null,
   "outputs": [
    {
     "name": "stdout",
     "text": "[32, 38, 21, 24, 36, 49, 8, 10, 10, 36, 15, 38, 6, 7, 32, 50, 9, 28, 43, 48, 50, 19, 37, 35, 41]\n",
     "output_type": "stream"
    }
   ]
  },
  {
   "cell_type": "markdown",
   "source": "### Dictionaries (dict)",
   "metadata": {
    "tags": [],
    "cell_id": "00007-5e88d7c9-3d7d-490b-a5ed-4a46b4f45e39",
    "deepnote_cell_type": "markdown",
    "deepnote_cell_height": 62
   }
  },
  {
   "cell_type": "code",
   "metadata": {
    "tags": [],
    "cell_id": "00009-f0d0b48d-72b5-4e2f-bbe8-5eddf33d139c",
    "deepnote_to_be_reexecuted": false,
    "source_hash": "866913c",
    "execution_start": 1669981218541,
    "execution_millis": 5,
    "deepnote_cell_type": "code",
    "deepnote_cell_height": 1640.1875
   },
   "source": "punch_labels = {\n    1: 'Jab', \n    2: 'Straight', \n    3: 'Hook', \n    4: 'Uppercut'\n}\n\n# Print all the keys\nprint(punch_labels.keys())\n\n# Print all the values\nprint(punch_labels.values())\n\n# Print the value for the key 3\nprint (\"## Value for key 3 Solution ##\")\nprint(punch_labels[3])\n\n# Loop and print the value and it's respective key for each key value pair within punch_labels\nprint (\"## Value and respective key Solution ##\")\nfor i in punch_labels.keys():\n    print(str(i) + ': ' + (punch_labels[i]))\n\n# Create a function the will output the following lists as a series of punches (using the punch_labels)\ncombo_one = [1,1,3,2,3,4]\ncombo_one_list = []\nfor combo in combo_one:\n    combo_one_list.append(punch_labels[combo])\nprint (\"## Combo 1 Solution ##\")\nprint(combo_one_list)\ncombo_two = [1,1,3,2,3,\"4\"]\ncombo_two_list = []\nfor combo in combo_two:\n    combo_two_list.append(punch_labels[int(combo)])\nprint (\"## Combo 2 Solution ##\")\nprint(combo_two_list)\ncombo_three = [1,\"Cheese\",1,3,5,6,3,4]\ncombo_three_list = []\nfor combo in combo_three:\n    try:\n        combo_three_list.append(punch_labels[int(combo)])\n    except:\n        combo_three_list.append(f'Punch type {combo} not found, please check data entry.')\nprint (\"## Combo 3 Solution ##\")\nprint(combo_three_list)\n\n\n\n## Setup new function with input being (x)\ndef get_punch_combos(x):\n    ## setup new list\n    newcombolist = []\n    for i in x:\n        try:\n            newcombolist.append(punch_labels [int(i)])\n        except KeyError:\n            newcombolist.append(f'Key Error, Punch type {i} not found')\n        except:\n            newcombolist.append(f'Other Error, Punch type {i} not found')\n\n    return newcombolist\n\nprint (\"## All together Solution ##\")\nprint (get_punch_combos(combo_three))\n\n\n\n    \n",
   "execution_count": null,
   "outputs": [
    {
     "name": "stdout",
     "text": "dict_keys([1, 2, 3, 4])\ndict_values(['Jab', 'Straight', 'Hook', 'Uppercut'])\n## Value for key 3 Solution ##\nHook\n## Value and respective key Solution ##\n1: Jab\n2: Straight\n3: Hook\n4: Uppercut\n## Combo 1 Solution ##\n['Jab', 'Jab', 'Hook', 'Straight', 'Hook', 'Uppercut']\n## Combo 2 Solution ##\n['Jab', 'Jab', 'Hook', 'Straight', 'Hook', 'Uppercut']\n## Combo 3 Solution ##\n['Jab', 'Punch type Cheese not found, please check data entry.', 'Jab', 'Hook', 'Punch type 5 not found, please check data entry.', 'Punch type 6 not found, please check data entry.', 'Hook', 'Uppercut']\n## All together Solution ##\n['Jab', 'Other Error, Punch type Cheese not found', 'Jab', 'Hook', 'Key Error, Punch type 5 not found', 'Key Error, Punch type 6 not found', 'Hook', 'Uppercut']\n",
     "output_type": "stream"
    }
   ]
  },
  {
   "cell_type": "markdown",
   "source": "### List of Dictionaries\n\n1. ##### Inspect the data within the `data` folder.\n2. ##### In this challenge we simply have a dataset containing all the goal scorers (and tallies) in the 2019/20 season.\n3. ##### You can see the same data in two different formats. One is `csv` (you can open it up in excel) and one is `json` (you can open it up in any plain text editor). If you have not heard of JSON data before, it is a common data storage/exchange format along with CSV and XML. You can get an indepth introduction to JSON with Pyhon [here](https://www.w3schools.com/python/python_json.asp) (if you havn't already).\n4. ##### JSON data shares similar if not identical data formats to Python e.g.",
   "metadata": {
    "tags": [],
    "cell_id": "00009-dd4bc043-6b4d-47b8-9d82-001d5ddfc8d4",
    "deepnote_cell_type": "markdown",
    "deepnote_cell_height": 245
   }
  },
  {
   "cell_type": "code",
   "metadata": {
    "tags": [],
    "cell_id": "00006-f8483929-78ce-4637-83c0-146444c0611d",
    "deepnote_to_be_reexecuted": false,
    "source_hash": "9c0d1ac4",
    "execution_millis": 14,
    "execution_start": 1669986057542,
    "output_cleared": false,
    "deepnote_cell_type": "code",
    "deepnote_cell_height": 1655,
    "deepnote_output_heights": [
     77.75,
     192.875
    ]
   },
   "source": "import json\nfrom operator import itemgetter\n\ndata_file = open('data/epl_goals_19_20.json') # open data file from data folder\n\nepl_goals_databse = json.load(data_file) # deserialising json into native python format/data structures\n\n# Print the data type of the epl_goals_database\nprint(type(epl_goals_databse))\n\n# Print the second item within the epl_goals_database (should be Aubameyang)\nprint(epl_goals_databse[1])\n\n# Return the epl_goals_database only containing the first 3 items\nfirst_3 = epl_goals_databse[:3]\nprint(first_3)\n\n# Print the name and goals scored of the 10th player in the list\nprint (\"## Print the 9th Player surname, club and goals ##\")\nprint(str(epl_goals_databse[9]['Player']) + \" \" + str(epl_goals_databse[9]['Stat']))\nprint (epl_goals_databse[9]['Player'])\nprint (epl_goals_databse[9].get('Stat'))\nprint(itemgetter('Player','Stat')(epl_goals_databse[9]))\n\n# Loop through the list and print out the data for each dict as a newly formatted string, like so: Vardy, Leicester City, England (23) \nprint (\"## Print new strings with Player surname, club and goals ##\")\n\nfor newformat in list(range(len(epl_goals_databse))):\n    Player = str(epl_goals_databse[newformat]['Player'].split()[-1])\n    Club = str(epl_goals_databse[newformat]['Club'])\n    Nationality = str(epl_goals_databse[newformat]['Nationality'])\n    Goals = str(epl_goals_databse[newformat]['Stat'])\n    Output = Player + \", \" + Club + \", \" + Nationality + \", (\" + Goals +\")\"\n    print(Output)\n\n\n# Return a list of unique nationalities. Sort the list.\n\ncountries = []\n\nfor eachentry in list(range(len(epl_goals_databse))):\n    if epl_goals_databse[eachentry]['Nationality'] not in countries:\n        countries.append(epl_goals_databse[eachentry]['Nationality'])\ncountries.sort()\nprint (countries)\n\ngoals = []\nfor eachentry in list(range(len(epl_goals_databse))):\n    if epl_goals_databse[eachentry]['Stat'] not in goals:\n        goals.append(epl_goals_databse[eachentry]['Stat'])\ngoals.sort(reverse=False)\nprint (goals)\n\n",
   "execution_count": null,
   "outputs": [
    {
     "name": "stdout",
     "text": "<class 'list'>\n{'Rank': 2.0, 'Player': 'Pierre-Emerick Aubameyang', 'Club': 'Arsenal', 'Nationality': 'Gabon', 'Stat': 22}\n[{'Rank': 1.0, 'Player': 'Jamie Vardy', 'Club': 'Leicester City', 'Nationality': 'England', 'Stat': 23}, {'Rank': 2.0, 'Player': 'Pierre-Emerick Aubameyang', 'Club': 'Arsenal', 'Nationality': 'Gabon', 'Stat': 22}, {'Rank': 2.0, 'Player': 'Danny Ings', 'Club': 'Southampton', 'Nationality': 'England', 'Stat': 22}]\n## Print the 9th Player surname, club and goals ##\nMarcus Rashford 17\nMarcus Rashford\n17\n('Marcus Rashford', 17)\n## Print new strings with Player surname, club and goals ##\nVardy, Leicester City, England, (23)\nAubameyang, Arsenal, Gabon, (22)\nIngs, Southampton, England, (22)\nSterling, Manchester City, England, (20)\nSalah, Liverpool, Egypt, (19)\nKane, Tottenham Hotspur, England, (18)\nMané, Liverpool, Senegal, (18)\nJiménez, Wolverhampton Wanderers, Mexico, (17)\nMartial, Manchester United, France, (17)\nRashford, Manchester United, England, (17)\nAgüero, Manchester City, Argentina, (16)\nAbraham, Chelsea, England, (15)\nJesus, Manchester City, Brazil, (14)\nWood, Burnley, New Zealand, (14)\nCalvert-Lewin, Everton, England, (13)\nRicharlison, Everton, Brazil, (13)\nBruyne, Manchester City, Belgium, (13)\nMahrez, Manchester City, Algeria, (11)\nPukki, Norwich City, Finland, (11)\nHeung-Min, Tottenham Hotspur, South Korea, (11)\nAntonio, West Ham United, England, (10)\nDeeney, Watford, England, (10)\nGreenwood, Manchester United, England, (10)\nLacazette, Arsenal, France, (10)\nMaupay, Brighton and Hove Albion, France, (10)\nAyew, Crystal Palace, Ghana, (9)\nFirmino, Liverpool, Brazil, (9)\nWillian, -, Brazil, (9)\nPulisic, Chelsea, United States, (9)\nAlli, Tottenham Hotspur, England, (8)\nFernandes, Manchester United, Portugal, (8)\nGiroud, Chelsea, France, (8)\nGrealish, Aston Villa, England, (8)\nPérez, Leicester City, Spain, (8)\nRodriguez, Burnley, England, (8)\nWilson, -, England, (8)\nHaller, West Ham United, Cote D'Ivoire, (7)\nMount, Chelsea, England, (7)\nJota, -, Portugal, (7)\nWilson, AFC Bournemouth, Wales, (7)\nBarnes, Leicester City, England, (6)\nBarnes, Burnley, England, (6)\nCantwell, Norwich City, England, (6)\nTrézéguet, Aston Villa, Egypt, (6)\nKing, AFC Bournemouth, Norway, (6)\nMaddison, Leicester City, England, (6)\nMcBurnie, Sheffield United, Scotland, (6)\nMousset, Sheffield United, France, (6)\nShelvey, Newcastle United, England, (6)\nSilva, -, Spain, (6)\nSilva, Manchester City, Portugal, (6)\nArmstrong, Southampton, Scotland, (5)\nFleck, Sheffield United, Scotland, (5)\nFoden, -, England, (5)\nIheanacho, Leicester City, Nigeria, (5)\nLundstram, Sheffield United, England, (5)\nWesley, Aston Villa, Brazil, (5)\nPépé, Arsenal, Cote D'Ivoire, (5)\nSarr, Watford, Senegal, (5)\nSnodgrass, West Ham United, Scotland, (5)\nTrossard, Brighton and Hove Albion, Belgium, (5)\nDijk, Liverpool, Netherlands, (5)\nWard-Prowse, Southampton, England, (5)\nYarmolenko, West Ham United, Ukraine, (5)\nAdams, Southampton, England, (4)\nAlexander-Arnold, Liverpool, England, (4)\nAlmirón, Newcastle United, Paraguay, (4)\nAlonso, Chelsea, Spain, (4)\nDendoncker, Wolverhampton Wanderers, Belgium, (4)\nDeulofeu, -, Spain, (4)\nDoherty, -, Ireland, (4)\nDoucouré, -, France, (4)\nGhazi, Aston Villa, Netherlands, (4)\nJorginho, Chelsea, Italy, (4)\nGayle, Newcastle United, England, (4)\nHenderson, Liverpool, England, (4)\nMcTominay, Manchester United, Scotland, (4)\nNoble, West Ham United, England, (4)\nOrigi, Liverpool, Belgium, (4)\nOxlade-Chamberlain, Liverpool, England, (4)\nRedmond, Southampton, England, (4)\nMoura, Tottenham Hotspur, Brazil, (4)\nTraoré, Wolverhampton Wanderers, Spain, (4)\nWijnaldum, Liverpool, Netherlands, (4)\nZaha, Crystal Palace, Cote D'Ivoire, (4)\nBernard, Everton, Brazil, (3)\nPereira, Leicester City, Portugal, (3)\nBergwijn, Tottenham Hotspur, Netherlands, (3)\nChilwell, -, England, (3)\nConnolly, Brighton and Hove Albion, Ireland, (3)\nCresswell, West Ham United, England, (3)\nDiop, West Ham United, France, (3)\nDunk, Brighton and Hove Albion, England, (3)\nGosling, AFC Bournemouth, England, (3)\nRodrigo, Manchester City, Spain, (3)\nHourihane, Aston Villa, Ireland, (3)\nJames, Manchester United, Wales, (3)\nKanté, Chelsea, France, (3)\nNeto, Wolverhampton Wanderers, Portugal, (3)\nMartinelli, Arsenal, Brazil, (3)\nMcGinn, Aston Villa, Scotland, (3)\nMilivojevic, Crystal Palace, Serbia, (3)\nObafemi, Southampton, Ireland, (3)\nPereyra, -, Argentina, (3)\nSaint-Maximin, Newcastle United, France, (3)\nSchlupp, Crystal Palace, Ghana, (3)\nSharp, Sheffield United, England, (3)\nLuiz, Aston Villa, Brazil, (3)\nSolanke, AFC Bournemouth, England, (3)\nSoucek, -, Czech Republic, (3)\nStanislas, AFC Bournemouth, England, (3)\nTielemans, Leicester City, Belgium, (3)\nAanholt, Crystal Palace, Netherlands, (3)\nWebster, Brighton and Hove Albion, England, (3)\nAké, -, Netherlands, (2)\nAlderweireld, Tottenham Hotspur, Belgium, (2)\nJoelinton, Newcastle United, Brazil, (2)\nAzpilicueta, Chelsea, Spain, (2)\nBaldock, -, England, (2)\nBenteke, Crystal Palace, Belgium, (2)\nJonny, Wolverhampton Wanderers, Spain, (2)\nClark, Newcastle United, Ireland, (2)\nCutrone, -, Italy, (2)\nNeves, Wolverhampton Wanderers, Portugal, (2)\nDawson, -, England, (2)\nDjenepo, Southampton, Mali, (2)\nEgan, Sheffield United, Ireland, (2)\nEriksen, -, Denmark, (2)\nFernández, Newcastle United, Argentina, (2)\nFornals, West Ham United, Spain, (2)\nGray, Watford, England, (2)\nGray, Leicester City, England, (2)\nGroß, Brighton and Hove Albion, Germany, (2)\nGündogan, Manchester City, Germany, (2)\nHendrick, -, Ireland, (2)\nJahanbakhsh, -, Iran, (2)\nKean, -, Italy, (2)\nKeane, Everton, England, (2)\nKeita, Liverpool, Guinea, (2)\nLamela, Tottenham Hotspur, Argentina, (2)\nLejeune, -, France, (2)\nLong, Southampton, Ireland, (2)\nLongstaff, Newcastle United, England, (2)\nLuiz, Arsenal, Brazil, (2)\nMcGoldrick, Sheffield United, Ireland, (2)\nMcNeil, Burnley, England, (2)\nMilner, Liverpool, England, (2)\nMina, Everton, Colombia, (2)\nMings, Aston Villa, England, (2)\nMooy, -, Australia, (2)\nNdidi, Leicester City, Nigeria, (2)\nNdombele, Tottenham Hotspur, France, (2)\nNketiah, Arsenal, England, (2)\nOgbonna, West Ham United, Italy, (2)\nOtamendi, -, Argentina, (2)\nSokratis, Arsenal, Greece, (2)\nRitchie, Newcastle United, Scotland, (2)\nRobertson, Liverpool, Scotland, (2)\nRüdiger, -, Germany, (2)\nSaïss, Wolverhampton Wanderers, Morocco, (2)\nSchär, Newcastle United, Switzerland, (2)\nSigurdsson, Everton, Iceland, (2)\nSissoko, Tottenham Hotspur, France, (2)\nStevens, Sheffield United, Ireland, (2)\nTarkowski, Burnley, England, (2)\nFabinho, Liverpool, Brazil, (2)\nTosun, Everton, Turkey, (2)\nVydra, Burnley, Czech Republic, (2)\nWalcott, -, England, (2)\nWelbeck, -, England, (2)\nWestwood, Burnley, England, (2)\nWillems, -, Netherlands, (2)\nSoares, -, Portugal, (1)\nAndone, Brighton and Hove Albion, Romania, (1)\nAurier, Tottenham Hotspur, Cote D'Ivoire, (1)\nBalbuena, West Ham United, Paraguay, (1)\nBarkley, -, England, (1)\nBatshuayi, -, Belgium, (1)\nBednarek, Southampton, Poland, (1)\nBellerín, Arsenal, Spain, (1)\nBerge, Sheffield United, Norway, (1)\nBertrand, Southampton, England, (1)\nBilling, AFC Bournemouth, Denmark, (1)\nBissouma, Brighton and Hove Albion, Mali, (1)\nBowen, West Ham United, England, (1)\nBrady, Burnley, Ireland, (1)\nBrooks, AFC Bournemouth, Wales, (1)\nBuendía, Norwich City, Argentina, (1)\nPodence, Wolverhampton Wanderers, Portugal, (1)\nChambers, -, England, (1)\nChoudhury, Leicester City, England, (1)\nCleverley, Watford, England, (1)\nCook, AFC Bournemouth, England, (1)\nDavies, Everton, England, (1)\nDrmic, Norwich City, Switzerland, (1)\nDuffy, -, Ireland, (1)\nMohamady, Aston Villa, Egypt, (1)\nEngels, Aston Villa, Belgium, (1)\nEvans, Leicester City, Northern Ireland, (1)\nFraser, -, Scotland, (1)\nGudmundsson, Burnley, Iceland, (1)\nHause, Aston Villa, England, (1)\nHayden, Newcastle United, England, (1)\nHernández, Norwich City, Cuba, (1)\nChicharito, -, Mexico, (1)\nPereira, -, Brazil, (1)\nHudson-Odoi, Chelsea, England, (1)\nHughes, Watford, England, (1)\nIwobi, Everton, Nigeria, (1)\nJones, Liverpool, England, (1)\nNgoyo, Aston Villa, England, (1)\nKouyaté, Crystal Palace, Senegal, (1)\nKovacic, Chelsea, Croatia, (1)\nLallana, -, England, (1)\nLaporte, Manchester City, France, (1)\nLascelles, Newcastle United, England, (1)\nLazaro, -, Austria, (1)\nLerma, AFC Bournemouth, Colombia, (1)\nLewis, -, Northern Ireland, (1)\nLindelöf, Manchester United, Sweden, (1)\nLingard, Manchester United, England, (1)\nLongstaff, Newcastle United, England, (1)\nMaguire, Manchester United, England, (1)\nMasina, Watford, Italy, (1)\nMatip, Liverpool, Cameroon, (1)\nMcLean, Norwich City, Scotland, (1)\nMee, Burnley, England, (1)\nMepham, AFC Bournemouth, Wales, (1)\nMurray, -, England, (1)\nNelson, Arsenal, England, (1)\nNorwood, Sheffield United, Northern Ireland, (1)\nÖzil, Arsenal, Germany, (1)\nAnderson, -, Brazil, (1)\nPogba, Manchester United, France, (1)\nPraet, Leicester City, Belgium, (1)\nPröpper, Brighton and Hove Albion, Netherlands, (1)\nRice, -, England, (1)\nRobinson, -, Ireland, (1)\nPedro, -, Spain, (1)\nSaka, Arsenal, England, (1)\nSamatta, -, Tanzania, (1)\nMoutinho, Wolverhampton Wanderers, Portugal, (1)\nShaqiri, Liverpool, Switzerland, (1)\nSöyüncü, Leicester City, Turkey, (1)\nSrbeny, -, Germany, (1)\nStephens, Southampton, England, (1)\nTargett, Aston Villa, England, (1)\nTettey, Norwich City, Norway, (1)\nTierney, -, Scotland, (1)\nTomkins, Crystal Palace, England, (1)\nTomori, Chelsea, England, (1)\nTorreira, -, Uruguay, (1)\nTownsend, Crystal Palace, England, (1)\nVertonghen, -, Belgium, (1)\nVestergaard, Southampton, Denmark, (1)\nVrancic, Norwich City, Bosnia And Herzegovina, (1)\nWalker, Manchester City, England, (1)\nWickham, Crystal Palace, England, (1)\nWilliams, Manchester United, England, (1)\nWillock, Arsenal, England, (1)\nXhaka, Arsenal, Switzerland, (1)\nYedlin, Newcastle United, United States, (1)\n['Algeria', 'Argentina', 'Australia', 'Austria', 'Belgium', 'Bosnia And Herzegovina', 'Brazil', 'Cameroon', 'Colombia', \"Cote D'Ivoire\", 'Croatia', 'Cuba', 'Czech Republic', 'Denmark', 'Egypt', 'England', 'Finland', 'France', 'Gabon', 'Germany', 'Ghana', 'Greece', 'Guinea', 'Iceland', 'Iran', 'Ireland', 'Italy', 'Mali', 'Mexico', 'Morocco', 'Netherlands', 'New Zealand', 'Nigeria', 'Northern Ireland', 'Norway', 'Paraguay', 'Poland', 'Portugal', 'Romania', 'Scotland', 'Senegal', 'Serbia', 'South Korea', 'Spain', 'Sweden', 'Switzerland', 'Tanzania', 'Turkey', 'Ukraine', 'United States', 'Uruguay', 'Wales']\n[1, 2, 3, 4, 5, 6, 7, 8, 9, 10, 11, 13, 14, 15, 16, 17, 18, 19, 20, 22, 23]\n",
     "output_type": "stream"
    }
   ]
  },
  {
   "cell_type": "code",
   "metadata": {
    "tags": [],
    "cell_id": "00012-c0db9825-5396-4154-bdc6-da16410dd8b3",
    "is_code_hidden": false,
    "deepnote_to_be_reexecuted": false,
    "source_hash": "7f99c7cf",
    "execution_start": 1668686226730,
    "execution_millis": 4,
    "deepnote_cell_type": "code",
    "deepnote_cell_height": 702,
    "deepnote_output_heights": [
     610
    ]
   },
   "source": "sorted(list(set([epl_goals_obj['Nationality'] for epl_goals_obj in epl_goals_databse])))",
   "execution_count": null,
   "outputs": [
    {
     "output_type": "execute_result",
     "execution_count": 21,
     "data": {
      "text/plain": "['Algeria',\n 'Argentina',\n 'Australia',\n 'Austria',\n 'Belgium',\n 'Bosnia And Herzegovina',\n 'Brazil',\n 'Cameroon',\n 'Colombia',\n \"Cote D'Ivoire\",\n 'Croatia',\n 'Cuba',\n 'Czech Republic',\n 'Denmark',\n 'Egypt',\n 'England',\n 'Finland',\n 'France',\n 'Gabon',\n 'Germany',\n 'Ghana',\n 'Greece',\n 'Guinea',\n 'Iceland',\n 'Iran',\n 'Ireland',\n 'Italy',\n 'Mali',\n 'Mexico',\n 'Morocco',\n 'Netherlands',\n 'New Zealand',\n 'Nigeria',\n 'Northern Ireland',\n 'Norway',\n 'Paraguay',\n 'Poland',\n 'Portugal',\n 'Romania',\n 'Scotland',\n 'Senegal',\n 'Serbia',\n 'South Korea',\n 'Spain',\n 'Sweden',\n 'Switzerland',\n 'Tanzania',\n 'Turkey',\n 'Ukraine',\n 'United States',\n 'Uruguay',\n 'Wales']"
     },
     "metadata": {}
    }
   ]
  },
  {
   "cell_type": "markdown",
   "source": "<a style='text-decoration:none;line-height:16px;display:flex;color:#5B5B62;padding:10px;justify-content:end;' href='https://deepnote.com?utm_source=created-in-deepnote-cell&projectId=82522c04-b10e-4808-ba92-f37909eae5ea' target=\"_blank\">\n<img alt='Created in deepnote.com' style='display:inline;max-height:16px;margin:0px;margin-right:7.5px;' src='data:image/svg+xml;base64,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' > </img>\nCreated in <span style='font-weight:600;margin-left:4px;'>Deepnote</span></a>",
   "metadata": {
    "tags": [],
    "created_in_deepnote_cell": true,
    "deepnote_cell_type": "markdown"
   }
  }
 ],
 "nbformat": 4,
 "nbformat_minor": 2,
 "metadata": {
  "orig_nbformat": 2,
  "deepnote_notebook_id": "fb188d89-ca2d-494c-b275-13369e09dcd4",
  "deepnote_execution_queue": [],
  "deepnote": {},
  "deepnote_persisted_session": {
   "createdAt": "2022-12-02T13:46:45.588Z"
  }
 }
}