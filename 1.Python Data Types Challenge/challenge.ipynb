{
 "cells": [
  {
   "cell_type": "markdown",
   "source": "## Python Data Types Challenge\n\n> Handling common [Python Data Types](https://www.w3schools.com/python/python_datatypes.asp).\n\n1. ##### Remember to onboard a problem solving process and engage your community!\n\n2. ##### Use `print()` to output your solutions. E.g. printing out all the data types in the `random_list`:\n",
   "metadata": {
    "tags": [],
    "output_cleared": false,
    "cell_id": "00000-dbe03cea-5e6e-407d-aed3-b4e88933d4d9",
    "deepnote_cell_type": "markdown",
    "deepnote_cell_height": 187.390625
   }
  },
  {
   "cell_type": "code",
   "metadata": {
    "tags": [],
    "cell_id": "00001-540d393c-d023-4e1e-b617-8ceaa510cb39",
    "deepnote_to_be_reexecuted": false,
    "source_hash": "b7f6699e",
    "execution_millis": 14,
    "execution_start": 1668512532525,
    "deepnote_cell_type": "code",
    "deepnote_cell_height": 238.1875,
    "deepnote_output_heights": [
     20.1875
    ]
   },
   "source": "random_list = [\"1\", 2, 3.00, [4, 5], {\"number\": 6.0}]\n\ntype(random_list[3])\n\n#data_types = [type(item) for item in random_list]\n\n#print(data_types)\n",
   "execution_count": null,
   "outputs": [
    {
     "output_type": "execute_result",
     "execution_count": 1,
     "data": {
      "text/plain": "list"
     },
     "metadata": {}
    }
   ]
  },
  {
   "cell_type": "markdown",
   "source": "### Strings (str)",
   "metadata": {
    "tags": [],
    "cell_id": "00001-1478b2a8-8942-43ef-9d25-daaa25117135",
    "deepnote_cell_type": "markdown",
    "deepnote_cell_height": 62
   }
  },
  {
   "cell_type": "code",
   "metadata": {
    "cell_id": "45e268ab11e1447991db9a636bc67215",
    "tags": [],
    "deepnote_to_be_reexecuted": false,
    "source_hash": "d2d3852",
    "execution_start": 1668514973818,
    "execution_millis": 6,
    "deepnote_cell_type": "code",
    "deepnote_cell_height": 76
   },
   "source": "first_name_1, last_name_1 = name.split()",
   "execution_count": null,
   "outputs": []
  },
  {
   "cell_type": "code",
   "metadata": {
    "tags": [],
    "cell_id": "00002-96634c9e-41d7-4ac3-a3d9-a14c9952fc90",
    "deepnote_to_be_reexecuted": false,
    "source_hash": "c1db1466",
    "execution_millis": 6,
    "execution_start": 1668516190760,
    "owner_user_id": "9c76995f-be4b-40da-aa41-4b4af36e4747",
    "deepnote_cell_type": "code",
    "deepnote_cell_height": 610.6875
   },
   "source": "name = \"Lionel Messi\"\n\n# Return a first name\nfirst_name = (name.split()[0])\nprint (first_name)\n# Return a last name\nlast_name = (name.split()[-1])\nprint (last_name)\n# Return the name in lowercase\nlower = (name.lower())\nprint (lower)\n# Remove the space inbetween the name\nprint (name.replace(\" \",\"\"))\nprint (name.split()[0]+name.split()[-1])\nprint(first_name+last_name)\nprint(first_name_1+last_name_1)\n# Print the name out like so: \"Messi, Lionel\"\nprint(last_name+\", \"+first_name)\ndt = str(20221114)\nprint(last_name+\", \"+first_name + dt)",
   "execution_count": null,
   "outputs": [
    {
     "name": "stdout",
     "text": "Lionel\nMessi\nlionel messi\nLionelMessi\nLionelMessi\nLionelMessi\nLionelMessi\nMessi, Lionel\nMessi, Lionel20221114\n",
     "output_type": "stream"
    }
   ]
  },
  {
   "cell_type": "markdown",
   "source": "### Numbers (int, float)\n",
   "metadata": {
    "tags": [],
    "cell_id": "00004-5fc5c02c-5107-45ab-8faa-8aa1bb368f72",
    "deepnote_cell_type": "markdown",
    "deepnote_cell_height": 62
   }
  },
  {
   "cell_type": "code",
   "metadata": {
    "tags": [],
    "cell_id": "00003-24a62ac1-c3e4-48d7-b4ba-22ccea6fdad9",
    "deepnote_to_be_reexecuted": false,
    "source_hash": "8ab3e1f4",
    "execution_millis": 388,
    "output_cleared": false,
    "execution_start": 1668523777122,
    "deepnote_cell_type": "code",
    "deepnote_cell_height": 468.75,
    "deepnote_output_heights": [
     null,
     20.1875
    ]
   },
   "source": "mass_kg = \"50kg\"\ntime_secs = 7\nvelocity_ms = 12.35\n\n# Return Acceleration (velocity / time)\nacceleration = (velocity_ms/time_secs)\nprint (acceleration)\n\n# Format mass_kg variable into a float (e.g. 50.00)\nmass = float(mass_kg.split(\"k\")[0])\nprint (mass)\n# Return Force (mass * acceleration)\nforce = mass*acceleration\nprint (force)\n# Round force down to three decimal places\nround (force,3)",
   "execution_count": null,
   "outputs": [
    {
     "name": "stdout",
     "text": "1.7642857142857142\n50.0\n88.21428571428571\n",
     "output_type": "stream"
    },
    {
     "output_type": "execute_result",
     "execution_count": 23,
     "data": {
      "text/plain": "88.214"
     },
     "metadata": {}
    }
   ]
  },
  {
   "cell_type": "markdown",
   "source": "### Lists (list)",
   "metadata": {
    "tags": [],
    "cell_id": "00006-fc8ab289-d1d0-4121-bacb-ef5309accb86",
    "deepnote_cell_type": "markdown",
    "deepnote_cell_height": 62
   }
  },
  {
   "cell_type": "code",
   "metadata": {
    "cell_id": "8f08517c39bb4d0bbef1c3ab61d0bf1b",
    "tags": [],
    "deepnote_to_be_reexecuted": false,
    "source_hash": "f9fd7e0d",
    "execution_start": 1668527697553,
    "execution_millis": 1,
    "deepnote_cell_type": "code",
    "deepnote_cell_height": 112
   },
   "source": "import numpy as np # for generating random list of integers\n\nls = list(np.random.randint(100, size=(50)))",
   "execution_count": null,
   "outputs": []
  },
  {
   "cell_type": "code",
   "metadata": {
    "tags": [],
    "cell_id": "00007-386aac4c-1ddc-4254-be96-6209f1a317b0",
    "deepnote_to_be_reexecuted": false,
    "source_hash": "3c99375d",
    "execution_millis": 799,
    "execution_start": 1668528859655,
    "deepnote_cell_type": "code",
    "deepnote_cell_height": 1070.75
   },
   "source": "\nprint (ls)\n\n# Return the 10th number in the list\nprint (ls[9])\n\n# Return the last 10 numbers in the list\nprint (ls[-10:])\n\n# Sum the numbers in the list\nprint (sum(ls))\n\n# Unique the numbers in the list\nprint(np.unique(ls))\n\n# Return the largest number\nprint (max(ls))\n# Return a sorted list (in reverse)\nreverselist = ls.copy()\nreverselist.sort(reverse=True)\nprint (reverselist)\n# Loop over each number and append the number to a new list if it is less than or equal too 50\nnew_list = []\nsecond_list = []\nfor i in ls:\n    if i <= 50:\n        new_list.append(i)\n    elif i <= 75:\n        second_list.append(i)\n    else:\n        print (i)\nprint (new_list)\nprint (second_list)",
   "execution_count": null,
   "outputs": [
    {
     "name": "stdout",
     "text": "[82, 17, 65, 87, 53, 20, 59, 1, 35, 36, 33, 51, 64, 56, 61, 73, 40, 80, 51, 78, 16, 55, 4, 23, 8, 48, 4, 90, 44, 86, 56, 20, 41, 73, 34, 76, 46, 41, 8, 32, 27, 29, 10, 5, 74, 2, 99, 81, 32, 94]\n36\n[27, 29, 10, 5, 74, 2, 99, 81, 32, 94]\n2300\n[ 1  2  4  5  8 10 16 17 20 23 27 29 32 33 34 35 36 40 41 44 46 48 51 53\n 55 56 59 61 64 65 73 74 76 78 80 81 82 86 87 90 94 99]\n99\n[99, 94, 90, 87, 86, 82, 81, 80, 78, 76, 74, 73, 73, 65, 64, 61, 59, 56, 56, 55, 53, 51, 51, 48, 46, 44, 41, 41, 40, 36, 35, 34, 33, 32, 32, 29, 27, 23, 20, 20, 17, 16, 10, 8, 8, 5, 4, 4, 2, 1]\n82\n87\n80\n78\n90\n86\n76\n99\n81\n94\n[17, 20, 1, 35, 36, 33, 40, 16, 4, 23, 8, 48, 4, 44, 20, 41, 34, 46, 41, 8, 32, 27, 29, 10, 5, 2, 32]\n[65, 53, 59, 51, 64, 56, 61, 73, 51, 55, 56, 73, 74]\n",
     "output_type": "stream"
    }
   ]
  },
  {
   "cell_type": "code",
   "metadata": {
    "cell_id": "f495b3dfcacb44bfa826972c96224836",
    "tags": [],
    "deepnote_to_be_reexecuted": false,
    "source_hash": "1248c306",
    "execution_start": 1668529085997,
    "execution_millis": 329,
    "deepnote_cell_type": "code",
    "deepnote_cell_height": 125.1875
   },
   "source": "third_list = [i for i in ls if i <= 50]\nprint(third_list)",
   "execution_count": null,
   "outputs": [
    {
     "name": "stdout",
     "text": "[17, 20, 1, 35, 36, 33, 40, 16, 4, 23, 8, 48, 4, 44, 20, 41, 34, 46, 41, 8, 32, 27, 29, 10, 5, 2, 32]\n",
     "output_type": "stream"
    }
   ]
  },
  {
   "cell_type": "markdown",
   "source": "### Dictionaries (dict)",
   "metadata": {
    "tags": [],
    "cell_id": "00007-5e88d7c9-3d7d-490b-a5ed-4a46b4f45e39",
    "deepnote_cell_type": "markdown",
    "deepnote_cell_height": 62
   }
  },
  {
   "cell_type": "code",
   "metadata": {
    "tags": [],
    "cell_id": "00009-f0d0b48d-72b5-4e2f-bbe8-5eddf33d139c",
    "deepnote_to_be_reexecuted": false,
    "source_hash": "1b30f5",
    "execution_start": 1668532388191,
    "execution_millis": 2,
    "deepnote_cell_type": "code",
    "deepnote_cell_height": 1221.6875
   },
   "source": "punch_labels = {\n    1: 'Jab', \n    2: 'Straight', \n    3: 'Hook', \n    4: 'Uppercut'\n}\n\n# Print all the keys\nprint(punch_labels.keys())\n\n# Print all the values\nprint(punch_labels.values())\n\n# Print the value for the key 3\nprint(punch_labels[3])\n\n# Loop and print the value and it's respective key for each key value pair within punch_labels\nfor keys in punch_labels.keys():\n    print(punch_labels[keys] + ':' + str(keys))\n\n# Create a function the will output the following lists as a series of punches (using the punch_labels)\ncombo_one = [1,1,3,2,3,4]\nfor combo in combo_one:\n    print(punch_labels[combo])\ncombo_two = [1,1,3,2,3,\"4\"]\nfor combo in combo_two:\n    print(punch_labels[int(combo)])\ncombo_three = [1,1,3,5,3,4]\nfor combo in combo_three:\n    try:\n        print(punch_labels[int(combo)])\n    except:\n        print(f'Punch type {combo} not found, please check data entry.')\n\n    \n",
   "execution_count": null,
   "outputs": [
    {
     "name": "stdout",
     "text": "dict_keys([1, 2, 3, 4])\ndict_values(['Jab', 'Straight', 'Hook', 'Uppercut'])\nHook\nJab:1\nStraight:2\nHook:3\nUppercut:4\nJab\nJab\nHook\nStraight\nHook\nUppercut\nJab\nJab\nHook\nStraight\nHook\nUppercut\nJab\nJab\nHook\nPunch type 5 not found, please check data entry.\nHook\nUppercut\n",
     "output_type": "stream"
    }
   ]
  },
  {
   "cell_type": "markdown",
   "source": "### List of Dictionaries\n\n1. ##### Inspect the data within the `data` folder.\n2. ##### In this challenge we simply have a dataset containing all the goal scorers (and tallies) in the 2019/20 season.\n3. ##### You can see the same data in two different formats. One is `csv` (you can open it up in excel) and one is `json` (you can open it up in any plain text editor). If you have not heard of JSON data before, it is a common data storage/exchange format along with CSV and XML. You can get an indepth introduction to JSON with Pyhon [here](https://www.w3schools.com/python/python_json.asp) (if you havn't already).\n4. ##### JSON data shares similar if not identical data formats to Python e.g.",
   "metadata": {
    "tags": [],
    "cell_id": "00009-dd4bc043-6b4d-47b8-9d82-001d5ddfc8d4",
    "deepnote_cell_type": "markdown",
    "deepnote_cell_height": 245
   }
  },
  {
   "cell_type": "code",
   "metadata": {
    "tags": [],
    "cell_id": "00006-f8483929-78ce-4637-83c0-146444c0611d",
    "deepnote_to_be_reexecuted": false,
    "source_hash": "75e1365b",
    "execution_millis": 3,
    "execution_start": 1668533431015,
    "output_cleared": false,
    "deepnote_cell_type": "code",
    "deepnote_cell_height": 572.75
   },
   "source": "import json\n\ndata_file = open('data/epl_goals_19_20.json') # open data file from data folder\n\nepl_goals_databse = json.load(data_file) # deserialising json into native python format/data structures\n\n# Print the data type of the epl_goals_database\nprint(type(epl_goals_databse))\n\n# Print the second item within the epl_goals_database (should be Aubameyang)\nprint(epl_goals_databse[1])\n\n# Return the epl_goals_database only containing the first 3 items\nfirst_3 = epl_goals_databse[:3]\nprint(first_3)\n\n# Print the name and goals scored of the 10th player in the list\nprint(str(epl_goals_databse[9]['Player']) + \" \" + str(epl_goals_databse[9]['Stat']))\n\n# Loop through the list and print out the data for each dict as a newly formatted string, like so: Jamie Vardy, Leicester City, England (23) \n\n# Return a list of unique nationalities. Sort the list.\n",
   "execution_count": null,
   "outputs": [
    {
     "name": "stdout",
     "text": "<class 'list'>\n{'Rank': 2.0, 'Player': 'Pierre-Emerick Aubameyang', 'Club': 'Arsenal', 'Nationality': 'Gabon', 'Stat': 22}\n[{'Rank': 1.0, 'Player': 'Jamie Vardy', 'Club': 'Leicester City', 'Nationality': 'England', 'Stat': 23}, {'Rank': 2.0, 'Player': 'Pierre-Emerick Aubameyang', 'Club': 'Arsenal', 'Nationality': 'Gabon', 'Stat': 22}, {'Rank': 2.0, 'Player': 'Danny Ings', 'Club': 'Southampton', 'Nationality': 'England', 'Stat': 22}]\nMarcus Rashford 17\n",
     "output_type": "stream"
    }
   ]
  },
  {
   "cell_type": "code",
   "metadata": {
    "tags": [],
    "cell_id": "00012-c0db9825-5396-4154-bdc6-da16410dd8b3",
    "is_code_hidden": false,
    "deepnote_to_be_reexecuted": false,
    "source_hash": "7f99c7cf",
    "execution_start": 1651742863464,
    "execution_millis": 385,
    "deepnote_cell_type": "code",
    "deepnote_cell_height": 702,
    "deepnote_output_heights": [
     610
    ]
   },
   "source": "sorted(list(set([epl_goals_obj['Nationality'] for epl_goals_obj in epl_goals_databse])))",
   "execution_count": null,
   "outputs": [
    {
     "output_type": "execute_result",
     "execution_count": 7,
     "data": {
      "text/plain": "['Algeria',\n 'Argentina',\n 'Australia',\n 'Austria',\n 'Belgium',\n 'Bosnia And Herzegovina',\n 'Brazil',\n 'Cameroon',\n 'Colombia',\n \"Cote D'Ivoire\",\n 'Croatia',\n 'Cuba',\n 'Czech Republic',\n 'Denmark',\n 'Egypt',\n 'England',\n 'Finland',\n 'France',\n 'Gabon',\n 'Germany',\n 'Ghana',\n 'Greece',\n 'Guinea',\n 'Iceland',\n 'Iran',\n 'Ireland',\n 'Italy',\n 'Mali',\n 'Mexico',\n 'Morocco',\n 'Netherlands',\n 'New Zealand',\n 'Nigeria',\n 'Northern Ireland',\n 'Norway',\n 'Paraguay',\n 'Poland',\n 'Portugal',\n 'Romania',\n 'Scotland',\n 'Senegal',\n 'Serbia',\n 'South Korea',\n 'Spain',\n 'Sweden',\n 'Switzerland',\n 'Tanzania',\n 'Turkey',\n 'Ukraine',\n 'United States',\n 'Uruguay',\n 'Wales']"
     },
     "metadata": {}
    }
   ]
  },
  {
   "cell_type": "markdown",
   "source": "<a style='text-decoration:none;line-height:16px;display:flex;color:#5B5B62;padding:10px;justify-content:end;' href='https://deepnote.com?utm_source=created-in-deepnote-cell&projectId=82522c04-b10e-4808-ba92-f37909eae5ea' target=\"_blank\">\n<img alt='Created in deepnote.com' style='display:inline;max-height:16px;margin:0px;margin-right:7.5px;' src='data:image/svg+xml;base64,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' > </img>\nCreated in <span style='font-weight:600;margin-left:4px;'>Deepnote</span></a>",
   "metadata": {
    "tags": [],
    "created_in_deepnote_cell": true,
    "deepnote_cell_type": "markdown"
   }
  }
 ],
 "nbformat": 4,
 "nbformat_minor": 2,
 "metadata": {
  "orig_nbformat": 2,
  "deepnote_notebook_id": "fb188d89-ca2d-494c-b275-13369e09dcd4",
  "deepnote_execution_queue": [],
  "deepnote": {}
 }
}