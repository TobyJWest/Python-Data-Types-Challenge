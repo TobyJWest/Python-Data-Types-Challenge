{
 "cells": [
  {
   "cell_type": "markdown",
   "source": "## Power10 Rankings Challenge\n\n> **Start** by hitting the ```Run notebook``` button. If you don't quite get how the data is getting into the dataframe, no problems, this challenge is solely based on ***cleaning*** up Pandas **dataframes**.\n",
   "metadata": {
    "tags": [],
    "cell_id": "00000-3a20586e-07e5-4ab8-a451-62498bffd550",
    "output_cleared": false,
    "deepnote_cell_type": "markdown",
    "deepnote_cell_height": 144.78125
   }
  },
  {
   "cell_type": "code",
   "source": "import pandas as pd\n\nurl = \"https://www.thepowerof10.info/rankings/rankinglist.aspx?event=100&agegroup=ALL&sex=W&year=2020\"\n\ndfs = pd.read_html(url) # will return list of all tables within html as Pandas DataFrames\n\nlen(dfs) # pandas has returned 5 possible data tables from HTML Page.\n\ndfs[3] # using browser inspector and by outputting all tables (e.g. dfs[0]) individually, you'll find that the 4th ([3]) table is the table with the data.",
   "metadata": {
    "cell_id": "00000-24036894-b972-4c5d-ad3a-7b03dffe0458",
    "output_cleared": false,
    "source_hash": "632e2c14",
    "execution_millis": 1655,
    "execution_start": 1671211960942,
    "deepnote_to_be_reexecuted": false,
    "deepnote_table_state": {
     "pageSize": 10,
     "pageIndex": 0,
     "filters": [],
     "sortBy": []
    },
    "deepnote_table_loading": false,
    "deepnote_cell_type": "code",
    "deepnote_cell_height": 761
   },
   "execution_count": 1,
   "outputs": [
    {
     "output_type": "execute_result",
     "execution_count": 1,
     "data": {
      "application/vnd.deepnote.dataframe.v3+json": {
       "column_count": 14,
       "row_count": 470,
       "columns": [
        {
         "name": 0,
         "dtype": "object",
         "stats": {
          "unique_count": 138,
          "nan_count": 115,
          "categories": [
           {
            "name": "294",
            "count": 11
           },
           {
            "name": "137 others",
            "count": 344
           },
           {
            "name": "Missing",
            "count": 115
           }
          ]
         }
        },
        {
         "name": 1,
         "dtype": "object",
         "stats": {
          "unique_count": 152,
          "nan_count": 0,
          "categories": [
           {
            "name": "13.1",
            "count": 11
           },
           {
            "name": "13.0",
            "count": 10
           },
           {
            "name": "150 others",
            "count": 449
           }
          ]
         }
        },
        {
         "name": 2,
         "dtype": "object",
         "stats": {
          "unique_count": 7,
          "nan_count": 369,
          "categories": [
           {
            "name": "w",
            "count": 95
           },
           {
            "name": "6 others",
            "count": 6
           },
           {
            "name": "Missing",
            "count": 369
           }
          ]
         }
        },
        {
         "name": 3,
         "dtype": "object",
         "stats": {
          "unique_count": 71,
          "nan_count": 38,
          "categories": [
           {
            "name": "0.0",
            "count": 17
           },
           {
            "name": "70 others",
            "count": 415
           },
           {
            "name": "Missing",
            "count": 38
           }
          ]
         }
        },
        {
         "name": 4,
         "dtype": "object",
         "stats": {
          "unique_count": 226,
          "nan_count": 105,
          "categories": [
           {
            "name": "12.32",
            "count": 5
           },
           {
            "name": "225 others",
            "count": 360
           },
           {
            "name": "Missing",
            "count": 105
           }
          ]
         }
        },
        {
         "name": 5,
         "dtype": "object",
         "stats": {
          "unique_count": 7,
          "nan_count": 393,
          "categories": [
           {
            "name": "PB",
            "count": 71
           },
           {
            "name": "6 others",
            "count": 6
           },
           {
            "name": "Missing",
            "count": 393
           }
          ]
         }
        },
        {
         "name": 6,
         "dtype": "object",
         "stats": {
          "unique_count": 365,
          "nan_count": 105,
          "categories": [
           {
            "name": "100 Women Overall 2020 to 13.2 (Auto timed only to 11.99)",
            "count": 1
           },
           {
            "name": "364 others",
            "count": 364
           },
           {
            "name": "Missing",
            "count": 105
           }
          ]
         }
        },
        {
         "name": 7,
         "dtype": "object",
         "stats": {
          "unique_count": 12,
          "nan_count": 140,
          "categories": [
           {
            "name": "U17",
            "count": 114
           },
           {
            "name": "11 others",
            "count": 216
           },
           {
            "name": "Missing",
            "count": 140
           }
          ]
         }
        },
        {
         "name": 8,
         "dtype": "object",
         "stats": {
          "unique_count": 31,
          "nan_count": 106,
          "categories": [
           {
            "name": "-8",
            "count": 57
           },
           {
            "name": "30 others",
            "count": 307
           },
           {
            "name": "Missing",
            "count": 106
           }
          ]
         }
        },
        {
         "name": 9,
         "dtype": "object",
         "stats": {
          "unique_count": 182,
          "nan_count": 202,
          "categories": [
           {
            "name": "Paul Weston",
            "count": 9
           },
           {
            "name": "181 others",
            "count": 259
           },
           {
            "name": "Missing",
            "count": 202
           }
          ]
         }
        },
        {
         "name": 10,
         "dtype": "object",
         "stats": {
          "unique_count": 158,
          "nan_count": 105,
          "categories": [
           {
            "name": "Gateshead",
            "count": 16
           },
           {
            "name": "157 others",
            "count": 349
           },
           {
            "name": "Missing",
            "count": 105
           }
          ]
         }
        },
        {
         "name": 11,
         "dtype": "object",
         "stats": {
          "unique_count": 71,
          "nan_count": 0,
          "categories": [
           {
            "name": "Chelmsford",
            "count": 51
           },
           {
            "name": "Nuneaton",
            "count": 43
           },
           {
            "name": "69 others",
            "count": 376
           }
          ]
         }
        },
        {
         "name": 12,
         "dtype": "object",
         "stats": {
          "unique_count": 57,
          "nan_count": 0,
          "categories": [
           {
            "name": "23 Aug 20",
            "count": 57
           },
           {
            "name": "29 Aug 20",
            "count": 42
           },
           {
            "name": "55 others",
            "count": 371
           }
          ]
         }
        },
        {
         "name": 13,
         "dtype": "object",
         "stats": {
          "unique_count": 6,
          "nan_count": 464,
          "categories": [
           {
            "name": "Head to Head Top 10",
            "count": 1
           },
           {
            "name": "5 others",
            "count": 5
           },
           {
            "name": "Missing",
            "count": 464
           }
          ]
         }
        },
        {
         "name": "_deepnote_index_column",
         "dtype": "int64"
        }
       ],
       "rows": [
        {
         "0": "100 Women Overall 2020 to 13.2 (Auto timed only to 11.99)",
         "1": "100 Women Overall 2020 to 13.2 (Auto timed only to 11.99)",
         "2": "100 Women Overall 2020 to 13.2 (Auto timed only to 11.99)",
         "3": "100 Women Overall 2020 to 13.2 (Auto timed only to 11.99)",
         "4": "100 Women Overall 2020 to 13.2 (Auto timed only to 11.99)",
         "5": "100 Women Overall 2020 to 13.2 (Auto timed only to 11.99)",
         "6": "100 Women Overall 2020 to 13.2 (Auto timed only to 11.99)",
         "7": "100 Women Overall 2020 to 13.2 (Auto timed only to 11.99)",
         "8": "100 Women Overall 2020 to 13.2 (Auto timed only to 11.99)",
         "9": "100 Women Overall 2020 to 13.2 (Auto timed only to 11.99)",
         "10": "Head to Head Top 10",
         "11": "Head to Head Top 10",
         "12": "Head to Head Top 10",
         "13": "Head to Head Top 10",
         "_deepnote_index_column": "0"
        },
        {
         "0": "Rank",
         "1": "Perf",
         "2": "nan",
         "3": "nan",
         "4": "PB",
         "5": "nan",
         "6": "Name",
         "7": "nan",
         "8": "Year",
         "9": "Coach",
         "10": "Club",
         "11": "Venue",
         "12": "Date",
         "13": "nan",
         "_deepnote_index_column": "1"
        },
        {
         "0": "1",
         "1": "11.16",
         "2": "nan",
         "3": "0.1",
         "4": "11.09",
         "5": "nan",
         "6": "Imani Lansiquot",
         "7": "nan",
         "8": "1",
         "9": "Steve Fudge",
         "10": "Sutton & District",
         "11": "Leverkusen, GER",
         "12": "16 Aug 20",
         "13": "nan",
         "_deepnote_index_column": "2"
        },
        {
         "0": "2",
         "1": "11.27",
         "2": "nan",
         "3": "0.0",
         "4": "11.16",
         "5": "nan",
         "6": "Kristal Awuah",
         "7": "U23",
         "8": "-2",
         "9": "Matthew Thomas",
         "10": "Herne Hill",
         "11": "Doha, QAT",
         "12": "25 Sep 20",
         "13": "nan",
         "_deepnote_index_column": "3"
        },
        {
         "0": "3",
         "1": "11.31",
         "2": "nan",
         "3": "1.3",
         "4": "10.90",
         "5": "nan",
         "6": "Daryll Neita",
         "7": "nan",
         "8": "2",
         "9": "Rana Reider",
         "10": "Cambridge H",
         "11": "Bydgoszcz, POL",
         "12": "19 Aug 20",
         "13": "nan",
         "_deepnote_index_column": "4"
        },
        {
         "0": "UK 10 TARGET: 11.35",
         "1": "UK 10 TARGET: 11.35",
         "2": "UK 10 TARGET: 11.35",
         "3": "UK 10 TARGET: 11.35",
         "4": "UK 10 TARGET: 11.35",
         "5": "UK 10 TARGET: 11.35",
         "6": "UK 10 TARGET: 11.35",
         "7": "UK 10 TARGET: 11.35",
         "8": "UK 10 TARGET: 11.35",
         "9": "UK 10 TARGET: 11.35",
         "10": "UK 10 TARGET: 11.35",
         "11": "UK 10 TARGET: 11.35",
         "12": "UK 10 TARGET: 11.35",
         "13": "UK 10 TARGET: 11.35",
         "_deepnote_index_column": "5"
        },
        {
         "0": "4",
         "1": "11.39",
         "2": "nan",
         "3": "1.8",
         "4": "11.31",
         "5": "nan",
         "6": "Amy Hunt",
         "7": "U20",
         "8": "-5",
         "9": "Joseph McDonnell âï¸",
         "10": "Charnwood",
         "11": "GÃ¶teborg, SWE",
         "12": "29 Aug 20",
         "13": "nan",
         "_deepnote_index_column": "6"
        },
        {
         "0": "nan",
         "1": "11.35",
         "2": "w",
         "3": "2.1",
         "4": "nan",
         "5": "nan",
         "6": "nan",
         "7": "nan",
         "8": "nan",
         "9": "nan",
         "10": "nan",
         "11": "Sportcity",
         "12": "4 Sep 20",
         "13": "nan",
         "_deepnote_index_column": "7"
        },
        {
         "0": "5",
         "1": "11.71",
         "2": "nan",
         "3": "1.1",
         "4": "11.36",
         "5": "nan",
         "6": "Nia Wedderburn-Goodison",
         "7": "U17",
         "8": "-8",
         "9": "nan",
         "10": "Harrow",
         "11": "Dagenham",
         "12": "23 Aug 20",
         "13": "nan",
         "_deepnote_index_column": "8"
        },
        {
         "0": "nan",
         "1": "11.60",
         "2": "w",
         "3": "3.2",
         "4": "nan",
         "5": "nan",
         "6": "nan",
         "7": "nan",
         "8": "nan",
         "9": "nan",
         "10": "nan",
         "11": "Dagenham",
         "12": "23 Aug 20",
         "13": "nan",
         "_deepnote_index_column": "9"
        }
       ]
      },
      "text/plain": "                                                    0   \\\n0    100 Women Overall 2020 to 13.2 (Auto timed onl...   \n1                                                 Rank   \n2                                                    1   \n3                                                    2   \n4                                                    3   \n..                                                 ...   \n465                                                NaN   \n466                                                NaN   \n467                                                NaN   \n468                                                NaN   \n469                                                NaN   \n\n                                                    1   \\\n0    100 Women Overall 2020 to 13.2 (Auto timed onl...   \n1                                                 Perf   \n2                                                11.16   \n3                                                11.27   \n4                                                11.31   \n..                                                 ...   \n465                                              12.74   \n466                                              12.71   \n467                                              12.75   \n468                                               12.9   \n469                                              12.91   \n\n                                                    2   \\\n0    100 Women Overall 2020 to 13.2 (Auto timed onl...   \n1                                                  NaN   \n2                                                  NaN   \n3                                                  NaN   \n4                                                  NaN   \n..                                                 ...   \n465                                                NaN   \n466                                                  w   \n467                                                NaN   \n468                                                NaN   \n469                                                NaN   \n\n                                                    3   \\\n0    100 Women Overall 2020 to 13.2 (Auto timed onl...   \n1                                                  NaN   \n2                                                  0.1   \n3                                                  0.0   \n4                                                  1.3   \n..                                                 ...   \n465                                               -0.5   \n466                                                2.1   \n467                                                0.0   \n468                                               -0.7   \n469                                                0.1   \n\n                                                    4   \\\n0    100 Women Overall 2020 to 13.2 (Auto timed onl...   \n1                                                   PB   \n2                                                11.09   \n3                                                11.16   \n4                                                10.90   \n..                                                 ...   \n465                                              12.23   \n466                                                NaN   \n467                                         12.52/12.5   \n468                                         12.99/12.8   \n469                                         12.90/12.8   \n\n                                                    5   \\\n0    100 Women Overall 2020 to 13.2 (Auto timed onl...   \n1                                                  NaN   \n2                                                  NaN   \n3                                                  NaN   \n4                                                  NaN   \n..                                                 ...   \n465                                                NaN   \n466                                                NaN   \n467                                                NaN   \n468                                                NaN   \n469                                                NaN   \n\n                                                    6   \\\n0    100 Women Overall 2020 to 13.2 (Auto timed onl...   \n1                                                 Name   \n2                                      Imani Lansiquot   \n3                                        Kristal Awuah   \n4                                         Daryll Neita   \n..                                                 ...   \n465                                      Praise Owoeye   \n466                                                NaN   \n467                                   Synne Frydenlund   \n468                                     Chiara Ramponi   \n469                                     Vanessa Ansuaa   \n\n                                                    7   \\\n0    100 Women Overall 2020 to 13.2 (Auto timed onl...   \n1                                                  NaN   \n2                                                  NaN   \n3                                                  U23   \n4                                                  NaN   \n..                                                 ...   \n465                                                U20   \n466                                                NaN   \n467                                                NaN   \n468                                                U23   \n469                                                U20   \n\n                                                    8   \\\n0    100 Women Overall 2020 to 13.2 (Auto timed onl...   \n1                                                 Year   \n2                                                    1   \n3                                                   -2   \n4                                                    2   \n..                                                 ...   \n465                                                 -6   \n466                                                NaN   \n467                                                  1   \n468                                                 -2   \n469                                                 -6   \n\n                                                    9   \\\n0    100 Women Overall 2020 to 13.2 (Auto timed onl...   \n1                                                Coach   \n2                                          Steve Fudge   \n3                                       Matthew Thomas   \n4                                          Rana Reider   \n..                                                 ...   \n465                                   Anita Richardson   \n466                                                NaN   \n467                               Laura Turner-Alleyne   \n468                                    Iheanyi Ihediwa   \n469                                       Craig Andrew   \n\n                           10                   11                   12  \\\n0         Head to Head Top 10  Head to Head Top 10  Head to Head Top 10   \n1                        Club                Venue                 Date   \n2           Sutton & District      Leverkusen, GER            16 Aug 20   \n3                  Herne Hill            Doha, QAT            25 Sep 20   \n4                 Cambridge H       Bydgoszcz, POL            19 Aug 20   \n..                        ...                  ...                  ...   \n465  Sale Harriers Manchester            Stretford            29 Aug 20   \n466                       NaN            Stretford            15 Aug 20   \n467                    Harrow             Worthing            11 Aug 20   \n468                  Trafford            Stretford             1 Aug 20   \n469        Shaftesbury Barnet           Lee Valley             2 Aug 20   \n\n                      13  \n0    Head to Head Top 10  \n1                    NaN  \n2                    NaN  \n3                    NaN  \n4                    NaN  \n..                   ...  \n465                  NaN  \n466                  NaN  \n467                  NaN  \n468                  NaN  \n469                  NaN  \n\n[470 rows x 14 columns]",
      "text/html": "<div>\n<style scoped>\n    .dataframe tbody tr th:only-of-type {\n        vertical-align: middle;\n    }\n\n    .dataframe tbody tr th {\n        vertical-align: top;\n    }\n\n    .dataframe thead th {\n        text-align: right;\n    }\n</style>\n<table border=\"1\" class=\"dataframe\">\n  <thead>\n    <tr style=\"text-align: right;\">\n      <th></th>\n      <th>0</th>\n      <th>1</th>\n      <th>2</th>\n      <th>3</th>\n      <th>4</th>\n      <th>5</th>\n      <th>6</th>\n      <th>7</th>\n      <th>8</th>\n      <th>9</th>\n      <th>10</th>\n      <th>11</th>\n      <th>12</th>\n      <th>13</th>\n    </tr>\n  </thead>\n  <tbody>\n    <tr>\n      <th>0</th>\n      <td>100 Women Overall 2020 to 13.2 (Auto timed onl...</td>\n      <td>100 Women Overall 2020 to 13.2 (Auto timed onl...</td>\n      <td>100 Women Overall 2020 to 13.2 (Auto timed onl...</td>\n      <td>100 Women Overall 2020 to 13.2 (Auto timed onl...</td>\n      <td>100 Women Overall 2020 to 13.2 (Auto timed onl...</td>\n      <td>100 Women Overall 2020 to 13.2 (Auto timed onl...</td>\n      <td>100 Women Overall 2020 to 13.2 (Auto timed onl...</td>\n      <td>100 Women Overall 2020 to 13.2 (Auto timed onl...</td>\n      <td>100 Women Overall 2020 to 13.2 (Auto timed onl...</td>\n      <td>100 Women Overall 2020 to 13.2 (Auto timed onl...</td>\n      <td>Head to Head Top 10</td>\n      <td>Head to Head Top 10</td>\n      <td>Head to Head Top 10</td>\n      <td>Head to Head Top 10</td>\n    </tr>\n    <tr>\n      <th>1</th>\n      <td>Rank</td>\n      <td>Perf</td>\n      <td>NaN</td>\n      <td>NaN</td>\n      <td>PB</td>\n      <td>NaN</td>\n      <td>Name</td>\n      <td>NaN</td>\n      <td>Year</td>\n      <td>Coach</td>\n      <td>Club</td>\n      <td>Venue</td>\n      <td>Date</td>\n      <td>NaN</td>\n    </tr>\n    <tr>\n      <th>2</th>\n      <td>1</td>\n      <td>11.16</td>\n      <td>NaN</td>\n      <td>0.1</td>\n      <td>11.09</td>\n      <td>NaN</td>\n      <td>Imani Lansiquot</td>\n      <td>NaN</td>\n      <td>1</td>\n      <td>Steve Fudge</td>\n      <td>Sutton &amp; District</td>\n      <td>Leverkusen, GER</td>\n      <td>16 Aug 20</td>\n      <td>NaN</td>\n    </tr>\n    <tr>\n      <th>3</th>\n      <td>2</td>\n      <td>11.27</td>\n      <td>NaN</td>\n      <td>0.0</td>\n      <td>11.16</td>\n      <td>NaN</td>\n      <td>Kristal Awuah</td>\n      <td>U23</td>\n      <td>-2</td>\n      <td>Matthew Thomas</td>\n      <td>Herne Hill</td>\n      <td>Doha, QAT</td>\n      <td>25 Sep 20</td>\n      <td>NaN</td>\n    </tr>\n    <tr>\n      <th>4</th>\n      <td>3</td>\n      <td>11.31</td>\n      <td>NaN</td>\n      <td>1.3</td>\n      <td>10.90</td>\n      <td>NaN</td>\n      <td>Daryll Neita</td>\n      <td>NaN</td>\n      <td>2</td>\n      <td>Rana Reider</td>\n      <td>Cambridge H</td>\n      <td>Bydgoszcz, POL</td>\n      <td>19 Aug 20</td>\n      <td>NaN</td>\n    </tr>\n    <tr>\n      <th>...</th>\n      <td>...</td>\n      <td>...</td>\n      <td>...</td>\n      <td>...</td>\n      <td>...</td>\n      <td>...</td>\n      <td>...</td>\n      <td>...</td>\n      <td>...</td>\n      <td>...</td>\n      <td>...</td>\n      <td>...</td>\n      <td>...</td>\n      <td>...</td>\n    </tr>\n    <tr>\n      <th>465</th>\n      <td>NaN</td>\n      <td>12.74</td>\n      <td>NaN</td>\n      <td>-0.5</td>\n      <td>12.23</td>\n      <td>NaN</td>\n      <td>Praise Owoeye</td>\n      <td>U20</td>\n      <td>-6</td>\n      <td>Anita Richardson</td>\n      <td>Sale Harriers Manchester</td>\n      <td>Stretford</td>\n      <td>29 Aug 20</td>\n      <td>NaN</td>\n    </tr>\n    <tr>\n      <th>466</th>\n      <td>NaN</td>\n      <td>12.71</td>\n      <td>w</td>\n      <td>2.1</td>\n      <td>NaN</td>\n      <td>NaN</td>\n      <td>NaN</td>\n      <td>NaN</td>\n      <td>NaN</td>\n      <td>NaN</td>\n      <td>NaN</td>\n      <td>Stretford</td>\n      <td>15 Aug 20</td>\n      <td>NaN</td>\n    </tr>\n    <tr>\n      <th>467</th>\n      <td>NaN</td>\n      <td>12.75</td>\n      <td>NaN</td>\n      <td>0.0</td>\n      <td>12.52/12.5</td>\n      <td>NaN</td>\n      <td>Synne Frydenlund</td>\n      <td>NaN</td>\n      <td>1</td>\n      <td>Laura Turner-Alleyne</td>\n      <td>Harrow</td>\n      <td>Worthing</td>\n      <td>11 Aug 20</td>\n      <td>NaN</td>\n    </tr>\n    <tr>\n      <th>468</th>\n      <td>NaN</td>\n      <td>12.9</td>\n      <td>NaN</td>\n      <td>-0.7</td>\n      <td>12.99/12.8</td>\n      <td>NaN</td>\n      <td>Chiara Ramponi</td>\n      <td>U23</td>\n      <td>-2</td>\n      <td>Iheanyi Ihediwa</td>\n      <td>Trafford</td>\n      <td>Stretford</td>\n      <td>1 Aug 20</td>\n      <td>NaN</td>\n    </tr>\n    <tr>\n      <th>469</th>\n      <td>NaN</td>\n      <td>12.91</td>\n      <td>NaN</td>\n      <td>0.1</td>\n      <td>12.90/12.8</td>\n      <td>NaN</td>\n      <td>Vanessa Ansuaa</td>\n      <td>U20</td>\n      <td>-6</td>\n      <td>Craig Andrew</td>\n      <td>Shaftesbury Barnet</td>\n      <td>Lee Valley</td>\n      <td>2 Aug 20</td>\n      <td>NaN</td>\n    </tr>\n  </tbody>\n</table>\n<p>470 rows × 14 columns</p>\n</div>"
     },
     "metadata": {}
    }
   ]
  },
  {
   "cell_type": "markdown",
   "source": "## Your task is to clean up the data and write the data into a new CSV file!\n> Tips and things to look out for below:\n\nGeneral\n+ Have a look at the [actual table](https://www.thepowerof10.info/rankings/rankinglist.aspx?event=100&agegroup=ALL&sex=W&year=2020) you are trying to scrape.\n+ Inspect and explore the raw dataframe, make a list of things you'll want to do and order or reorder them as you go along. It should help if you create a separate code cell for each step and version control your work once you have achieved something.\n\nDataFrame Specific\n+ The headers are actually on the 2nd row down.\n+ Start with the first column (the `Rank` column), there is alot you can clean up just by removing non numeric values ;)\n+ There is a section of Resident Non UK Athletes and their results at the end of the table you can ignore.\n+ Some athletes have more than one result (normally due to them having a windy time) and these wont have a value in the `Rank` column...you can ignore them.\n+ The `Date` data type is an ```object``` (string), you'll want a datatime object too.\n+ There are columns that you will want to keep but contain a lot of `NaN` values. Make sure you replace them with a ***default*** value (even an empty string `''`).\n+ There is no indication of `sport`, `event` or `gender`. Having a column with the same values for each row is better than having nothing that gives the data some context.\n\nTo start you off...\n+ You can inspect all unique values in the `Rank` column like so:",
   "metadata": {
    "tags": [],
    "cell_id": "00004-1c175b94-24e7-4603-bb38-458192d2586a",
    "output_cleared": false,
    "deepnote_cell_type": "markdown",
    "deepnote_cell_height": 648.03125
   }
  },
  {
   "cell_type": "code",
   "source": "## remove row 1 ##\ndf = dfs[3]\ndf.drop(index=df.index[0], \n        axis=0, \n        inplace=True)\n\n## promote 1st row to header ##\nnew_header = df.iloc[0] #grab the first row for the header\ndf = df[1:] #take the data less the header row\ndf.columns = new_header #set the header row as the df header\n\n## df['Rank'].unique()##  #Output all unique values in first (0) column - Can see this column comprises of data numbers and text Drop rows where value is not an integer\n##so... non integers from columns ##\ndf = df[pd.to_numeric(df['Rank'], errors='coerce').notnull()]\n\n## df['Rank'].unique() ##  #Now all items are numeric \n\n##remove emoji's from Name and Coach columns##\ndf['Coach'] = df['Coach'].replace('[^a-zA-Z0-9 ]', '', regex=True)\ndf['Name'] = df['Name'].replace('[^a-zA-Z0-9 ]', '', regex=True)\n\n##change Date column from object to datetime - have to use b instead of m as it's letters not numbers, and small y rather than big Y as year is 2 numbers not 4 ## \ndf['Date'] = pd.to_datetime(df['Date'], format='%d %b %y')\n#How to get rid of 00:00:00 - or doesn't it matter? ##\n\n##removes columsn with all nan values (100% missing / 'nan')##\ndf=df.dropna(axis=1,how='all')\n##replace all nan values with blanks##\ndf=df.fillna('')\n##write data to csv##\ndf.to_csv('/work/4.Power10 Rankings Challenge/data/Power10_cleaned.csv')\ndf\n\n\n",
   "metadata": {
    "cell_id": "e6d0ec1a98eb4e0982b0748c5639cbd5",
    "tags": [],
    "deepnote_to_be_reexecuted": false,
    "source_hash": "5a453696",
    "execution_start": 1671211962598,
    "execution_millis": 67,
    "deepnote_table_state": {
     "pageSize": 10,
     "pageIndex": 0,
     "filters": [],
     "sortBy": []
    },
    "deepnote_table_loading": false,
    "deepnote_table_invalid": false,
    "deepnote_cell_type": "code",
    "deepnote_cell_height": 1229,
    "deepnote_output_heights": [
     606,
     231.25
    ]
   },
   "outputs": [
    {
     "output_type": "execute_result",
     "execution_count": 2,
     "data": {
      "application/vnd.deepnote.dataframe.v3+json": {
       "column_count": 12,
       "row_count": 348,
       "columns": [
        {
         "name": "Rank",
         "dtype": "object",
         "stats": {
          "unique_count": 131,
          "nan_count": 0,
          "categories": [
           {
            "name": "294",
            "count": 11
           },
           {
            "name": "248",
            "count": 10
           },
           {
            "name": "129 others",
            "count": 327
           }
          ]
         }
        },
        {
         "name": "Perf",
         "dtype": "object",
         "stats": {
          "unique_count": 131,
          "nan_count": 0,
          "categories": [
           {
            "name": "13.1",
            "count": 11
           },
           {
            "name": "13.0",
            "count": 10
           },
           {
            "name": "129 others",
            "count": 327
           }
          ]
         }
        },
        {
         "name": "nan",
         "dtype": "object",
         "stats": {
          "unique_count": 46,
          "nan_count": 0,
          "categories": [
           {
            "name": "",
            "count": 36
           },
           {
            "name": "0.0",
            "count": 15
           },
           {
            "name": "44 others",
            "count": 297
           }
          ]
         }
        },
        {
         "name": "PB",
         "dtype": "object",
         "stats": {
          "unique_count": 215,
          "nan_count": 0,
          "categories": [
           {
            "name": "12.32",
            "count": 5
           },
           {
            "name": "12.46",
            "count": 5
           },
           {
            "name": "213 others",
            "count": 338
           }
          ]
         }
        },
        {
         "name": "nan.1",
         "dtype": "object",
         "stats": {
          "unique_count": 2,
          "nan_count": 0,
          "categories": [
           {
            "name": "",
            "count": 280
           },
           {
            "name": "PB",
            "count": 68
           }
          ]
         }
        },
        {
         "name": "Name",
         "dtype": "object",
         "stats": {
          "unique_count": 348,
          "nan_count": 0,
          "categories": [
           {
            "name": "Imani Lansiquot",
            "count": 1
           },
           {
            "name": "Kristal Awuah",
            "count": 1
           },
           {
            "name": "346 others",
            "count": 346
           }
          ]
         }
        },
        {
         "name": "nan.2",
         "dtype": "object",
         "stats": {
          "unique_count": 7,
          "nan_count": 0,
          "categories": [
           {
            "name": "U17",
            "count": 113
           },
           {
            "name": "U20",
            "count": 84
           },
           {
            "name": "5 others",
            "count": 151
           }
          ]
         }
        },
        {
         "name": "Year",
         "dtype": "object",
         "stats": {
          "unique_count": 25,
          "nan_count": 0,
          "categories": [
           {
            "name": "-8",
            "count": 57
           },
           {
            "name": "-7",
            "count": 54
           },
           {
            "name": "23 others",
            "count": 237
           }
          ]
         }
        },
        {
         "name": "Coach",
         "dtype": "object",
         "stats": {
          "unique_count": 173,
          "nan_count": 0,
          "categories": [
           {
            "name": "",
            "count": 95
           },
           {
            "name": "Paul Weston",
            "count": 9
           },
           {
            "name": "171 others",
            "count": 244
           }
          ]
         }
        },
        {
         "name": "Club",
         "dtype": "object",
         "stats": {
          "unique_count": 150,
          "nan_count": 0,
          "categories": [
           {
            "name": "Gateshead",
            "count": 16
           },
           {
            "name": "Croydon",
            "count": 11
           },
           {
            "name": "148 others",
            "count": 321
           }
          ]
         }
        },
        {
         "name": "Venue",
         "dtype": "object",
         "stats": {
          "unique_count": 57,
          "nan_count": 0,
          "categories": [
           {
            "name": "Nuneaton",
            "count": 36
           },
           {
            "name": "Stretford",
            "count": 35
           },
           {
            "name": "55 others",
            "count": 277
           }
          ]
         }
        },
        {
         "name": "Date",
         "dtype": "datetime64[ns]",
         "stats": {
          "unique_count": 46,
          "nan_count": 0,
          "min": "2020-03-07 00:00:00",
          "max": "2020-10-17 00:00:00",
          "histogram": [
           {
            "bin_start": 1583539200000000000,
            "bin_end": 1585474560000000000,
            "count": 3
           },
           {
            "bin_start": 1585474560000000000,
            "bin_end": 1587409920000000000,
            "count": 0
           },
           {
            "bin_start": 1587409920000000000,
            "bin_end": 1589345280000000000,
            "count": 0
           },
           {
            "bin_start": 1589345280000000000,
            "bin_end": 1591280640000000000,
            "count": 0
           },
           {
            "bin_start": 1591280640000000000,
            "bin_end": 1593216000000000000,
            "count": 0
           },
           {
            "bin_start": 1593216000000000000,
            "bin_end": 1595151360000000000,
            "count": 11
           },
           {
            "bin_start": 1595151360000000000,
            "bin_end": 1597086720000000000,
            "count": 43
           },
           {
            "bin_start": 1597086720000000000,
            "bin_end": 1599022080000000000,
            "count": 166
           },
           {
            "bin_start": 1599022080000000000,
            "bin_end": 1600957440000000000,
            "count": 102
           },
           {
            "bin_start": 1600957440000000000,
            "bin_end": 1602892800000000000,
            "count": 23
           }
          ]
         }
        },
        {
         "name": "_deepnote_index_column",
         "dtype": "int64"
        }
       ],
       "rows": [
        {
         "Rank": "1",
         "Perf": "11.16",
         "nan": "0.1",
         "PB": "11.09",
         "nan.1": "",
         "Name": "Imani Lansiquot",
         "nan.2": "",
         "Year": "1",
         "Coach": "Steve Fudge",
         "Club": "Sutton & District",
         "Venue": "Leverkusen, GER",
         "Date": "2020-08-16 00:00:00",
         "_deepnote_index_column": "2"
        },
        {
         "Rank": "2",
         "Perf": "11.27",
         "nan": "0.0",
         "PB": "11.16",
         "nan.1": "",
         "Name": "Kristal Awuah",
         "nan.2": "U23",
         "Year": "-2",
         "Coach": "Matthew Thomas",
         "Club": "Herne Hill",
         "Venue": "Doha, QAT",
         "Date": "2020-09-25 00:00:00",
         "_deepnote_index_column": "3"
        },
        {
         "Rank": "3",
         "Perf": "11.31",
         "nan": "1.3",
         "PB": "10.90",
         "nan.1": "",
         "Name": "Daryll Neita",
         "nan.2": "",
         "Year": "2",
         "Coach": "Rana Reider",
         "Club": "Cambridge H",
         "Venue": "Bydgoszcz, POL",
         "Date": "2020-08-19 00:00:00",
         "_deepnote_index_column": "4"
        },
        {
         "Rank": "4",
         "Perf": "11.39",
         "nan": "1.8",
         "PB": "11.31",
         "nan.1": "",
         "Name": "Amy Hunt",
         "nan.2": "U20",
         "Year": "-5",
         "Coach": "Joseph McDonnell ",
         "Club": "Charnwood",
         "Venue": "GÃ¶teborg, SWE",
         "Date": "2020-08-29 00:00:00",
         "_deepnote_index_column": "6"
        },
        {
         "Rank": "5",
         "Perf": "11.71",
         "nan": "1.1",
         "PB": "11.36",
         "nan.1": "",
         "Name": "Nia WedderburnGoodison",
         "nan.2": "U17",
         "Year": "-8",
         "Coach": "",
         "Club": "Harrow",
         "Venue": "Dagenham",
         "Date": "2020-08-23 00:00:00",
         "_deepnote_index_column": "8"
        },
        {
         "Rank": "6",
         "Perf": "11.72",
         "nan": "2.0",
         "PB": "11.52",
         "nan.1": "",
         "Name": "Cheyanne EvansGray",
         "nan.2": "U23",
         "Year": "-1",
         "Coach": "Paul Weston",
         "Club": "Croydon",
         "Venue": "Stratford",
         "Date": "2020-09-06 00:00:00",
         "_deepnote_index_column": "10"
        },
        {
         "Rank": "7",
         "Perf": "11.74",
         "nan": "0.0",
         "PB": "11.39",
         "nan.1": "",
         "Name": "Cindy Sember",
         "nan.2": "",
         "Year": "4",
         "Coach": "",
         "Club": "Woodford Green Essex Ladies",
         "Venue": "Doha, QAT",
         "Date": "2020-09-25 00:00:00",
         "_deepnote_index_column": "12"
        },
        {
         "Rank": "8",
         "Perf": "11.80",
         "nan": "1.9",
         "PB": "11.69",
         "nan.1": "",
         "Name": "Success Eduan",
         "nan.2": "U17",
         "Year": "-7",
         "Coach": "Anita Richardson",
         "Club": "Sale Harriers Manchester",
         "Venue": "Stretford",
         "Date": "2020-08-15 00:00:00",
         "_deepnote_index_column": "13"
        },
        {
         "Rank": "9",
         "Perf": "11.81",
         "nan": "-2.5",
         "PB": "11.62",
         "nan.1": "",
         "Name": "Aleeya Sibbons",
         "nan.2": "U20",
         "Year": "-5",
         "Coach": "Coral Nourrice",
         "Club": "Newham & Essex Beagles",
         "Venue": "Chelmsford",
         "Date": "2020-08-30 00:00:00",
         "_deepnote_index_column": "14"
        },
        {
         "Rank": "10",
         "Perf": "11.82",
         "nan": "0.3",
         "PB": "11.82",
         "nan.1": "PB",
         "Name": "Nicola Caygill",
         "nan.2": "U23",
         "Year": "-3",
         "Coach": "",
         "Club": "Jarrow & Hebburn",
         "Venue": "Sportcity",
         "Date": "2020-09-04 00:00:00",
         "_deepnote_index_column": "16"
        }
       ]
      },
      "text/plain": "1   Rank   Perf  NaN          PB NaN                    Name  NaN Year  \\\n2      1  11.16  0.1       11.09             Imani Lansiquot         1   \n3      2  11.27  0.0       11.16               Kristal Awuah  U23   -2   \n4      3  11.31  1.3       10.90                Daryll Neita         2   \n6      4  11.39  1.8       11.31                    Amy Hunt  U20   -5   \n8      5  11.71  1.1       11.36      Nia WedderburnGoodison  U17   -8   \n..   ...    ...  ...         ...  ..                     ...  ...  ...   \n453  339   13.2             13.2  PB       SophiaReid Thomas  U15        \n454  339   13.2  1.5  13.92/13.2  PB         Kate Richardson  U15   -9   \n455  339   13.2  0.8  13.55/13.2  PB             Lynn Harvey  U20   -6   \n456  339   13.2       13.12/12.6                   Zoe Payne  U17   -8   \n457  339   13.2  0.0  12.83/12.8                   Eva Tyler  U15   -8   \n\n1                Coach               Club             Venue       Date  \n2          Steve Fudge  Sutton & District   Leverkusen, GER 2020-08-16  \n3       Matthew Thomas         Herne Hill         Doha, QAT 2020-09-25  \n4          Rana Reider        Cambridge H    Bydgoszcz, POL 2020-08-19  \n6    Joseph McDonnell           Charnwood    GÃ¶teborg, SWE 2020-08-29  \n8                                  Harrow          Dagenham 2020-08-23  \n..                 ...                ...               ...        ...  \n453                            Carmarthen         Whitehall 2020-09-12  \n454                             Pitreavie       Dunfermline 2020-09-20  \n455                             Pitreavie       Dunfermline 2020-09-20  \n456        Alan Wymant              Corby             Corby 2020-09-22  \n457                              Hereford  Sutton Coldfield 2020-10-17  \n\n[348 rows x 12 columns]",
      "text/html": "<div>\n<style scoped>\n    .dataframe tbody tr th:only-of-type {\n        vertical-align: middle;\n    }\n\n    .dataframe tbody tr th {\n        vertical-align: top;\n    }\n\n    .dataframe thead th {\n        text-align: right;\n    }\n</style>\n<table border=\"1\" class=\"dataframe\">\n  <thead>\n    <tr style=\"text-align: right;\">\n      <th>1</th>\n      <th>Rank</th>\n      <th>Perf</th>\n      <th>NaN</th>\n      <th>PB</th>\n      <th>NaN</th>\n      <th>Name</th>\n      <th>NaN</th>\n      <th>Year</th>\n      <th>Coach</th>\n      <th>Club</th>\n      <th>Venue</th>\n      <th>Date</th>\n    </tr>\n  </thead>\n  <tbody>\n    <tr>\n      <th>2</th>\n      <td>1</td>\n      <td>11.16</td>\n      <td>0.1</td>\n      <td>11.09</td>\n      <td></td>\n      <td>Imani Lansiquot</td>\n      <td></td>\n      <td>1</td>\n      <td>Steve Fudge</td>\n      <td>Sutton &amp; District</td>\n      <td>Leverkusen, GER</td>\n      <td>2020-08-16</td>\n    </tr>\n    <tr>\n      <th>3</th>\n      <td>2</td>\n      <td>11.27</td>\n      <td>0.0</td>\n      <td>11.16</td>\n      <td></td>\n      <td>Kristal Awuah</td>\n      <td>U23</td>\n      <td>-2</td>\n      <td>Matthew Thomas</td>\n      <td>Herne Hill</td>\n      <td>Doha, QAT</td>\n      <td>2020-09-25</td>\n    </tr>\n    <tr>\n      <th>4</th>\n      <td>3</td>\n      <td>11.31</td>\n      <td>1.3</td>\n      <td>10.90</td>\n      <td></td>\n      <td>Daryll Neita</td>\n      <td></td>\n      <td>2</td>\n      <td>Rana Reider</td>\n      <td>Cambridge H</td>\n      <td>Bydgoszcz, POL</td>\n      <td>2020-08-19</td>\n    </tr>\n    <tr>\n      <th>6</th>\n      <td>4</td>\n      <td>11.39</td>\n      <td>1.8</td>\n      <td>11.31</td>\n      <td></td>\n      <td>Amy Hunt</td>\n      <td>U20</td>\n      <td>-5</td>\n      <td>Joseph McDonnell</td>\n      <td>Charnwood</td>\n      <td>GÃ¶teborg, SWE</td>\n      <td>2020-08-29</td>\n    </tr>\n    <tr>\n      <th>8</th>\n      <td>5</td>\n      <td>11.71</td>\n      <td>1.1</td>\n      <td>11.36</td>\n      <td></td>\n      <td>Nia WedderburnGoodison</td>\n      <td>U17</td>\n      <td>-8</td>\n      <td></td>\n      <td>Harrow</td>\n      <td>Dagenham</td>\n      <td>2020-08-23</td>\n    </tr>\n    <tr>\n      <th>...</th>\n      <td>...</td>\n      <td>...</td>\n      <td>...</td>\n      <td>...</td>\n      <td>...</td>\n      <td>...</td>\n      <td>...</td>\n      <td>...</td>\n      <td>...</td>\n      <td>...</td>\n      <td>...</td>\n      <td>...</td>\n    </tr>\n    <tr>\n      <th>453</th>\n      <td>339</td>\n      <td>13.2</td>\n      <td></td>\n      <td>13.2</td>\n      <td>PB</td>\n      <td>SophiaReid Thomas</td>\n      <td>U15</td>\n      <td></td>\n      <td></td>\n      <td>Carmarthen</td>\n      <td>Whitehall</td>\n      <td>2020-09-12</td>\n    </tr>\n    <tr>\n      <th>454</th>\n      <td>339</td>\n      <td>13.2</td>\n      <td>1.5</td>\n      <td>13.92/13.2</td>\n      <td>PB</td>\n      <td>Kate Richardson</td>\n      <td>U15</td>\n      <td>-9</td>\n      <td></td>\n      <td>Pitreavie</td>\n      <td>Dunfermline</td>\n      <td>2020-09-20</td>\n    </tr>\n    <tr>\n      <th>455</th>\n      <td>339</td>\n      <td>13.2</td>\n      <td>0.8</td>\n      <td>13.55/13.2</td>\n      <td>PB</td>\n      <td>Lynn Harvey</td>\n      <td>U20</td>\n      <td>-6</td>\n      <td></td>\n      <td>Pitreavie</td>\n      <td>Dunfermline</td>\n      <td>2020-09-20</td>\n    </tr>\n    <tr>\n      <th>456</th>\n      <td>339</td>\n      <td>13.2</td>\n      <td></td>\n      <td>13.12/12.6</td>\n      <td></td>\n      <td>Zoe Payne</td>\n      <td>U17</td>\n      <td>-8</td>\n      <td>Alan Wymant</td>\n      <td>Corby</td>\n      <td>Corby</td>\n      <td>2020-09-22</td>\n    </tr>\n    <tr>\n      <th>457</th>\n      <td>339</td>\n      <td>13.2</td>\n      <td>0.0</td>\n      <td>12.83/12.8</td>\n      <td></td>\n      <td>Eva Tyler</td>\n      <td>U15</td>\n      <td>-8</td>\n      <td></td>\n      <td>Hereford</td>\n      <td>Sutton Coldfield</td>\n      <td>2020-10-17</td>\n    </tr>\n  </tbody>\n</table>\n<p>348 rows × 12 columns</p>\n</div>"
     },
     "metadata": {}
    }
   ],
   "execution_count": 2
  },
  {
   "cell_type": "markdown",
   "source": "## Bonus Task! \n> Have this notebook ***automatically*** fetch the **Men and Women's 100m, 200m and 400m Rankings** on a single notebook run.\n\n+ Loops\n+ String Formatting\n+ Pay attention to URL when looking at different event/gender tables on Power10 Web Page.\n+ Your notebook should output a **separate** CSV file for each **gender/event**.  Make sure these CSV files are ***named*** accordingly.",
   "metadata": {
    "tags": [],
    "cell_id": "00006-9521bc04-6d82-41ab-a460-71fa38b75b4e",
    "deepnote_cell_type": "markdown",
    "deepnote_cell_height": 234.953125
   }
  },
  {
   "cell_type": "code",
   "metadata": {
    "tags": [],
    "cell_id": "00007-3cd6649e-72bb-4c5d-9f07-e1e3eb0ebdb6",
    "deepnote_to_be_reexecuted": false,
    "source_hash": "b623e53d",
    "execution_start": 1671211962666,
    "execution_millis": 2,
    "deepnote_cell_type": "code",
    "deepnote_cell_height": 76
   },
   "source": "",
   "execution_count": 2,
   "outputs": []
  },
  {
   "cell_type": "markdown",
   "source": "#### \\[Optional\\] Make it a Script!\n> Turn your **bonus task** (with loop) into a **Python script**. \n\nYou can **run** the **script** via your project ***temrminal*** or via a ***code cell***...just remember the ***bang*** (`!`) infront of your terminal commands ***if*** running them via a code cell...e.g.",
   "metadata": {
    "tags": [],
    "cell_id": "00008-e2331349-ec7a-4229-aaec-736be99b80d0",
    "deepnote_cell_type": "markdown",
    "deepnote_cell_height": 147.171875
   }
  },
  {
   "cell_type": "code",
   "metadata": {
    "tags": [],
    "cell_id": "00007-7666c691-c7a8-4506-a7a1-a135540395a9",
    "deepnote_to_be_reexecuted": false,
    "source_hash": "1cfac567",
    "execution_start": 1671211962670,
    "execution_millis": 3,
    "deepnote_cell_type": "code",
    "deepnote_cell_height": 76
   },
   "source": "# !python power10_scraper.py",
   "execution_count": 3,
   "outputs": []
  },
  {
   "cell_type": "markdown",
   "source": "<a style='text-decoration:none;line-height:16px;display:flex;color:#5B5B62;padding:10px;justify-content:end;' href='https://deepnote.com?utm_source=created-in-deepnote-cell&projectId=82522c04-b10e-4808-ba92-f37909eae5ea' target=\"_blank\">\n<img alt='Created in deepnote.com' style='display:inline;max-height:16px;margin:0px;margin-right:7.5px;' src='data:image/svg+xml;base64,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' > </img>\nCreated in <span style='font-weight:600;margin-left:4px;'>Deepnote</span></a>",
   "metadata": {
    "tags": [],
    "created_in_deepnote_cell": true,
    "deepnote_cell_type": "markdown"
   }
  }
 ],
 "nbformat": 4,
 "nbformat_minor": 2,
 "metadata": {
  "kernelspec": {
   "display_name": "Python 3",
   "language": "python",
   "name": "python3"
  },
  "language_info": {
   "codemirror_mode": {
    "name": "ipython",
    "version": 3
   },
   "file_extension": ".py",
   "mimetype": "text/x-python",
   "name": "python",
   "nbconvert_exporter": "python",
   "pygments_lexer": "ipython3",
   "version": "3.6.3"
  },
  "deepnote_notebook_id": "4507786a-bb02-4bec-b3a8-bdde19ee9c28",
  "deepnote_execution_queue": [],
  "deepnote": {}
 }
}