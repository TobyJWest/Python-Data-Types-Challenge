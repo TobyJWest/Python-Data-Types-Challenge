{
 "cells": [
  {
   "cell_type": "markdown",
   "source": "## Power10 Rankings Challenge\n\n> **Start** by hitting the ```Run notebook``` button. If you don't quite get how the data is getting into the dataframe, no problems, this challenge is solely based on ***cleaning*** up Pandas **dataframes**.\n",
   "metadata": {
    "tags": [],
    "cell_id": "00000-3a20586e-07e5-4ab8-a451-62498bffd550",
    "output_cleared": false,
    "deepnote_cell_type": "markdown"
   }
  },
  {
   "cell_type": "code",
   "metadata": {
    "cell_id": "00000-24036894-b972-4c5d-ad3a-7b03dffe0458",
    "output_cleared": false,
    "source_hash": "d75a3793",
    "execution_millis": 3482,
    "execution_start": 1628693142228,
    "deepnote_to_be_reexecuted": false,
    "deepnote_cell_type": "code"
   },
   "source": "import pandas\n\nurl = \"https://www.thepowerof10.info/rankings/rankinglist.aspx?event=100&agegroup=ALL&sex=W&year=2020\"\n\ndfs = pandas.read_html(url) # will return list of all tables within html as Pandas DataFrames\n\nlen(dfs) # pandas has returned 5 possible data tables from HTML Page.\n\ndfs[3] # using browser inspector and by outputting all tables (e.g. dfs[0]) individually, you'll find that the 4th ([3]) table is the table with the data.",
   "outputs": [
    {
     "output_type": "execute_result",
     "execution_count": 1,
     "data": {
      "application/vnd.deepnote.dataframe.v2+json": {
       "row_count": 470,
       "column_count": 14,
       "columns": [
        {
         "name": 0,
         "dtype": "object",
         "stats": {
          "unique_count": 138,
          "nan_count": 114,
          "categories": [
           {
            "name": "295",
            "count": 11
           },
           {
            "name": "137 others",
            "count": 345
           },
           {
            "name": "Missing",
            "count": 114
           }
          ]
         }
        },
        {
         "name": 1,
         "dtype": "object",
         "stats": {
          "unique_count": 152,
          "nan_count": 0,
          "categories": [
           {
            "name": "13.1",
            "count": 11
           },
           {
            "name": "13.0",
            "count": 10
           },
           {
            "name": "150 others",
            "count": 449
           }
          ]
         }
        },
        {
         "name": 2,
         "dtype": "object",
         "stats": {
          "unique_count": 7,
          "nan_count": 369,
          "categories": [
           {
            "name": "w",
            "count": 95
           },
           {
            "name": "6 others",
            "count": 6
           },
           {
            "name": "Missing",
            "count": 369
           }
          ]
         }
        },
        {
         "name": 3,
         "dtype": "object",
         "stats": {
          "unique_count": 71,
          "nan_count": 38,
          "categories": [
           {
            "name": "0.0",
            "count": 17
           },
           {
            "name": "70 others",
            "count": 415
           },
           {
            "name": "Missing",
            "count": 38
           }
          ]
         }
        },
        {
         "name": 4,
         "dtype": "object",
         "stats": {
          "unique_count": 234,
          "nan_count": 105,
          "categories": [
           {
            "name": "12.74",
            "count": 6
           },
           {
            "name": "233 others",
            "count": 359
           },
           {
            "name": "Missing",
            "count": 105
           }
          ]
         }
        },
        {
         "name": 5,
         "dtype": "object",
         "stats": {
          "unique_count": 7,
          "nan_count": 362,
          "categories": [
           {
            "name": "PB",
            "count": 102
           },
           {
            "name": "6 others",
            "count": 6
           },
           {
            "name": "Missing",
            "count": 362
           }
          ]
         }
        },
        {
         "name": 6,
         "dtype": "object",
         "stats": {
          "unique_count": 365,
          "nan_count": 105,
          "categories": [
           {
            "name": "100 Women Overall 2020 to 13.2 (Auto timed only to 11.99)",
            "count": 1
           },
           {
            "name": "364 others",
            "count": 364
           },
           {
            "name": "Missing",
            "count": 105
           }
          ]
         }
        },
        {
         "name": 7,
         "dtype": "object",
         "stats": {
          "unique_count": 12,
          "nan_count": 140,
          "categories": [
           {
            "name": "U17",
            "count": 114
           },
           {
            "name": "11 others",
            "count": 216
           },
           {
            "name": "Missing",
            "count": 140
           }
          ]
         }
        },
        {
         "name": 8,
         "dtype": "object",
         "stats": {
          "unique_count": 31,
          "nan_count": 106,
          "categories": [
           {
            "name": "-8",
            "count": 57
           },
           {
            "name": "30 others",
            "count": 307
           },
           {
            "name": "Missing",
            "count": 106
           }
          ]
         }
        },
        {
         "name": 9,
         "dtype": "object",
         "stats": {
          "unique_count": 178,
          "nan_count": 206,
          "categories": [
           {
            "name": "Paul Weston",
            "count": 9
           },
           {
            "name": "177 others",
            "count": 255
           },
           {
            "name": "Missing",
            "count": 206
           }
          ]
         }
        },
        {
         "name": 10,
         "dtype": "object",
         "stats": {
          "unique_count": 158,
          "nan_count": 105,
          "categories": [
           {
            "name": "Gateshead",
            "count": 16
           },
           {
            "name": "157 others",
            "count": 349
           },
           {
            "name": "Missing",
            "count": 105
           }
          ]
         }
        },
        {
         "name": 11,
         "dtype": "object",
         "stats": {
          "unique_count": 71,
          "nan_count": 0,
          "categories": [
           {
            "name": "Chelmsford",
            "count": 51
           },
           {
            "name": "Nuneaton",
            "count": 43
           },
           {
            "name": "69 others",
            "count": 376
           }
          ]
         }
        },
        {
         "name": 12,
         "dtype": "object",
         "stats": {
          "unique_count": 57,
          "nan_count": 0,
          "categories": [
           {
            "name": "23 Aug 20",
            "count": 57
           },
           {
            "name": "29 Aug 20",
            "count": 42
           },
           {
            "name": "55 others",
            "count": 371
           }
          ]
         }
        },
        {
         "name": 13,
         "dtype": "object",
         "stats": {
          "unique_count": 6,
          "nan_count": 464,
          "categories": [
           {
            "name": "Head to Head Top 10",
            "count": 1
           },
           {
            "name": "5 others",
            "count": 5
           },
           {
            "name": "Missing",
            "count": 464
           }
          ]
         }
        },
        {
         "name": "_deepnote_index_column",
         "dtype": "int64"
        }
       ],
       "rows_top": [
        {
         "0": "100 Women Overall 2020 to 13.2 (Auto timed only to 11.99)",
         "1": "100 Women Overall 2020 to 13.2 (Auto timed only to 11.99)",
         "2": "100 Women Overall 2020 to 13.2 (Auto timed only to 11.99)",
         "3": "100 Women Overall 2020 to 13.2 (Auto timed only to 11.99)",
         "4": "100 Women Overall 2020 to 13.2 (Auto timed only to 11.99)",
         "5": "100 Women Overall 2020 to 13.2 (Auto timed only to 11.99)",
         "6": "100 Women Overall 2020 to 13.2 (Auto timed only to 11.99)",
         "7": "100 Women Overall 2020 to 13.2 (Auto timed only to 11.99)",
         "8": "100 Women Overall 2020 to 13.2 (Auto timed only to 11.99)",
         "9": "100 Women Overall 2020 to 13.2 (Auto timed only to 11.99)",
         "10": "Head to Head Top 10",
         "11": "Head to Head Top 10",
         "12": "Head to Head Top 10",
         "13": "Head to Head Top 10",
         "_deepnote_index_column": 0
        },
        {
         "0": "Rank",
         "1": "Perf",
         "2": "nan",
         "3": "nan",
         "4": "PB",
         "5": "nan",
         "6": "Name",
         "7": "nan",
         "8": "Year",
         "9": "Coach",
         "10": "Club",
         "11": "Venue",
         "12": "Date",
         "13": "nan",
         "_deepnote_index_column": 1
        },
        {
         "0": "1",
         "1": "11.16",
         "2": "nan",
         "3": "0.1",
         "4": "11.09",
         "5": "nan",
         "6": "Imani Lansiquot",
         "7": "nan",
         "8": "1",
         "9": "Steve Fudge",
         "10": "Sutton & District",
         "11": "Leverkusen, GER",
         "12": "16 Aug 20",
         "13": "nan",
         "_deepnote_index_column": 2
        },
        {
         "0": "2",
         "1": "11.27",
         "2": "nan",
         "3": "0.0",
         "4": "11.16",
         "5": "nan",
         "6": "Kristal Awuah",
         "7": "U23",
         "8": "-2",
         "9": "Matthew Thomas",
         "10": "Herne Hill",
         "11": "Doha, QAT",
         "12": "25 Sep 20",
         "13": "nan",
         "_deepnote_index_column": 3
        },
        {
         "0": "3",
         "1": "11.31",
         "2": "nan",
         "3": "1.3",
         "4": "10.96",
         "5": "nan",
         "6": "Daryll Neita",
         "7": "nan",
         "8": "2",
         "9": "Rana Reider",
         "10": "Cambridge H",
         "11": "Bydgoszcz, POL",
         "12": "19 Aug 20",
         "13": "nan",
         "_deepnote_index_column": 4
        },
        {
         "0": "UK 10 TARGET: 11.35",
         "1": "UK 10 TARGET: 11.35",
         "2": "UK 10 TARGET: 11.35",
         "3": "UK 10 TARGET: 11.35",
         "4": "UK 10 TARGET: 11.35",
         "5": "UK 10 TARGET: 11.35",
         "6": "UK 10 TARGET: 11.35",
         "7": "UK 10 TARGET: 11.35",
         "8": "UK 10 TARGET: 11.35",
         "9": "UK 10 TARGET: 11.35",
         "10": "UK 10 TARGET: 11.35",
         "11": "UK 10 TARGET: 11.35",
         "12": "UK 10 TARGET: 11.35",
         "13": "UK 10 TARGET: 11.35",
         "_deepnote_index_column": 5
        },
        {
         "0": "4",
         "1": "11.39",
         "2": "nan",
         "3": "1.8",
         "4": "11.31",
         "5": "nan",
         "6": "Amy Hunt",
         "7": "U20",
         "8": "-5",
         "9": "Joseph McDonnell âï¸",
         "10": "Charnwood",
         "11": "GÃ¶teborg, SWE",
         "12": "29 Aug 20",
         "13": "nan",
         "_deepnote_index_column": 6
        },
        {
         "0": "nan",
         "1": "11.35",
         "2": "w",
         "3": "2.1",
         "4": "nan",
         "5": "nan",
         "6": "nan",
         "7": "nan",
         "8": "nan",
         "9": "nan",
         "10": "nan",
         "11": "Sportcity",
         "12": "4 Sep 20",
         "13": "nan",
         "_deepnote_index_column": 7
        },
        {
         "0": "5",
         "1": "11.71",
         "2": "nan",
         "3": "1.1",
         "4": "11.66",
         "5": "nan",
         "6": "Nia Wedderburn-Goodison",
         "7": "U17",
         "8": "-8",
         "9": "nan",
         "10": "Harrow",
         "11": "Dagenham",
         "12": "23 Aug 20",
         "13": "nan",
         "_deepnote_index_column": 8
        },
        {
         "0": "nan",
         "1": "11.60",
         "2": "w",
         "3": "3.2",
         "4": "nan",
         "5": "nan",
         "6": "nan",
         "7": "nan",
         "8": "nan",
         "9": "nan",
         "10": "nan",
         "11": "Dagenham",
         "12": "23 Aug 20",
         "13": "nan",
         "_deepnote_index_column": 9
        },
        {
         "0": "6",
         "1": "11.72",
         "2": "nan",
         "3": "2.0",
         "4": "11.67",
         "5": "nan",
         "6": "Cheyanne Evans-Gray",
         "7": "U23",
         "8": "-1",
         "9": "Paul Weston",
         "10": "Croydon",
         "11": "Stratford",
         "12": "6 Sep 20",
         "13": "nan",
         "_deepnote_index_column": 10
        },
        {
         "0": "nan",
         "1": "11.64",
         "2": "w",
         "3": "2.9",
         "4": "nan",
         "5": "nan",
         "6": "nan",
         "7": "nan",
         "8": "nan",
         "9": "nan",
         "10": "nan",
         "11": "Chelmsford",
         "12": "30 Aug 20",
         "13": "nan",
         "_deepnote_index_column": 11
        },
        {
         "0": "7",
         "1": "11.74",
         "2": "nan",
         "3": "0.0",
         "4": "11.39",
         "5": "nan",
         "6": "Cindy Sember",
         "7": "nan",
         "8": "4",
         "9": "nan",
         "10": "Woodford Green Essex Ladies",
         "11": "Doha, QAT",
         "12": "25 Sep 20",
         "13": "nan",
         "_deepnote_index_column": 12
        },
        {
         "0": "8",
         "1": "11.80",
         "2": "nan",
         "3": "1.9",
         "4": "11.72",
         "5": "nan",
         "6": "Success Eduan",
         "7": "U17",
         "8": "-7",
         "9": "Anita Richardson",
         "10": "Sale Harriers Manchester",
         "11": "Stretford",
         "12": "15 Aug 20",
         "13": "nan",
         "_deepnote_index_column": 13
        },
        {
         "0": "9",
         "1": "11.81",
         "2": "nan",
         "3": "-2.5",
         "4": "11.65",
         "5": "nan",
         "6": "Aleeya Sibbons",
         "7": "U20",
         "8": "-5",
         "9": "Coral Nourrice",
         "10": "Newham & Essex Beagles",
         "11": "Chelmsford",
         "12": "30 Aug 20",
         "13": "nan",
         "_deepnote_index_column": 14
        },
        {
         "0": "nan",
         "1": "11.67",
         "2": "w",
         "3": "2.9",
         "4": "nan",
         "5": "nan",
         "6": "nan",
         "7": "nan",
         "8": "nan",
         "9": "nan",
         "10": "nan",
         "11": "Dagenham",
         "12": "23 Aug 20",
         "13": "nan",
         "_deepnote_index_column": 15
        },
        {
         "0": "10",
         "1": "11.82",
         "2": "nan",
         "3": "0.3",
         "4": "11.82",
         "5": "PB",
         "6": "Nicola Caygill",
         "7": "U23",
         "8": "-3",
         "9": "nan",
         "10": "Jarrow & Hebburn",
         "11": "Sportcity",
         "12": "4 Sep 20",
         "13": "nan",
         "_deepnote_index_column": 16
        },
        {
         "0": "nan",
         "1": "11.80",
         "2": "w",
         "3": "2.1",
         "4": "nan",
         "5": "nan",
         "6": "nan",
         "7": "nan",
         "8": "nan",
         "9": "nan",
         "10": "nan",
         "11": "Sportcity",
         "12": "4 Sep 20",
         "13": "nan",
         "_deepnote_index_column": 17
        },
        {
         "0": "11",
         "1": "11.83",
         "2": "nan",
         "3": "-0.9",
         "4": "11.63",
         "5": "nan",
         "6": "Risqat Fabunmi-Alade",
         "7": "nan",
         "8": "4",
         "9": "Piotr Spas",
         "10": "Swansea",
         "11": "Tooting Bec",
         "12": "22 Aug 20",
         "13": "nan",
         "_deepnote_index_column": 18
        },
        {
         "0": "nan",
         "1": "11.67",
         "2": "w",
         "3": "2.8",
         "4": "nan",
         "5": "nan",
         "6": "nan",
         "7": "nan",
         "8": "nan",
         "9": "nan",
         "10": "nan",
         "11": "Chelmsford",
         "12": "30 Aug 20",
         "13": "nan",
         "_deepnote_index_column": 19
        },
        {
         "0": "12",
         "1": "11.85",
         "2": "nan",
         "3": "-0.3",
         "4": "11.72",
         "5": "nan",
         "6": "Rebecca Jeggo",
         "7": "U23",
         "8": "-3",
         "9": "Stephen Garnham",
         "10": "Colchester H",
         "11": "Sportcity",
         "12": "4 Sep 20",
         "13": "nan",
         "_deepnote_index_column": 20
        },
        {
         "0": "nan",
         "1": "11.67",
         "2": "w",
         "3": "2.5",
         "4": "nan",
         "5": "nan",
         "6": "nan",
         "7": "nan",
         "8": "nan",
         "9": "nan",
         "10": "nan",
         "11": "Chelmsford",
         "12": "19 Aug 20",
         "13": "nan",
         "_deepnote_index_column": 21
        },
        {
         "0": "13",
         "1": "11.88",
         "2": "nan",
         "3": "0.2",
         "4": "11.88",
         "5": "PB",
         "6": "Caitlyn Mapps",
         "7": "U20",
         "8": "-5",
         "9": "Phillip Warwicker",
         "10": "Cardiff Archers",
         "11": "Nuneaton",
         "12": "19 Aug 20",
         "13": "nan",
         "_deepnote_index_column": 22
        },
        {
         "0": "13",
         "1": "11.88",
         "2": "nan",
         "3": "-0.3",
         "4": "11.78",
         "5": "nan",
         "6": "Trinity Powell",
         "7": "U20",
         "8": "-5",
         "9": "Kes Salmon",
         "10": "Manchester H",
         "11": "Sportcity",
         "12": "4 Sep 20",
         "13": "nan",
         "_deepnote_index_column": 23
        },
        {
         "0": "nan",
         "1": "11.80",
         "2": "w",
         "3": "2.1",
         "4": "nan",
         "5": "nan",
         "6": "nan",
         "7": "nan",
         "8": "nan",
         "9": "nan",
         "10": "nan",
         "11": "Sportcity",
         "12": "4 Sep 20",
         "13": "nan",
         "_deepnote_index_column": 24
        },
        {
         "0": "15",
         "1": "11.90",
         "2": "nan",
         "3": "1.3",
         "4": "11.62",
         "5": "nan",
         "6": "Eve Wright",
         "7": "U20",
         "8": "-5",
         "9": "Ryan Freckleton",
         "10": "Enfield & Haringey",
         "11": "Stratford",
         "12": "6 Sep 20",
         "13": "nan",
         "_deepnote_index_column": 25
        },
        {
         "0": "nan",
         "1": "11.87",
         "2": "w",
         "3": "3.1",
         "4": "nan",
         "5": "nan",
         "6": "nan",
         "7": "nan",
         "8": "nan",
         "9": "nan",
         "10": "nan",
         "11": "Chelmsford",
         "12": "30 Aug 20",
         "13": "nan",
         "_deepnote_index_column": 26
        },
        {
         "0": "16",
         "1": "11.92",
         "2": "nan",
         "3": "-2.5",
         "4": "11.92",
         "5": "PB",
         "6": "Ayoola Babalola",
         "7": "U20",
         "8": "-4",
         "9": "nan",
         "10": "Windsor Slough Eton & Hounslow",
         "11": "Chelmsford",
         "12": "30 Aug 20",
         "13": "nan",
         "_deepnote_index_column": 27
        },
        {
         "0": "nan",
         "1": "11.90",
         "2": "w",
         "3": "3.1",
         "4": "nan",
         "5": "nan",
         "6": "nan",
         "7": "nan",
         "8": "nan",
         "9": "nan",
         "10": "nan",
         "11": "Chelmsford",
         "12": "30 Aug 20",
         "13": "nan",
         "_deepnote_index_column": 28
        },
        {
         "0": "17",
         "1": "11.95",
         "2": "nan",
         "3": "1.8",
         "4": "11.95",
         "5": "PB",
         "6": "Rebecca Chapman",
         "7": "nan",
         "8": "6",
         "9": "nan",
         "10": "Cardiff",
         "11": "Marsa, MLT",
         "12": "18 Jul 20",
         "13": "nan",
         "_deepnote_index_column": 29
        },
        {
         "0": "18",
         "1": "11.96",
         "2": "nan",
         "3": "0.2",
         "4": "11.64",
         "5": "nan",
         "6": "Mica Moore",
         "7": "nan",
         "8": "6",
         "9": "Lawrence Moore",
         "10": "Birchfield H",
         "11": "Swansea",
         "12": "16 Aug 20",
         "13": "nan",
         "_deepnote_index_column": 30
        },
        {
         "0": "nan",
         "1": "11.83",
         "2": "w",
         "3": "3.3",
         "4": "nan",
         "5": "nan",
         "6": "nan",
         "7": "nan",
         "8": "nan",
         "9": "nan",
         "10": "nan",
         "11": "Nuneaton",
         "12": "23 Aug 20",
         "13": "nan",
         "_deepnote_index_column": 31
        },
        {
         "0": "18",
         "1": "11.96",
         "2": "nan",
         "3": "0.5",
         "4": "11.96",
         "5": "PB",
         "6": "Racheal Largie-Poleon",
         "7": "U20",
         "8": "-6",
         "9": "Paul Weston",
         "10": "Croydon",
         "11": "Chelmsford",
         "12": "30 Aug 20",
         "13": "nan",
         "_deepnote_index_column": 32
        },
        {
         "0": "nan",
         "1": "11.74",
         "2": "w",
         "3": "3.1",
         "4": "nan",
         "5": "nan",
         "6": "nan",
         "7": "nan",
         "8": "nan",
         "9": "nan",
         "10": "nan",
         "11": "Chelmsford",
         "12": "30 Aug 20",
         "13": "nan",
         "_deepnote_index_column": 33
        },
        {
         "0": "20",
         "1": "11.99",
         "2": "nan",
         "3": "-0.6",
         "4": "11.73",
         "5": "nan",
         "6": "Alyson Bell",
         "7": "U17",
         "8": "-6",
         "9": "nan",
         "10": "Giffnock North",
         "11": "Sportcity",
         "12": "4 Sep 20",
         "13": "nan",
         "_deepnote_index_column": 34
        }
       ],
       "rows_bottom": [
        {
         "0": "324",
         "1": "13.17",
         "2": "nan",
         "3": "0.5",
         "4": "13.17/13.1",
         "5": "PB",
         "6": "Lucy Odell",
         "7": "U20",
         "8": "-6",
         "9": "Katy Odell",
         "10": "Reading AC",
         "11": "Chelmsford",
         "12": "30 Aug 20",
         "13": "nan",
         "_deepnote_index_column": 434
        },
        {
         "0": "324",
         "1": "13.17",
         "2": "nan",
         "3": "-0.4",
         "4": "12.84",
         "5": "nan",
         "6": "Zara Okoroafor",
         "7": "U15",
         "8": "-10",
         "9": "nan",
         "10": "Dartford H",
         "11": "Dartford",
         "12": "12 Sep 20",
         "13": "nan",
         "_deepnote_index_column": 435
        },
        {
         "0": "329",
         "1": "13.18",
         "2": "nan",
         "3": "1.4",
         "4": "13.18",
         "5": "PB",
         "6": "Rebecca Littler",
         "7": "U15",
         "8": "-9",
         "9": "nan",
         "10": "Rugby & Northampton",
         "11": "Nuneaton",
         "12": "19 Jul 20",
         "13": "nan",
         "_deepnote_index_column": 436
        },
        {
         "0": "329",
         "1": "13.18",
         "2": "nan",
         "3": "-0.2",
         "4": "12.43",
         "5": "nan",
         "6": "Rebeccah Akinsanya",
         "7": "U15",
         "8": "-10",
         "9": "Amanda Edgley",
         "10": "Medway & Maidstone",
         "11": "Bromley",
         "12": "22 Aug 20",
         "13": "nan",
         "_deepnote_index_column": 437
        },
        {
         "0": "nan",
         "1": "13.06",
         "2": "w",
         "3": "2.9",
         "4": "nan",
         "5": "nan",
         "6": "nan",
         "7": "nan",
         "8": "nan",
         "9": "nan",
         "10": "nan",
         "11": "Dagenham",
         "12": "23 Aug 20",
         "13": "nan",
         "_deepnote_index_column": 438
        },
        {
         "0": "331",
         "1": "13.19",
         "2": "nan",
         "3": "nan",
         "4": "12.92",
         "5": "nan",
         "6": "Semi Atiba",
         "7": "U17",
         "8": "-7",
         "9": "Ty Holden",
         "10": "Shaftesbury Barnet",
         "11": "Lee Valley",
         "12": "1 Aug 20",
         "13": "nan",
         "_deepnote_index_column": 439
        },
        {
         "0": "331",
         "1": "13.19",
         "2": "nan",
         "3": "0.7",
         "4": "12.85",
         "5": "nan",
         "6": "Laura Bate",
         "7": "U17",
         "8": "-7",
         "9": "nan",
         "10": "Saffron AC",
         "11": "Nuneaton",
         "12": "19 Aug 20",
         "13": "nan",
         "_deepnote_index_column": 440
        },
        {
         "0": "331",
         "1": "13.19",
         "2": "nan",
         "3": "1.0",
         "4": "13.19",
         "5": "PB",
         "6": "Nadine Starling",
         "7": "U20",
         "8": "-6",
         "9": "Brian Darby",
         "10": "Coventry",
         "11": "Nuneaton",
         "12": "19 Aug 20",
         "13": "nan",
         "_deepnote_index_column": 441
        },
        {
         "0": "331",
         "1": "13.19",
         "2": "nan",
         "3": "1.2",
         "4": "12.60",
         "5": "nan",
         "6": "Matilda May Perry",
         "7": "U15",
         "8": "-9",
         "9": "nan",
         "10": "Cannock & Stafford",
         "11": "Loughborough",
         "12": "9 Sep 20",
         "13": "nan",
         "_deepnote_index_column": 442
        },
        {
         "0": "335",
         "1": "13.20",
         "2": "nan",
         "3": "-2.2",
         "4": "12.93",
         "5": "nan",
         "6": "Chimira Matthews",
         "7": "U17",
         "8": "-7",
         "9": "nan",
         "10": "Ealing Southall & Middx",
         "11": "Lee Valley",
         "12": "1 Aug 20",
         "13": "nan",
         "_deepnote_index_column": 443
        },
        {
         "0": "335",
         "1": "13.20",
         "2": "nan",
         "3": "-2.1",
         "4": "13.20/13.1",
         "5": "PB",
         "6": "Charlotte Gambardella",
         "7": "U17",
         "8": "-7",
         "9": "nan",
         "10": "Saffron AC",
         "11": "Nuneaton",
         "12": "19 Aug 20",
         "13": "nan",
         "_deepnote_index_column": 444
        },
        {
         "0": "335",
         "1": "13.20",
         "2": "nan",
         "3": "-0.4",
         "4": "13.09/12.8",
         "5": "nan",
         "6": "Gabrielle Kirkham",
         "7": "U20",
         "8": "-5",
         "9": "nan",
         "10": "Andover",
         "11": "Chelmsford",
         "12": "30 Aug 20",
         "13": "nan",
         "_deepnote_index_column": 445
        },
        {
         "0": "335",
         "1": "13.20",
         "2": "nan",
         "3": "1.1",
         "4": "13.20",
         "5": "PB",
         "6": "Kate Smith",
         "7": "U17",
         "8": "-6",
         "9": "nan",
         "10": "Tynedale",
         "11": "Hexham",
         "12": "30 Aug 20",
         "13": "nan",
         "_deepnote_index_column": 446
        },
        {
         "0": "335",
         "1": "13.20",
         "2": "nan",
         "3": "0.4",
         "4": "12.59",
         "5": "nan",
         "6": "Sophie Wallwork",
         "7": "U17",
         "8": "-8",
         "9": "Dave Combe",
         "10": "Pitreavie",
         "11": "Meadowmill",
         "12": "13 Sep 20",
         "13": "nan",
         "_deepnote_index_column": 447
        },
        {
         "0": "nan",
         "1": "12.75",
         "2": "w",
         "3": "3.0",
         "4": "nan",
         "5": "nan",
         "6": "nan",
         "7": "nan",
         "8": "nan",
         "9": "nan",
         "10": "nan",
         "11": "Aberdeen",
         "12": "6 Sep 20",
         "13": "nan",
         "_deepnote_index_column": 448
        },
        {
         "0": "340",
         "1": "13.2",
         "2": "nan",
         "3": "nan",
         "4": "13.15",
         "5": "nan",
         "6": "Rebecca Ousby",
         "7": "U23",
         "8": "-3",
         "9": "Julie Alexander",
         "10": "Team Bath",
         "11": "Lancaster",
         "12": "7 Mar 20",
         "13": "nan",
         "_deepnote_index_column": 449
        },
        {
         "0": "340",
         "1": "13.2",
         "2": "nan",
         "3": "1.9",
         "4": "13.31/13.2",
         "5": "PB",
         "6": "Katie Le Rougetel",
         "7": "U17",
         "8": "-7",
         "9": "nan",
         "10": "Jersey",
         "11": "St. Clement",
         "12": "7 Jul 20",
         "13": "nan",
         "_deepnote_index_column": 450
        },
        {
         "0": "340",
         "1": "13.2",
         "2": "nan",
         "3": "nan",
         "4": "13.2",
         "5": "PB",
         "6": "Amy Lott",
         "7": "U17",
         "8": "-6",
         "9": "David Thomas",
         "10": "Morpeth",
         "11": "Morpeth",
         "12": "8 Aug 20",
         "13": "nan",
         "_deepnote_index_column": 451
        },
        {
         "0": "340",
         "1": "13.2",
         "2": "nan",
         "3": "1.3",
         "4": "12.61",
         "5": "nan",
         "6": "Keira Gilman",
         "7": "U17",
         "8": "-6",
         "9": "David Clay",
         "10": "Peterborough & Nene Valley",
         "11": "Norwich",
         "12": "15 Aug 20",
         "13": "nan",
         "_deepnote_index_column": 452
        },
        {
         "0": "340",
         "1": "13.2",
         "2": "nan",
         "3": "nan",
         "4": "13.50/13.2",
         "5": "PB",
         "6": "Ogechuwu Nzekwe",
         "7": "U15",
         "8": "-8",
         "9": "Karl Sumun",
         "10": "Thurrock",
         "11": "Grays",
         "12": "12 Sep 20",
         "13": "nan",
         "_deepnote_index_column": 453
        },
        {
         "0": "340",
         "1": "13.2",
         "2": "nan",
         "3": "nan",
         "4": "13.2",
         "5": "PB",
         "6": "Sophia-Reid Thomas",
         "7": "U15",
         "8": "nan",
         "9": "nan",
         "10": "Carmarthen",
         "11": "Whitehall",
         "12": "12 Sep 20",
         "13": "nan",
         "_deepnote_index_column": 454
        },
        {
         "0": "340",
         "1": "13.2",
         "2": "nan",
         "3": "1.5",
         "4": "13.92/13.2",
         "5": "PB",
         "6": "Kate Richardson",
         "7": "U15",
         "8": "-9",
         "9": "nan",
         "10": "Pitreavie",
         "11": "Dunfermline",
         "12": "20 Sep 20",
         "13": "nan",
         "_deepnote_index_column": 455
        },
        {
         "0": "340",
         "1": "13.2",
         "2": "nan",
         "3": "0.8",
         "4": "13.84/13.2",
         "5": "PB",
         "6": "Lynn Harvey",
         "7": "U20",
         "8": "-6",
         "9": "nan",
         "10": "Pitreavie",
         "11": "Dunfermline",
         "12": "20 Sep 20",
         "13": "nan",
         "_deepnote_index_column": 456
        },
        {
         "0": "340",
         "1": "13.2",
         "2": "nan",
         "3": "nan",
         "4": "13.12/12.6",
         "5": "nan",
         "6": "Zoe Payne",
         "7": "U17",
         "8": "-8",
         "9": "Alan Wymant",
         "10": "Corby",
         "11": "Corby",
         "12": "22 Sep 20",
         "13": "nan",
         "_deepnote_index_column": 457
        },
        {
         "0": "340",
         "1": "13.2",
         "2": "nan",
         "3": "0.0",
         "4": "12.83",
         "5": "nan",
         "6": "Eva Tyler",
         "7": "U15",
         "8": "-8",
         "9": "nan",
         "10": "Hereford",
         "11": "Sutton Coldfield",
         "12": "17 Oct 20",
         "13": "nan",
         "_deepnote_index_column": 458
        },
        {
         "0": "Resident Non UK Athletes",
         "1": "Resident Non UK Athletes",
         "2": "Resident Non UK Athletes",
         "3": "Resident Non UK Athletes",
         "4": "Resident Non UK Athletes",
         "5": "Resident Non UK Athletes",
         "6": "Resident Non UK Athletes",
         "7": "Resident Non UK Athletes",
         "8": "Resident Non UK Athletes",
         "9": "Resident Non UK Athletes",
         "10": "Resident Non UK Athletes",
         "11": "Resident Non UK Athletes",
         "12": "Resident Non UK Athletes",
         "13": "Resident Non UK Athletes",
         "_deepnote_index_column": 459
        },
        {
         "0": "nan",
         "1": "11.98",
         "2": "nan",
         "3": "-1.7",
         "4": "11.83",
         "5": "nan",
         "6": "Lauren Roy",
         "7": "U23",
         "8": "-3",
         "9": "Adam McMullen",
         "10": "City of Lisburn",
         "11": "Dublin (S), IRL",
         "12": "23 Aug 20",
         "13": "nan",
         "_deepnote_index_column": 460
        },
        {
         "0": "nan",
         "1": "12.19",
         "2": "nan",
         "3": "1.8",
         "4": "11.54",
         "5": "nan",
         "6": "Charlotte Wingfield",
         "7": "nan",
         "8": "4",
         "9": "nan",
         "10": "Cardiff",
         "11": "Marsa, MLT",
         "12": "18 Jul 20",
         "13": "nan",
         "_deepnote_index_column": 461
        },
        {
         "0": "nan",
         "1": "12.55",
         "2": "nan",
         "3": "-0.8",
         "4": "12.55",
         "5": "PB",
         "6": "Lauren Brzozowski",
         "7": "nan",
         "8": "1",
         "9": "nan",
         "10": "Loughborough Students",
         "11": "Nuneaton",
         "12": "30 Aug 20",
         "13": "nan",
         "_deepnote_index_column": 462
        },
        {
         "0": "nan",
         "1": "12.61",
         "2": "nan",
         "3": "-1.9",
         "4": "12.20",
         "5": "nan",
         "6": "Anna McCauley",
         "7": "U20",
         "8": "-4",
         "9": "Antonio Minichiello",
         "10": "City of Lisburn",
         "11": "Belfast",
         "12": "13 Aug 20",
         "13": "nan",
         "_deepnote_index_column": 463
        },
        {
         "0": "nan",
         "1": "12.70",
         "2": "nan",
         "3": "-0.7",
         "4": "12.70/12.6",
         "5": "PB",
         "6": "Noa Maoundus",
         "7": "U17",
         "8": "-7",
         "9": "Paul McKeown",
         "10": "Crawley",
         "11": "Crawley",
         "12": "13 Sep 20",
         "13": "nan",
         "_deepnote_index_column": 464
        },
        {
         "0": "nan",
         "1": "12.74",
         "2": "nan",
         "3": "-0.5",
         "4": "12.23",
         "5": "nan",
         "6": "Praise Owoeye",
         "7": "U20",
         "8": "-6",
         "9": "Anita Richardson",
         "10": "Sale Harriers Manchester",
         "11": "Stretford",
         "12": "29 Aug 20",
         "13": "nan",
         "_deepnote_index_column": 465
        },
        {
         "0": "nan",
         "1": "12.71",
         "2": "w",
         "3": "2.1",
         "4": "nan",
         "5": "nan",
         "6": "nan",
         "7": "nan",
         "8": "nan",
         "9": "nan",
         "10": "nan",
         "11": "Stretford",
         "12": "15 Aug 20",
         "13": "nan",
         "_deepnote_index_column": 466
        },
        {
         "0": "nan",
         "1": "12.75",
         "2": "nan",
         "3": "0.0",
         "4": "12.52/12.5",
         "5": "nan",
         "6": "Synne Frydenlund",
         "7": "nan",
         "8": "1",
         "9": "Laura Turner-Alleyne",
         "10": "Harrow",
         "11": "Worthing",
         "12": "11 Aug 20",
         "13": "nan",
         "_deepnote_index_column": 467
        },
        {
         "0": "nan",
         "1": "12.9",
         "2": "nan",
         "3": "-0.7",
         "4": "13.06/12.8",
         "5": "nan",
         "6": "Chiara Ramponi",
         "7": "U23",
         "8": "-2",
         "9": "Iheanyi Ihediwa",
         "10": "Trafford",
         "11": "Stretford",
         "12": "1 Aug 20",
         "13": "nan",
         "_deepnote_index_column": 468
        },
        {
         "0": "nan",
         "1": "12.91",
         "2": "nan",
         "3": "0.1",
         "4": "12.90/12.8",
         "5": "nan",
         "6": "Vanessa Ansuaa",
         "7": "U20",
         "8": "-6",
         "9": "Craig Andrew",
         "10": "Shaftesbury Barnet",
         "11": "Lee Valley",
         "12": "2 Aug 20",
         "13": "nan",
         "_deepnote_index_column": 469
        }
       ]
      },
      "text/plain": "                                                    0   \\\n0    100 Women Overall 2020 to 13.2 (Auto timed onl...   \n1                                                 Rank   \n2                                                    1   \n3                                                    2   \n4                                                    3   \n..                                                 ...   \n465                                                NaN   \n466                                                NaN   \n467                                                NaN   \n468                                                NaN   \n469                                                NaN   \n\n                                                    1   \\\n0    100 Women Overall 2020 to 13.2 (Auto timed onl...   \n1                                                 Perf   \n2                                                11.16   \n3                                                11.27   \n4                                                11.31   \n..                                                 ...   \n465                                              12.74   \n466                                              12.71   \n467                                              12.75   \n468                                               12.9   \n469                                              12.91   \n\n                                                    2   \\\n0    100 Women Overall 2020 to 13.2 (Auto timed onl...   \n1                                                  NaN   \n2                                                  NaN   \n3                                                  NaN   \n4                                                  NaN   \n..                                                 ...   \n465                                                NaN   \n466                                                  w   \n467                                                NaN   \n468                                                NaN   \n469                                                NaN   \n\n                                                    3   \\\n0    100 Women Overall 2020 to 13.2 (Auto timed onl...   \n1                                                  NaN   \n2                                                  0.1   \n3                                                  0.0   \n4                                                  1.3   \n..                                                 ...   \n465                                               -0.5   \n466                                                2.1   \n467                                                0.0   \n468                                               -0.7   \n469                                                0.1   \n\n                                                    4   \\\n0    100 Women Overall 2020 to 13.2 (Auto timed onl...   \n1                                                   PB   \n2                                                11.09   \n3                                                11.16   \n4                                                10.96   \n..                                                 ...   \n465                                              12.23   \n466                                                NaN   \n467                                         12.52/12.5   \n468                                         13.06/12.8   \n469                                         12.90/12.8   \n\n                                                    5   \\\n0    100 Women Overall 2020 to 13.2 (Auto timed onl...   \n1                                                  NaN   \n2                                                  NaN   \n3                                                  NaN   \n4                                                  NaN   \n..                                                 ...   \n465                                                NaN   \n466                                                NaN   \n467                                                NaN   \n468                                                NaN   \n469                                                NaN   \n\n                                                    6   \\\n0    100 Women Overall 2020 to 13.2 (Auto timed onl...   \n1                                                 Name   \n2                                      Imani Lansiquot   \n3                                        Kristal Awuah   \n4                                         Daryll Neita   \n..                                                 ...   \n465                                      Praise Owoeye   \n466                                                NaN   \n467                                   Synne Frydenlund   \n468                                     Chiara Ramponi   \n469                                     Vanessa Ansuaa   \n\n                                                    7   \\\n0    100 Women Overall 2020 to 13.2 (Auto timed onl...   \n1                                                  NaN   \n2                                                  NaN   \n3                                                  U23   \n4                                                  NaN   \n..                                                 ...   \n465                                                U20   \n466                                                NaN   \n467                                                NaN   \n468                                                U23   \n469                                                U20   \n\n                                                    8   \\\n0    100 Women Overall 2020 to 13.2 (Auto timed onl...   \n1                                                 Year   \n2                                                    1   \n3                                                   -2   \n4                                                    2   \n..                                                 ...   \n465                                                 -6   \n466                                                NaN   \n467                                                  1   \n468                                                 -2   \n469                                                 -6   \n\n                                                    9   \\\n0    100 Women Overall 2020 to 13.2 (Auto timed onl...   \n1                                                Coach   \n2                                          Steve Fudge   \n3                                       Matthew Thomas   \n4                                          Rana Reider   \n..                                                 ...   \n465                                   Anita Richardson   \n466                                                NaN   \n467                               Laura Turner-Alleyne   \n468                                    Iheanyi Ihediwa   \n469                                       Craig Andrew   \n\n                           10                   11                   12  \\\n0         Head to Head Top 10  Head to Head Top 10  Head to Head Top 10   \n1                        Club                Venue                 Date   \n2           Sutton & District      Leverkusen, GER            16 Aug 20   \n3                  Herne Hill            Doha, QAT            25 Sep 20   \n4                 Cambridge H       Bydgoszcz, POL            19 Aug 20   \n..                        ...                  ...                  ...   \n465  Sale Harriers Manchester            Stretford            29 Aug 20   \n466                       NaN            Stretford            15 Aug 20   \n467                    Harrow             Worthing            11 Aug 20   \n468                  Trafford            Stretford             1 Aug 20   \n469        Shaftesbury Barnet           Lee Valley             2 Aug 20   \n\n                      13  \n0    Head to Head Top 10  \n1                    NaN  \n2                    NaN  \n3                    NaN  \n4                    NaN  \n..                   ...  \n465                  NaN  \n466                  NaN  \n467                  NaN  \n468                  NaN  \n469                  NaN  \n\n[470 rows x 14 columns]",
      "text/html": "<div>\n<style scoped>\n    .dataframe tbody tr th:only-of-type {\n        vertical-align: middle;\n    }\n\n    .dataframe tbody tr th {\n        vertical-align: top;\n    }\n\n    .dataframe thead th {\n        text-align: right;\n    }\n</style>\n<table border=\"1\" class=\"dataframe\">\n  <thead>\n    <tr style=\"text-align: right;\">\n      <th></th>\n      <th>0</th>\n      <th>1</th>\n      <th>2</th>\n      <th>3</th>\n      <th>4</th>\n      <th>5</th>\n      <th>6</th>\n      <th>7</th>\n      <th>8</th>\n      <th>9</th>\n      <th>10</th>\n      <th>11</th>\n      <th>12</th>\n      <th>13</th>\n    </tr>\n  </thead>\n  <tbody>\n    <tr>\n      <th>0</th>\n      <td>100 Women Overall 2020 to 13.2 (Auto timed onl...</td>\n      <td>100 Women Overall 2020 to 13.2 (Auto timed onl...</td>\n      <td>100 Women Overall 2020 to 13.2 (Auto timed onl...</td>\n      <td>100 Women Overall 2020 to 13.2 (Auto timed onl...</td>\n      <td>100 Women Overall 2020 to 13.2 (Auto timed onl...</td>\n      <td>100 Women Overall 2020 to 13.2 (Auto timed onl...</td>\n      <td>100 Women Overall 2020 to 13.2 (Auto timed onl...</td>\n      <td>100 Women Overall 2020 to 13.2 (Auto timed onl...</td>\n      <td>100 Women Overall 2020 to 13.2 (Auto timed onl...</td>\n      <td>100 Women Overall 2020 to 13.2 (Auto timed onl...</td>\n      <td>Head to Head Top 10</td>\n      <td>Head to Head Top 10</td>\n      <td>Head to Head Top 10</td>\n      <td>Head to Head Top 10</td>\n    </tr>\n    <tr>\n      <th>1</th>\n      <td>Rank</td>\n      <td>Perf</td>\n      <td>NaN</td>\n      <td>NaN</td>\n      <td>PB</td>\n      <td>NaN</td>\n      <td>Name</td>\n      <td>NaN</td>\n      <td>Year</td>\n      <td>Coach</td>\n      <td>Club</td>\n      <td>Venue</td>\n      <td>Date</td>\n      <td>NaN</td>\n    </tr>\n    <tr>\n      <th>2</th>\n      <td>1</td>\n      <td>11.16</td>\n      <td>NaN</td>\n      <td>0.1</td>\n      <td>11.09</td>\n      <td>NaN</td>\n      <td>Imani Lansiquot</td>\n      <td>NaN</td>\n      <td>1</td>\n      <td>Steve Fudge</td>\n      <td>Sutton &amp; District</td>\n      <td>Leverkusen, GER</td>\n      <td>16 Aug 20</td>\n      <td>NaN</td>\n    </tr>\n    <tr>\n      <th>3</th>\n      <td>2</td>\n      <td>11.27</td>\n      <td>NaN</td>\n      <td>0.0</td>\n      <td>11.16</td>\n      <td>NaN</td>\n      <td>Kristal Awuah</td>\n      <td>U23</td>\n      <td>-2</td>\n      <td>Matthew Thomas</td>\n      <td>Herne Hill</td>\n      <td>Doha, QAT</td>\n      <td>25 Sep 20</td>\n      <td>NaN</td>\n    </tr>\n    <tr>\n      <th>4</th>\n      <td>3</td>\n      <td>11.31</td>\n      <td>NaN</td>\n      <td>1.3</td>\n      <td>10.96</td>\n      <td>NaN</td>\n      <td>Daryll Neita</td>\n      <td>NaN</td>\n      <td>2</td>\n      <td>Rana Reider</td>\n      <td>Cambridge H</td>\n      <td>Bydgoszcz, POL</td>\n      <td>19 Aug 20</td>\n      <td>NaN</td>\n    </tr>\n    <tr>\n      <th>...</th>\n      <td>...</td>\n      <td>...</td>\n      <td>...</td>\n      <td>...</td>\n      <td>...</td>\n      <td>...</td>\n      <td>...</td>\n      <td>...</td>\n      <td>...</td>\n      <td>...</td>\n      <td>...</td>\n      <td>...</td>\n      <td>...</td>\n      <td>...</td>\n    </tr>\n    <tr>\n      <th>465</th>\n      <td>NaN</td>\n      <td>12.74</td>\n      <td>NaN</td>\n      <td>-0.5</td>\n      <td>12.23</td>\n      <td>NaN</td>\n      <td>Praise Owoeye</td>\n      <td>U20</td>\n      <td>-6</td>\n      <td>Anita Richardson</td>\n      <td>Sale Harriers Manchester</td>\n      <td>Stretford</td>\n      <td>29 Aug 20</td>\n      <td>NaN</td>\n    </tr>\n    <tr>\n      <th>466</th>\n      <td>NaN</td>\n      <td>12.71</td>\n      <td>w</td>\n      <td>2.1</td>\n      <td>NaN</td>\n      <td>NaN</td>\n      <td>NaN</td>\n      <td>NaN</td>\n      <td>NaN</td>\n      <td>NaN</td>\n      <td>NaN</td>\n      <td>Stretford</td>\n      <td>15 Aug 20</td>\n      <td>NaN</td>\n    </tr>\n    <tr>\n      <th>467</th>\n      <td>NaN</td>\n      <td>12.75</td>\n      <td>NaN</td>\n      <td>0.0</td>\n      <td>12.52/12.5</td>\n      <td>NaN</td>\n      <td>Synne Frydenlund</td>\n      <td>NaN</td>\n      <td>1</td>\n      <td>Laura Turner-Alleyne</td>\n      <td>Harrow</td>\n      <td>Worthing</td>\n      <td>11 Aug 20</td>\n      <td>NaN</td>\n    </tr>\n    <tr>\n      <th>468</th>\n      <td>NaN</td>\n      <td>12.9</td>\n      <td>NaN</td>\n      <td>-0.7</td>\n      <td>13.06/12.8</td>\n      <td>NaN</td>\n      <td>Chiara Ramponi</td>\n      <td>U23</td>\n      <td>-2</td>\n      <td>Iheanyi Ihediwa</td>\n      <td>Trafford</td>\n      <td>Stretford</td>\n      <td>1 Aug 20</td>\n      <td>NaN</td>\n    </tr>\n    <tr>\n      <th>469</th>\n      <td>NaN</td>\n      <td>12.91</td>\n      <td>NaN</td>\n      <td>0.1</td>\n      <td>12.90/12.8</td>\n      <td>NaN</td>\n      <td>Vanessa Ansuaa</td>\n      <td>U20</td>\n      <td>-6</td>\n      <td>Craig Andrew</td>\n      <td>Shaftesbury Barnet</td>\n      <td>Lee Valley</td>\n      <td>2 Aug 20</td>\n      <td>NaN</td>\n    </tr>\n  </tbody>\n</table>\n<p>470 rows × 14 columns</p>\n</div>"
     },
     "metadata": {}
    }
   ],
   "execution_count": null
  },
  {
   "cell_type": "markdown",
   "source": "## Your task is to clean up the data and write the data into a new CSV file!\n> Tips and things to look out for below:\n\nGeneral\n+ Have a look at the [actual table](https://www.thepowerof10.info/rankings/rankinglist.aspx?event=100&agegroup=ALL&sex=W&year=2020) you are trying to scrape.\n+ Inspect and explore the raw dataframe, make a list of things you'll want to do and order or reorder them as you go along. It should help if you create a separate code cell for each step and version control your work once you have achieved something.\n\nDataFrame Specific\n+ The headers are actually on the 2nd row down.\n+ Start with the first column (the `Rank` column), there is alot you can clean up just by removing non numeric values ;)\n+ There is a section of Resident Non UK Athletes and their results at the end of the table you can ignore.\n+ Some athletes have more than one result (normally due to them having a windy time) and these wont have a value in the `Rank` column...you can ignore them.\n+ The `Date` data type is an ```object``` (string), you'll want a datatime object too.\n+ There are columns that you will want to keep but contain a lot of `NaN` values. Make sure you replace them with a ***default*** value (even an empty string `''`).\n+ There is no indication of `sport`, `event` or `gender`. Having a column with the same values for each row is better than having nothing that gives the data some context.\n\nTo start you off...\n+ You can inspect all unique values in the `Rank` column like so:",
   "metadata": {
    "tags": [],
    "cell_id": "00004-1c175b94-24e7-4603-bb38-458192d2586a",
    "output_cleared": false,
    "deepnote_cell_type": "markdown"
   }
  },
  {
   "cell_type": "code",
   "metadata": {
    "tags": [],
    "cell_id": "00005-ff794ef9-eda7-43e3-8cf1-c51520811ad4",
    "deepnote_to_be_reexecuted": false,
    "source_hash": "72ce3a06",
    "execution_start": 1628693446542,
    "execution_millis": 5,
    "deepnote_cell_type": "code"
   },
   "source": "data_table = dfs[3]\ndata_table[0].unique()  # Output all unique values in first (0) column\n\n# Drop rows where value is not an integer",
   "outputs": [
    {
     "output_type": "execute_result",
     "execution_count": 3,
     "data": {
      "text/plain": "array(['100 Women Overall 2020 to 13.2 (Auto timed only to 11.99)',\n       'Rank', '1', '2', '3', 'UK 10 TARGET: 11.35', '4', nan, '5', '6',\n       '7', '8', '9', '10', '11', '12', '13', '15', '16', '17', '18',\n       '20', 'Manually timed', '22', 'Automatic or manually timed', '23',\n       '26', '27', '28', '29', '30', '31', '33', '34',\n       'UK 100 TARGET: 12.15', '35', '37', '38', '39', '41', '42', '44',\n       '47', '48', '49', '50', '51', '53', '56', '60', '62', '64', '65',\n       '68', '69', '72', '73', '75', '78', '80', '82', '85', '87', '89',\n       '91', '92', '95', '96', '97', '99', '101', '103', '106', '109',\n       '112', '115', '116', '119', '120', '123', '125', '127', '131',\n       '137', '139', '144', '146', '148', '150', '153', '156', '157',\n       '158', '159', '162', '166', '170', '174', '180', '185', '186',\n       '193', '196', '201', '203', '209', '216', '219', '222', '224',\n       '229', '230', '235', '239', '245', '249', '259', '262', '266',\n       '270', '275', '279', '285', '286', '291', '294', '295', '306',\n       '310', '315', '316', '318', '320', '324', '329', '331', '335',\n       '340', 'Resident Non UK Athletes'], dtype=object)"
     },
     "metadata": {}
    }
   ],
   "execution_count": null
  },
  {
   "cell_type": "markdown",
   "source": "## Bonus Task! \n> Have this notebook ***automatically*** fetch the **Men and Women's 100m, 200m and 400m Rankings** on a single notebook run.\n\n+ Loops\n+ String Formatting\n+ Pay attention to URL when looking at different event/gender tables on Power10 Web Page.\n+ Your notebook should output a **separate** CSV file for each **gender/event**.  Make sure these CSV files are ***named*** accordingly.",
   "metadata": {
    "tags": [],
    "cell_id": "00006-9521bc04-6d82-41ab-a460-71fa38b75b4e",
    "deepnote_cell_type": "markdown"
   }
  },
  {
   "cell_type": "code",
   "metadata": {
    "tags": [],
    "cell_id": "00007-3cd6649e-72bb-4c5d-9f07-e1e3eb0ebdb6",
    "deepnote_cell_type": "code"
   },
   "source": "",
   "execution_count": null,
   "outputs": []
  },
  {
   "cell_type": "markdown",
   "source": "#### \\[Optional\\] Make it a Script!\n> Turn your **bonus task** (with loop) into a **Python script**. \n\nYou can **run** the **script** via your project ***temrminal*** or via a ***code cell***...just remember the ***bang*** (`!`) infront of your terminal commands ***if*** running them via a code cell...e.g.",
   "metadata": {
    "tags": [],
    "cell_id": "00008-e2331349-ec7a-4229-aaec-736be99b80d0",
    "deepnote_cell_type": "markdown"
   }
  },
  {
   "cell_type": "code",
   "metadata": {
    "tags": [],
    "cell_id": "00007-7666c691-c7a8-4506-a7a1-a135540395a9",
    "deepnote_cell_type": "code"
   },
   "source": "# !python power10_scraper.py",
   "execution_count": null,
   "outputs": []
  },
  {
   "cell_type": "markdown",
   "source": "<a style='text-decoration:none;line-height:16px;display:flex;color:#5B5B62;padding:10px;justify-content:end;' href='https://deepnote.com?utm_source=created-in-deepnote-cell&projectId=01834284-5a22-433a-9a28-a120736ff2ec' target=\"_blank\">\n<img alt='Created in deepnote.com' style='display:inline;max-height:16px;margin:0px;margin-right:7.5px;' src='data:image/svg+xml;base64,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' > </img>\nCreated in <span style='font-weight:600;margin-left:4px;'>Deepnote</span></a>",
   "metadata": {
    "tags": [],
    "created_in_deepnote_cell": true,
    "deepnote_cell_type": "markdown"
   }
  }
 ],
 "nbformat": 4,
 "nbformat_minor": 2,
 "metadata": {
  "kernelspec": {
   "display_name": "Python 3",
   "language": "python",
   "name": "python3"
  },
  "language_info": {
   "codemirror_mode": {
    "name": "ipython",
    "version": 3
   },
   "file_extension": ".py",
   "mimetype": "text/x-python",
   "name": "python",
   "nbconvert_exporter": "python",
   "pygments_lexer": "ipython3",
   "version": "3.6.3"
  },
  "deepnote_notebook_id": "4507786a-bb02-4bec-b3a8-bdde19ee9c28",
  "deepnote_execution_queue": [],
  "deepnote": {}
 }
}