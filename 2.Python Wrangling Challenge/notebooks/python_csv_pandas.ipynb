{
 "cells": [
  {
   "cell_type": "markdown",
   "source": "## Pandas and CSV\n\n#### 1. Import ```pandas```. \n> [Pandas](https://pandas.pydata.org/docs/) is an open source data analysis tool! It can **[read, write and manipulate](https://pandas.pydata.org/docs/reference/io.html)** most common forms of data (csv, json, excel etc).",
   "metadata": {
    "tags": [],
    "cell_id": "00000-4da200c3-bcac-40d9-b47e-a8fe90efd55c",
    "deepnote_cell_type": "markdown",
    "deepnote_cell_height": 159.390625
   }
  },
  {
   "cell_type": "code",
   "metadata": {
    "tags": [],
    "output_cleared": false,
    "source_hash": "9b82ee11",
    "execution_millis": 2,
    "execution_start": 1669989523176,
    "cell_id": "00001-ff6a9660-58f6-452d-9859-155009609218",
    "deepnote_to_be_reexecuted": false,
    "deepnote_cell_type": "code",
    "deepnote_cell_height": 76
   },
   "source": "import pandas as pd",
   "outputs": [],
   "execution_count": null
  },
  {
   "cell_type": "markdown",
   "source": "#### 2. Read in the **CSV** data using Pandas\n> Keep the [Pandas API Reference Guide](https://pandas.pydata.org/docs/reference/index.html#api) handy e.g. to read in CSV data via pandas, scroll down to the bottom of [this ```read_csv``` reference](https://pandas.pydata.org/docs/reference/api/pandas.read_csv.html#pandas.read_csv) for example code.",
   "metadata": {
    "tags": [],
    "cell_id": "00002-96d01462-5293-44aa-aab6-9e24d87b6ed1",
    "deepnote_cell_type": "markdown",
    "deepnote_cell_height": 124.78125
   }
  },
  {
   "cell_type": "code",
   "source": "df = pd.read_csv('/work/2.Python Wrangling Challenge/data/swimming_psb_data.csv')\ndf",
   "metadata": {
    "cell_id": "c350c78ca6774594a508cfdc3b6eae56",
    "tags": [],
    "deepnote_to_be_reexecuted": false,
    "source_hash": "ab6de786",
    "execution_start": 1669990577690,
    "execution_millis": 165,
    "deepnote_cell_type": "code",
    "deepnote_cell_height": 630
   },
   "outputs": [
    {
     "output_type": "execute_result",
     "execution_count": 17,
     "data": {
      "application/vnd.deepnote.dataframe.v3+json": {
       "column_count": 11,
       "row_count": 16948,
       "columns": [
        {
         "name": "c_Sport",
         "dtype": "object",
         "stats": {
          "unique_count": 1,
          "nan_count": 0,
          "categories": [
           {
            "name": "Swimming",
            "count": 16948
           }
          ]
         }
        },
        {
         "name": "c_Season",
         "dtype": "int64",
         "stats": {
          "unique_count": 1,
          "nan_count": 0,
          "min": "2018",
          "max": "2018",
          "histogram": [
           {
            "bin_start": 2017.5,
            "bin_end": 2017.6,
            "count": 0
           },
           {
            "bin_start": 2017.6,
            "bin_end": 2017.7,
            "count": 0
           },
           {
            "bin_start": 2017.7,
            "bin_end": 2017.8,
            "count": 0
           },
           {
            "bin_start": 2017.8,
            "bin_end": 2017.9,
            "count": 0
           },
           {
            "bin_start": 2017.9,
            "bin_end": 2018,
            "count": 0
           },
           {
            "bin_start": 2018,
            "bin_end": 2018.1,
            "count": 16948
           },
           {
            "bin_start": 2018.1,
            "bin_end": 2018.2,
            "count": 0
           },
           {
            "bin_start": 2018.2,
            "bin_end": 2018.3,
            "count": 0
           },
           {
            "bin_start": 2018.3,
            "bin_end": 2018.4,
            "count": 0
           },
           {
            "bin_start": 2018.4,
            "bin_end": 2018.5,
            "count": 0
           }
          ]
         }
        },
        {
         "name": "c_Event",
         "dtype": "object",
         "stats": {
          "unique_count": 20,
          "nan_count": 0,
          "categories": [
           {
            "name": "800m Freestyle",
            "count": 989
           },
           {
            "name": "200m Individual Medley",
            "count": 988
           },
           {
            "name": "18 others",
            "count": 14971
           }
          ]
         }
        },
        {
         "name": "c_Gender",
         "dtype": "object",
         "stats": {
          "unique_count": 3,
          "nan_count": 0,
          "categories": [
           {
            "name": "Men",
            "count": 8458
           },
           {
            "name": "Women",
            "count": 8394
           },
           {
            "name": "Mixed",
            "count": 96
           }
          ]
         }
        },
        {
         "name": "n_DateSort",
         "dtype": "int64",
         "stats": {
          "unique_count": 232,
          "nan_count": 0,
          "min": "20180104",
          "max": "20181223",
          "histogram": [
           {
            "bin_start": 20180104,
            "bin_end": 20180215.9,
            "count": 521
           },
           {
            "bin_start": 20180215.9,
            "bin_end": 20180327.8,
            "count": 844
           },
           {
            "bin_start": 20180327.8,
            "bin_end": 20180439.7,
            "count": 4274
           },
           {
            "bin_start": 20180439.7,
            "bin_end": 20180551.6,
            "count": 1718
           },
           {
            "bin_start": 20180551.6,
            "bin_end": 20180663.5,
            "count": 1210
           },
           {
            "bin_start": 20180663.5,
            "bin_end": 20180775.4,
            "count": 4327
           },
           {
            "bin_start": 20180775.4,
            "bin_end": 20180887.3,
            "count": 2647
           },
           {
            "bin_start": 20180887.3,
            "bin_end": 20180999.2,
            "count": 684
           },
           {
            "bin_start": 20180999.2,
            "bin_end": 20181111.1,
            "count": 413
           },
           {
            "bin_start": 20181111.1,
            "bin_end": 20181223,
            "count": 310
           }
          ]
         }
        },
        {
         "name": "c_Person",
         "dtype": "object"
        },
        {
         "name": "c_PersonNatio",
         "dtype": "object"
        },
        {
         "name": "c_NOC",
         "dtype": "object"
        },
        {
         "name": "c_Result",
         "dtype": "object"
        },
        {
         "name": "n_ResultSort",
         "dtype": "int64"
        },
        {
         "name": "c_Class",
         "dtype": "object"
        },
        {
         "name": "_deepnote_index_column",
         "dtype": "int64"
        }
       ],
       "rows": [
        {
         "c_Sport": "Swimming",
         "c_Season": "2018",
         "c_Event": "100m Backstroke",
         "c_Gender": "Men",
         "n_DateSort": "20180809",
         "c_Person": "Ryan Murphy",
         "c_PersonNatio": "United States",
         "c_NOC": "United States",
         "c_Result": "51.94",
         "n_ResultSort": "51940",
         "c_Class": "Elite",
         "_deepnote_index_column": "0"
        },
        {
         "c_Sport": "Swimming",
         "c_Season": "2018",
         "c_Event": "100m Backstroke",
         "c_Gender": "Men",
         "n_DateSort": "20180822",
         "c_Person": "Xu Jiayu",
         "c_PersonNatio": "China",
         "c_NOC": "China",
         "c_Result": "52.30",
         "n_ResultSort": "52300",
         "c_Class": "Elite",
         "_deepnote_index_column": "1"
        },
        {
         "c_Sport": "Swimming",
         "c_Season": "2018",
         "c_Event": "100m Backstroke",
         "c_Gender": "Men",
         "n_DateSort": "20180806",
         "c_Person": "Kliment Kolesnikov",
         "c_PersonNatio": "Russia",
         "c_NOC": "Russia",
         "c_Result": "52.51",
         "n_ResultSort": "52510",
         "c_Class": "Elite",
         "_deepnote_index_column": "2"
        },
        {
         "c_Sport": "Swimming",
         "c_Season": "2018",
         "c_Event": "100m Backstroke",
         "c_Gender": "Men",
         "n_DateSort": "20180819",
         "c_Person": "Ryosuke Irie",
         "c_PersonNatio": "Japan",
         "c_NOC": "Japan",
         "c_Result": "52.53",
         "n_ResultSort": "52530",
         "c_Class": "Elite",
         "_deepnote_index_column": "3"
        },
        {
         "c_Sport": "Swimming",
         "c_Season": "2018",
         "c_Event": "100m Backstroke",
         "c_Gender": "Men",
         "n_DateSort": "20180728",
         "c_Person": "Matt Grevers",
         "c_PersonNatio": "United States",
         "c_NOC": "United States",
         "c_Result": "52.55",
         "n_ResultSort": "52550",
         "c_Class": "Elite",
         "_deepnote_index_column": "4"
        },
        {
         "c_Sport": "Swimming",
         "c_Season": "2018",
         "c_Event": "100m Backstroke",
         "c_Gender": "Men",
         "n_DateSort": "20180809",
         "c_Person": "Evgeniy Rylov",
         "c_PersonNatio": "Russia",
         "c_NOC": "Russia",
         "c_Result": "52.66",
         "n_ResultSort": "52660",
         "c_Class": "Elite",
         "_deepnote_index_column": "5"
        },
        {
         "c_Sport": "Swimming",
         "c_Season": "2018",
         "c_Event": "100m Backstroke",
         "c_Gender": "Men",
         "n_DateSort": "20180810",
         "c_Person": "Mitch Larkin",
         "c_PersonNatio": "Australia",
         "c_NOC": "Australia",
         "c_Result": "52.88",
         "n_ResultSort": "52880",
         "c_Class": "Elite",
         "_deepnote_index_column": "6"
        },
        {
         "c_Sport": "Swimming",
         "c_Season": "2018",
         "c_Event": "100m Backstroke",
         "c_Gender": "Men",
         "n_DateSort": "20180806",
         "c_Person": "Grigoriy Tarasevich",
         "c_PersonNatio": "Russia",
         "c_NOC": "Russia",
         "c_Result": "53.22",
         "n_ResultSort": "53220",
         "c_Class": "Elite",
         "_deepnote_index_column": "7"
        },
        {
         "c_Sport": "Swimming",
         "c_Season": "2018",
         "c_Event": "100m Backstroke",
         "c_Gender": "Men",
         "n_DateSort": "20180728",
         "c_Person": "Justin Ress",
         "c_PersonNatio": "United States",
         "c_NOC": "United States",
         "c_Result": "53.26",
         "n_ResultSort": "53260",
         "c_Class": "Elite",
         "_deepnote_index_column": "8"
        },
        {
         "c_Sport": "Swimming",
         "c_Season": "2018",
         "c_Event": "100m Backstroke",
         "c_Gender": "Men",
         "n_DateSort": "20180527",
         "c_Person": "Robert Glinta",
         "c_PersonNatio": "Romania",
         "c_NOC": "Romania",
         "c_Result": "53.32",
         "n_ResultSort": "53320",
         "c_Class": "Elite",
         "_deepnote_index_column": "9"
        }
       ]
      },
      "text/plain": "        c_Sport  c_Season          c_Event c_Gender  n_DateSort  \\\n0      Swimming      2018  100m Backstroke      Men    20180809   \n1      Swimming      2018  100m Backstroke      Men    20180822   \n2      Swimming      2018  100m Backstroke      Men    20180806   \n3      Swimming      2018  100m Backstroke      Men    20180819   \n4      Swimming      2018  100m Backstroke      Men    20180728   \n...         ...       ...              ...      ...         ...   \n16943  Swimming      2018   800m Freestyle    Women    20180726   \n16944  Swimming      2018   800m Freestyle    Women    20180519   \n16945  Swimming      2018   800m Freestyle    Women    20180421   \n16946  Swimming      2018   800m Freestyle    Women    20180302   \n16947  Swimming      2018   800m Freestyle    Women    20180609   \n\n                 c_Person  c_PersonNatio          c_NOC c_Result  \\\n0             Ryan Murphy  United States  United States    51.94   \n1                Xu Jiayu          China          China    52.30   \n2      Kliment Kolesnikov         Russia         Russia    52.51   \n3            Ryosuke Irie          Japan          Japan    52.53   \n4            Matt Grevers  United States  United States    52.55   \n...                   ...            ...            ...      ...   \n16943       Klara Bosnjak        Croatia        Croatia  9:02.44   \n16944     Chantel Jeffrey         Canada         Canada  9:02.47   \n16945          Bindi Ware      Australia      Australia  9:02.48   \n16946    Ebony Blackstone      Australia      Australia  9:02.54   \n16947      Mia Steen Duus        Denmark        Denmark  9:02.55   \n\n       n_ResultSort c_Class  \n0             51940   Elite  \n1             52300   Elite  \n2             52510   Elite  \n3             52530   Elite  \n4             52550   Elite  \n...             ...     ...  \n16943        542440   Elite  \n16944        542470   Elite  \n16945        542480   Elite  \n16946        542540   Elite  \n16947        542550   Elite  \n\n[16948 rows x 11 columns]",
      "text/html": "<div>\n<style scoped>\n    .dataframe tbody tr th:only-of-type {\n        vertical-align: middle;\n    }\n\n    .dataframe tbody tr th {\n        vertical-align: top;\n    }\n\n    .dataframe thead th {\n        text-align: right;\n    }\n</style>\n<table border=\"1\" class=\"dataframe\">\n  <thead>\n    <tr style=\"text-align: right;\">\n      <th></th>\n      <th>c_Sport</th>\n      <th>c_Season</th>\n      <th>c_Event</th>\n      <th>c_Gender</th>\n      <th>n_DateSort</th>\n      <th>c_Person</th>\n      <th>c_PersonNatio</th>\n      <th>c_NOC</th>\n      <th>c_Result</th>\n      <th>n_ResultSort</th>\n      <th>c_Class</th>\n    </tr>\n  </thead>\n  <tbody>\n    <tr>\n      <th>0</th>\n      <td>Swimming</td>\n      <td>2018</td>\n      <td>100m Backstroke</td>\n      <td>Men</td>\n      <td>20180809</td>\n      <td>Ryan Murphy</td>\n      <td>United States</td>\n      <td>United States</td>\n      <td>51.94</td>\n      <td>51940</td>\n      <td>Elite</td>\n    </tr>\n    <tr>\n      <th>1</th>\n      <td>Swimming</td>\n      <td>2018</td>\n      <td>100m Backstroke</td>\n      <td>Men</td>\n      <td>20180822</td>\n      <td>Xu Jiayu</td>\n      <td>China</td>\n      <td>China</td>\n      <td>52.30</td>\n      <td>52300</td>\n      <td>Elite</td>\n    </tr>\n    <tr>\n      <th>2</th>\n      <td>Swimming</td>\n      <td>2018</td>\n      <td>100m Backstroke</td>\n      <td>Men</td>\n      <td>20180806</td>\n      <td>Kliment Kolesnikov</td>\n      <td>Russia</td>\n      <td>Russia</td>\n      <td>52.51</td>\n      <td>52510</td>\n      <td>Elite</td>\n    </tr>\n    <tr>\n      <th>3</th>\n      <td>Swimming</td>\n      <td>2018</td>\n      <td>100m Backstroke</td>\n      <td>Men</td>\n      <td>20180819</td>\n      <td>Ryosuke Irie</td>\n      <td>Japan</td>\n      <td>Japan</td>\n      <td>52.53</td>\n      <td>52530</td>\n      <td>Elite</td>\n    </tr>\n    <tr>\n      <th>4</th>\n      <td>Swimming</td>\n      <td>2018</td>\n      <td>100m Backstroke</td>\n      <td>Men</td>\n      <td>20180728</td>\n      <td>Matt Grevers</td>\n      <td>United States</td>\n      <td>United States</td>\n      <td>52.55</td>\n      <td>52550</td>\n      <td>Elite</td>\n    </tr>\n    <tr>\n      <th>...</th>\n      <td>...</td>\n      <td>...</td>\n      <td>...</td>\n      <td>...</td>\n      <td>...</td>\n      <td>...</td>\n      <td>...</td>\n      <td>...</td>\n      <td>...</td>\n      <td>...</td>\n      <td>...</td>\n    </tr>\n    <tr>\n      <th>16943</th>\n      <td>Swimming</td>\n      <td>2018</td>\n      <td>800m Freestyle</td>\n      <td>Women</td>\n      <td>20180726</td>\n      <td>Klara Bosnjak</td>\n      <td>Croatia</td>\n      <td>Croatia</td>\n      <td>9:02.44</td>\n      <td>542440</td>\n      <td>Elite</td>\n    </tr>\n    <tr>\n      <th>16944</th>\n      <td>Swimming</td>\n      <td>2018</td>\n      <td>800m Freestyle</td>\n      <td>Women</td>\n      <td>20180519</td>\n      <td>Chantel Jeffrey</td>\n      <td>Canada</td>\n      <td>Canada</td>\n      <td>9:02.47</td>\n      <td>542470</td>\n      <td>Elite</td>\n    </tr>\n    <tr>\n      <th>16945</th>\n      <td>Swimming</td>\n      <td>2018</td>\n      <td>800m Freestyle</td>\n      <td>Women</td>\n      <td>20180421</td>\n      <td>Bindi Ware</td>\n      <td>Australia</td>\n      <td>Australia</td>\n      <td>9:02.48</td>\n      <td>542480</td>\n      <td>Elite</td>\n    </tr>\n    <tr>\n      <th>16946</th>\n      <td>Swimming</td>\n      <td>2018</td>\n      <td>800m Freestyle</td>\n      <td>Women</td>\n      <td>20180302</td>\n      <td>Ebony Blackstone</td>\n      <td>Australia</td>\n      <td>Australia</td>\n      <td>9:02.54</td>\n      <td>542540</td>\n      <td>Elite</td>\n    </tr>\n    <tr>\n      <th>16947</th>\n      <td>Swimming</td>\n      <td>2018</td>\n      <td>800m Freestyle</td>\n      <td>Women</td>\n      <td>20180609</td>\n      <td>Mia Steen Duus</td>\n      <td>Denmark</td>\n      <td>Denmark</td>\n      <td>9:02.55</td>\n      <td>542550</td>\n      <td>Elite</td>\n    </tr>\n  </tbody>\n</table>\n<p>16948 rows × 11 columns</p>\n</div>"
     },
     "metadata": {}
    }
   ],
   "execution_count": null
  },
  {
   "cell_type": "markdown",
   "source": "#### 3. Filter Dataframe to contain athletes from 'Great Britain' only.\n> e.g. https://stackoverflow.com/questions/17071871/how-to-select-rows-from-a-dataframe-based-on-column-values",
   "metadata": {
    "tags": [],
    "cell_id": "00002-5d81d3aa-18ba-421f-88ac-322e4c2f7462",
    "deepnote_cell_type": "markdown",
    "deepnote_cell_height": 102.390625
   }
  },
  {
   "cell_type": "code",
   "source": "newdf = df.loc[df['c_NOC'] == 'Great Britain']\nnewdf",
   "metadata": {
    "cell_id": "a1bd4815eade45368e3cf240836ffdef",
    "tags": [],
    "deepnote_to_be_reexecuted": false,
    "source_hash": "865ff5ed",
    "execution_start": 1669990769977,
    "execution_millis": 57,
    "deepnote_cell_type": "code",
    "deepnote_cell_height": 630,
    "deepnote_output_heights": [
     606
    ]
   },
   "outputs": [
    {
     "output_type": "execute_result",
     "execution_count": 23,
     "data": {
      "application/vnd.deepnote.dataframe.v3+json": {
       "column_count": 11,
       "row_count": 874,
       "columns": [
        {
         "name": "c_Sport",
         "dtype": "object",
         "stats": {
          "unique_count": 1,
          "nan_count": 0,
          "categories": [
           {
            "name": "Swimming",
            "count": 874
           }
          ]
         }
        },
        {
         "name": "c_Season",
         "dtype": "int64",
         "stats": {
          "unique_count": 1,
          "nan_count": 0,
          "min": "2018",
          "max": "2018",
          "histogram": [
           {
            "bin_start": 2017.5,
            "bin_end": 2017.6,
            "count": 0
           },
           {
            "bin_start": 2017.6,
            "bin_end": 2017.7,
            "count": 0
           },
           {
            "bin_start": 2017.7,
            "bin_end": 2017.8,
            "count": 0
           },
           {
            "bin_start": 2017.8,
            "bin_end": 2017.9,
            "count": 0
           },
           {
            "bin_start": 2017.9,
            "bin_end": 2018,
            "count": 0
           },
           {
            "bin_start": 2018,
            "bin_end": 2018.1,
            "count": 874
           },
           {
            "bin_start": 2018.1,
            "bin_end": 2018.2,
            "count": 0
           },
           {
            "bin_start": 2018.2,
            "bin_end": 2018.3,
            "count": 0
           },
           {
            "bin_start": 2018.3,
            "bin_end": 2018.4,
            "count": 0
           },
           {
            "bin_start": 2018.4,
            "bin_end": 2018.5,
            "count": 0
           }
          ]
         }
        },
        {
         "name": "c_Event",
         "dtype": "object",
         "stats": {
          "unique_count": 20,
          "nan_count": 0,
          "categories": [
           {
            "name": "50m Breaststroke",
            "count": 66
           },
           {
            "name": "200m Backstroke",
            "count": 65
           },
           {
            "name": "18 others",
            "count": 743
           }
          ]
         }
        },
        {
         "name": "c_Gender",
         "dtype": "object",
         "stats": {
          "unique_count": 3,
          "nan_count": 0,
          "categories": [
           {
            "name": "Women",
            "count": 502
           },
           {
            "name": "Men",
            "count": 369
           },
           {
            "name": "Mixed",
            "count": 3
           }
          ]
         }
        },
        {
         "name": "n_DateSort",
         "dtype": "int64",
         "stats": {
          "unique_count": 89,
          "nan_count": 0,
          "min": "20180111",
          "max": "20181201",
          "histogram": [
           {
            "bin_start": 20180111,
            "bin_end": 20180220,
            "count": 27
           },
           {
            "bin_start": 20180220,
            "bin_end": 20180329,
            "count": 125
           },
           {
            "bin_start": 20180329,
            "bin_end": 20180438,
            "count": 195
           },
           {
            "bin_start": 20180438,
            "bin_end": 20180547,
            "count": 32
           },
           {
            "bin_start": 20180547,
            "bin_end": 20180656,
            "count": 27
           },
           {
            "bin_start": 20180656,
            "bin_end": 20180765,
            "count": 413
           },
           {
            "bin_start": 20180765,
            "bin_end": 20180874,
            "count": 49
           },
           {
            "bin_start": 20180874,
            "bin_end": 20180983,
            "count": 0
           },
           {
            "bin_start": 20180983,
            "bin_end": 20181092,
            "count": 0
           },
           {
            "bin_start": 20181092,
            "bin_end": 20181201,
            "count": 6
           }
          ]
         }
        },
        {
         "name": "c_Person",
         "dtype": "object",
         "stats": {
          "unique_count": 362,
          "nan_count": 9,
          "categories": [
           {
            "name": "Laura Stephens",
            "count": 8
           },
           {
            "name": "361 others",
            "count": 857
           },
           {
            "name": "Missing",
            "count": 9
           }
          ]
         }
        },
        {
         "name": "c_PersonNatio",
         "dtype": "object",
         "stats": {
          "unique_count": 9,
          "nan_count": 9,
          "categories": [
           {
            "name": "Great Britain",
            "count": 609
           },
           {
            "name": "8 others",
            "count": 256
           },
           {
            "name": "Missing",
            "count": 9
           }
          ]
         }
        },
        {
         "name": "c_NOC",
         "dtype": "object",
         "stats": {
          "unique_count": 1,
          "nan_count": 0,
          "categories": [
           {
            "name": "Great Britain",
            "count": 874
           }
          ]
         }
        },
        {
         "name": "c_Result",
         "dtype": "object",
         "stats": {
          "unique_count": 815,
          "nan_count": 0,
          "categories": [
           {
            "name": "25.94",
            "count": 4
           },
           {
            "name": "26.09",
            "count": 3
           },
           {
            "name": "813 others",
            "count": 867
           }
          ]
         }
        },
        {
         "name": "n_ResultSort",
         "dtype": "int64",
         "stats": {
          "unique_count": 815,
          "nan_count": 0,
          "min": "21110",
          "max": "1034890",
          "histogram": [
           {
            "bin_start": 21110,
            "bin_end": 122488,
            "count": 500
           },
           {
            "bin_start": 122488,
            "bin_end": 223866,
            "count": 204
           },
           {
            "bin_start": 223866,
            "bin_end": 325244,
            "count": 89
           },
           {
            "bin_start": 325244,
            "bin_end": 426622,
            "count": 1
           },
           {
            "bin_start": 426622,
            "bin_end": 528000,
            "count": 29
           },
           {
            "bin_start": 528000,
            "bin_end": 629378,
            "count": 20
           },
           {
            "bin_start": 629378,
            "bin_end": 730756,
            "count": 0
           },
           {
            "bin_start": 730756,
            "bin_end": 832134,
            "count": 0
           },
           {
            "bin_start": 832134,
            "bin_end": 933512,
            "count": 3
           },
           {
            "bin_start": 933512,
            "bin_end": 1034890,
            "count": 28
           }
          ]
         }
        },
        {
         "name": "c_Class",
         "dtype": "object",
         "stats": {
          "unique_count": 1,
          "nan_count": 0,
          "categories": [
           {
            "name": "Elite",
            "count": 874
           }
          ]
         }
        },
        {
         "name": "_deepnote_index_column",
         "dtype": "int64"
        }
       ],
       "rows": [
        {
         "c_Sport": "Swimming",
         "c_Season": "2018",
         "c_Event": "100m Backstroke",
         "c_Gender": "Men",
         "n_DateSort": "20180407",
         "c_Person": "Chris Walker-Hebborn",
         "c_PersonNatio": "England",
         "c_NOC": "Great Britain",
         "c_Result": "54.23",
         "n_ResultSort": "54230",
         "c_Class": "Elite",
         "_deepnote_index_column": "39"
        },
        {
         "c_Sport": "Swimming",
         "c_Season": "2018",
         "c_Event": "100m Backstroke",
         "c_Gender": "Men",
         "n_DateSort": "20180406",
         "c_Person": "Luke Greenbank",
         "c_PersonNatio": "England",
         "c_NOC": "Great Britain",
         "c_Result": "54.37",
         "n_ResultSort": "54370",
         "c_Class": "Elite",
         "_deepnote_index_column": "47"
        },
        {
         "c_Sport": "Swimming",
         "c_Season": "2018",
         "c_Event": "100m Backstroke",
         "c_Gender": "Men",
         "n_DateSort": "20180806",
         "c_Person": "Nicholas Pyle",
         "c_PersonNatio": "Great Britain",
         "c_NOC": "Great Britain",
         "c_Result": "54.50",
         "n_ResultSort": "54500",
         "c_Class": "Elite",
         "_deepnote_index_column": "60"
        },
        {
         "c_Sport": "Swimming",
         "c_Season": "2018",
         "c_Event": "100m Backstroke",
         "c_Gender": "Men",
         "n_DateSort": "20180406",
         "c_Person": "Xavier Castelli",
         "c_PersonNatio": "Wales",
         "c_NOC": "Great Britain",
         "c_Result": "54.60",
         "n_ResultSort": "54600",
         "c_Class": "Elite",
         "_deepnote_index_column": "62"
        },
        {
         "c_Sport": "Swimming",
         "c_Season": "2018",
         "c_Event": "100m Backstroke",
         "c_Gender": "Men",
         "n_DateSort": "20180805",
         "c_Person": "Brodie Williams",
         "c_PersonNatio": "Great Britain",
         "c_NOC": "Great Britain",
         "c_Result": "54.60",
         "n_ResultSort": "54600",
         "c_Class": "Elite",
         "_deepnote_index_column": "63"
        },
        {
         "c_Sport": "Swimming",
         "c_Season": "2018",
         "c_Event": "100m Backstroke",
         "c_Gender": "Men",
         "n_DateSort": "20180405",
         "c_Person": "Elliot Clogg",
         "c_PersonNatio": "England",
         "c_NOC": "Great Britain",
         "c_Result": "55.08",
         "n_ResultSort": "55080",
         "c_Class": "Elite",
         "_deepnote_index_column": "108"
        },
        {
         "c_Sport": "Swimming",
         "c_Season": "2018",
         "c_Event": "100m Backstroke",
         "c_Gender": "Men",
         "n_DateSort": "20180407",
         "c_Person": "Daniel Cross",
         "c_PersonNatio": "Great Britain",
         "c_NOC": "Great Britain",
         "c_Result": "55.09",
         "n_ResultSort": "55090",
         "c_Class": "Elite",
         "_deepnote_index_column": "111"
        },
        {
         "c_Sport": "Swimming",
         "c_Season": "2018",
         "c_Event": "100m Backstroke",
         "c_Gender": "Men",
         "n_DateSort": "20180405",
         "c_Person": "Craig McNally",
         "c_PersonNatio": "Scotland",
         "c_NOC": "Great Britain",
         "c_Result": "55.28",
         "n_ResultSort": "55280",
         "c_Class": "Elite",
         "_deepnote_index_column": "126"
        },
        {
         "c_Sport": "Swimming",
         "c_Season": "2018",
         "c_Event": "100m Backstroke",
         "c_Gender": "Men",
         "n_DateSort": "20180725",
         "c_Person": "Martyn Walton",
         "c_PersonNatio": "England",
         "c_NOC": "Great Britain",
         "c_Result": "55.34",
         "n_ResultSort": "55340",
         "c_Class": "Elite",
         "_deepnote_index_column": "134"
        },
        {
         "c_Sport": "Swimming",
         "c_Season": "2018",
         "c_Event": "100m Backstroke",
         "c_Gender": "Men",
         "n_DateSort": "20180721",
         "c_Person": "Joseph Clark",
         "c_PersonNatio": "Great Britain",
         "c_NOC": "Great Britain",
         "c_Result": "55.55",
         "n_ResultSort": "55550",
         "c_Class": "Elite",
         "_deepnote_index_column": "174"
        }
       ]
      },
      "text/plain": "        c_Sport  c_Season          c_Event c_Gender  n_DateSort  \\\n39     Swimming      2018  100m Backstroke      Men    20180407   \n47     Swimming      2018  100m Backstroke      Men    20180406   \n60     Swimming      2018  100m Backstroke      Men    20180806   \n62     Swimming      2018  100m Backstroke      Men    20180406   \n63     Swimming      2018  100m Backstroke      Men    20180805   \n...         ...       ...              ...      ...         ...   \n16873  Swimming      2018   800m Freestyle    Women    20180725   \n16903  Swimming      2018   800m Freestyle    Women    20180302   \n16918  Swimming      2018   800m Freestyle    Women    20180323   \n16930  Swimming      2018   800m Freestyle    Women    20180507   \n16938  Swimming      2018   800m Freestyle    Women    20180331   \n\n                   c_Person  c_PersonNatio          c_NOC c_Result  \\\n39     Chris Walker-Hebborn        England  Great Britain    54.23   \n47           Luke Greenbank        England  Great Britain    54.37   \n60            Nicholas Pyle  Great Britain  Great Britain    54.50   \n62          Xavier Castelli          Wales  Great Britain    54.60   \n63          Brodie Williams  Great Britain  Great Britain    54.60   \n...                     ...            ...            ...      ...   \n16873         Freya Colbert  Great Britain  Great Britain  8:59.58   \n16903        Aisha Thornton  Great Britain  Great Britain  9:00.89   \n16918           Fleur Lewis  Great Britain  Great Britain  9:01.59   \n16930          Betsy Wizard  Great Britain  Great Britain  9:01.90   \n16938          Iona Macleod  Great Britain  Great Britain  9:02.12   \n\n       n_ResultSort c_Class  \n39            54230   Elite  \n47            54370   Elite  \n60            54500   Elite  \n62            54600   Elite  \n63            54600   Elite  \n...             ...     ...  \n16873        539580   Elite  \n16903        540890   Elite  \n16918        541590   Elite  \n16930        541900   Elite  \n16938        542120   Elite  \n\n[874 rows x 11 columns]",
      "text/html": "<div>\n<style scoped>\n    .dataframe tbody tr th:only-of-type {\n        vertical-align: middle;\n    }\n\n    .dataframe tbody tr th {\n        vertical-align: top;\n    }\n\n    .dataframe thead th {\n        text-align: right;\n    }\n</style>\n<table border=\"1\" class=\"dataframe\">\n  <thead>\n    <tr style=\"text-align: right;\">\n      <th></th>\n      <th>c_Sport</th>\n      <th>c_Season</th>\n      <th>c_Event</th>\n      <th>c_Gender</th>\n      <th>n_DateSort</th>\n      <th>c_Person</th>\n      <th>c_PersonNatio</th>\n      <th>c_NOC</th>\n      <th>c_Result</th>\n      <th>n_ResultSort</th>\n      <th>c_Class</th>\n    </tr>\n  </thead>\n  <tbody>\n    <tr>\n      <th>39</th>\n      <td>Swimming</td>\n      <td>2018</td>\n      <td>100m Backstroke</td>\n      <td>Men</td>\n      <td>20180407</td>\n      <td>Chris Walker-Hebborn</td>\n      <td>England</td>\n      <td>Great Britain</td>\n      <td>54.23</td>\n      <td>54230</td>\n      <td>Elite</td>\n    </tr>\n    <tr>\n      <th>47</th>\n      <td>Swimming</td>\n      <td>2018</td>\n      <td>100m Backstroke</td>\n      <td>Men</td>\n      <td>20180406</td>\n      <td>Luke Greenbank</td>\n      <td>England</td>\n      <td>Great Britain</td>\n      <td>54.37</td>\n      <td>54370</td>\n      <td>Elite</td>\n    </tr>\n    <tr>\n      <th>60</th>\n      <td>Swimming</td>\n      <td>2018</td>\n      <td>100m Backstroke</td>\n      <td>Men</td>\n      <td>20180806</td>\n      <td>Nicholas Pyle</td>\n      <td>Great Britain</td>\n      <td>Great Britain</td>\n      <td>54.50</td>\n      <td>54500</td>\n      <td>Elite</td>\n    </tr>\n    <tr>\n      <th>62</th>\n      <td>Swimming</td>\n      <td>2018</td>\n      <td>100m Backstroke</td>\n      <td>Men</td>\n      <td>20180406</td>\n      <td>Xavier Castelli</td>\n      <td>Wales</td>\n      <td>Great Britain</td>\n      <td>54.60</td>\n      <td>54600</td>\n      <td>Elite</td>\n    </tr>\n    <tr>\n      <th>63</th>\n      <td>Swimming</td>\n      <td>2018</td>\n      <td>100m Backstroke</td>\n      <td>Men</td>\n      <td>20180805</td>\n      <td>Brodie Williams</td>\n      <td>Great Britain</td>\n      <td>Great Britain</td>\n      <td>54.60</td>\n      <td>54600</td>\n      <td>Elite</td>\n    </tr>\n    <tr>\n      <th>...</th>\n      <td>...</td>\n      <td>...</td>\n      <td>...</td>\n      <td>...</td>\n      <td>...</td>\n      <td>...</td>\n      <td>...</td>\n      <td>...</td>\n      <td>...</td>\n      <td>...</td>\n      <td>...</td>\n    </tr>\n    <tr>\n      <th>16873</th>\n      <td>Swimming</td>\n      <td>2018</td>\n      <td>800m Freestyle</td>\n      <td>Women</td>\n      <td>20180725</td>\n      <td>Freya Colbert</td>\n      <td>Great Britain</td>\n      <td>Great Britain</td>\n      <td>8:59.58</td>\n      <td>539580</td>\n      <td>Elite</td>\n    </tr>\n    <tr>\n      <th>16903</th>\n      <td>Swimming</td>\n      <td>2018</td>\n      <td>800m Freestyle</td>\n      <td>Women</td>\n      <td>20180302</td>\n      <td>Aisha Thornton</td>\n      <td>Great Britain</td>\n      <td>Great Britain</td>\n      <td>9:00.89</td>\n      <td>540890</td>\n      <td>Elite</td>\n    </tr>\n    <tr>\n      <th>16918</th>\n      <td>Swimming</td>\n      <td>2018</td>\n      <td>800m Freestyle</td>\n      <td>Women</td>\n      <td>20180323</td>\n      <td>Fleur Lewis</td>\n      <td>Great Britain</td>\n      <td>Great Britain</td>\n      <td>9:01.59</td>\n      <td>541590</td>\n      <td>Elite</td>\n    </tr>\n    <tr>\n      <th>16930</th>\n      <td>Swimming</td>\n      <td>2018</td>\n      <td>800m Freestyle</td>\n      <td>Women</td>\n      <td>20180507</td>\n      <td>Betsy Wizard</td>\n      <td>Great Britain</td>\n      <td>Great Britain</td>\n      <td>9:01.90</td>\n      <td>541900</td>\n      <td>Elite</td>\n    </tr>\n    <tr>\n      <th>16938</th>\n      <td>Swimming</td>\n      <td>2018</td>\n      <td>800m Freestyle</td>\n      <td>Women</td>\n      <td>20180331</td>\n      <td>Iona Macleod</td>\n      <td>Great Britain</td>\n      <td>Great Britain</td>\n      <td>9:02.12</td>\n      <td>542120</td>\n      <td>Elite</td>\n    </tr>\n  </tbody>\n</table>\n<p>874 rows × 11 columns</p>\n</div>"
     },
     "metadata": {}
    }
   ],
   "execution_count": null
  },
  {
   "cell_type": "markdown",
   "source": "#### 4. Write the filtered dataframe to a new file called ```gb_swimming_psb_data.csv``` within the ```data``` folder.\n> e.g. https://pandas.pydata.org/pandas-docs/stable/reference/api/pandas.DataFrame.to_csv.html",
   "metadata": {
    "tags": [],
    "cell_id": "00004-a32b6cec-950e-4f27-99f9-84c56b795510",
    "deepnote_cell_type": "markdown",
    "deepnote_cell_height": 127.390625
   }
  },
  {
   "cell_type": "code",
   "source": "newdf.to_csv('/work/2.Python Wrangling Challenge/data/gb_swimming_psb_data3.csv')",
   "metadata": {
    "tags": [],
    "cell_id": "00005-770a3f8a-3415-4223-ab03-942c70841370",
    "deepnote_to_be_reexecuted": false,
    "source_hash": "829eaacf",
    "execution_start": 1669991071194,
    "execution_millis": 9,
    "deepnote_cell_type": "code",
    "deepnote_cell_height": 76
   },
   "outputs": [],
   "execution_count": null
  },
  {
   "cell_type": "markdown",
   "source": "<a style='text-decoration:none;line-height:16px;display:flex;color:#5B5B62;padding:10px;justify-content:end;' href='https://deepnote.com?utm_source=created-in-deepnote-cell&projectId=82522c04-b10e-4808-ba92-f37909eae5ea' target=\"_blank\">\n<img alt='Created in deepnote.com' style='display:inline;max-height:16px;margin:0px;margin-right:7.5px;' src='data:image/svg+xml;base64,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' > </img>\nCreated in <span style='font-weight:600;margin-left:4px;'>Deepnote</span></a>",
   "metadata": {
    "tags": [],
    "created_in_deepnote_cell": true,
    "deepnote_cell_type": "markdown"
   }
  }
 ],
 "nbformat": 4,
 "nbformat_minor": 2,
 "metadata": {
  "orig_nbformat": 2,
  "deepnote_notebook_id": "c2343103-8806-446f-8ff8-e8cb14b7d329",
  "deepnote_execution_queue": [],
  "deepnote": {}
 }
}