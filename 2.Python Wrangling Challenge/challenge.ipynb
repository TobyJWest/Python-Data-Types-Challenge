{
 "cells": [
  {
   "cell_type": "markdown",
   "source": "## Python Wrangling Challenge - Part 1\n\n> Handling data in Python\n\nIf you havn't already, inspect the data for this challenge. Deepnote may not be the best place to inspect this data for the first time. Try opening the csv in excel or google sheets.\n\n1. ##### Complete steps in `python_json.ipynb` (see notebooks folder). Here you'll be handling data (JSON) with plain Python.\n\n2. ##### Example Answers are below, only click `Show it` once you've had a good attempted at it!\n",
   "metadata": {
    "tags": [],
    "cell_id": "00000-73206ade-93a4-431d-968c-50c6a802b5cb",
    "output_cleared": false,
    "deepnote_cell_type": "markdown",
    "deepnote_cell_height": 246.171875
   }
  },
  {
   "cell_type": "code",
   "metadata": {
    "tags": [],
    "cell_id": "00001-49aed91c-49d7-4aa2-add8-1c9dc85c5322",
    "output_cleared": false,
    "source_hash": "de4206b5",
    "execution_millis": 128,
    "is_code_hidden": false,
    "deepnote_to_be_reexecuted": false,
    "execution_start": 1668675972504,
    "deepnote_cell_type": "code",
    "deepnote_cell_height": 400
   },
   "source": "# Import json lib\nimport json\n\n# Open file\nraw_json_data = open('data/swimming_psb_data.json')\n\n# Deserialize JSON data with json.load() function\nlist_of_athlete_dicts = json.load(raw_json_data)\n\n# Filter all Great British Athletes from psb_data list (example below using for loop to populate british athlete list)\nbritish_athlete_list = []\nfor athlete_dict in list_of_athlete_dicts:\n    if athlete_dict['c_NOC'] == 'Great Britain':\n        british_athlete_list.append(athlete_dict) \n\n# Write Serialized JSON data (using json.dumps() function) to new json file in data folder.\nwith open('data/british_psb_data.json', 'w') as file:\n    british_athlete_list_json = json.dumps(british_athlete_list) \n    file.write(british_athlete_list_json)",
   "execution_count": null,
   "outputs": []
  },
  {
   "cell_type": "markdown",
   "source": "## Python Wrangling Challenge - Part 2\n\n> Handling data in Python with Pandas\n\n1. ##### **Read** the [Introduction to Pandas](https://pandas.pydata.org/docs/getting_started/index.html#intro-to-pandas) and bookmark the Pandas Documentation (specifically the [API Reference](https://pandas.pydata.org/docs/reference/index.html#api)). Keep this [pandas cheatsheet](https://github.com/pandas-dev/pandas/blob/master/doc/cheatsheet/Pandas_Cheat_Sheet.pdf) handy too!\n\n2. ##### Finish the **```python_json_pandas.ipynb```** notebook (see notebooks folder) using [Pandas](https://pandas.pydata.org/docs/) to achieve the same outcome as the **```python_json.ipynb```** notebook.\n\n3. ##### Finish the **```python_csv_pandas.ipynb```** notebook (see notebooks folder) using [Pandas](https://pandas.pydata.org/docs/) to achieve the same outcome as the **```python_json.ipynb```** notebook, but with the ***CSV*** data.\n\n4. ##### Have each notebook wrangle the data of all ```100m Breaststroke``` swimmers from ```Great Britain```.",
   "metadata": {
    "tags": [],
    "cell_id": "00001-1a150f1d-b7e5-4e3c-9cb3-51f65ecb751a",
    "deepnote_cell_type": "markdown",
    "deepnote_cell_height": 289.390625
   }
  },
  {
   "cell_type": "markdown",
   "source": "## Python Wrangling Challenge - Part 3\n\n> Answer these questions using Pandas.\n\n1. ##### What is the shape of the dataset. How many rows and columns?\n\n2. ##### Are there any columns with missing data, if so, which ones? \n    Hint: [`df.info()`](https://pandas.pydata.org/docs/reference/api/pandas.DataFrame.info.html)?\n\n3. ##### Who is the fastest male 100m Breaststroke swimmer?\n\n4. ##### What is the median result (in seconds) for the womens 200m Individual Medley?\n\n5. ##### How many different countries are represented by female athletes within the data?\n\n6. ##### Can you plot a distribution of countries represented by all female athletes via a [bar chart](https://pandas.pydata.org/docs/reference/api/pandas.DataFrame.plot.bar.html)? \n    Hint: [`df.value_counts()`](https://pandas.pydata.org/docs/reference/api/pandas.Series.value_counts.html)?\n",
   "metadata": {
    "tags": [],
    "cell_id": "00001-1e2d1d5c-336b-4935-a215-790e875d58f8",
    "output_cleared": false,
    "deepnote_cell_type": "markdown",
    "deepnote_cell_height": 364.171875
   }
  },
  {
   "cell_type": "code",
   "metadata": {
    "tags": [],
    "cell_id": "00004-1e144669-c1ed-4bcd-809f-ef36f617e598",
    "deepnote_to_be_reexecuted": false,
    "source_hash": "bd6c95cf",
    "execution_millis": 224,
    "execution_start": 1669991906248,
    "deepnote_table_state": {
     "pageSize": 10,
     "pageIndex": 0,
     "filters": [],
     "sortBy": []
    },
    "deepnote_table_loading": false,
    "deepnote_cell_type": "code",
    "deepnote_cell_height": 666
   },
   "source": "import pandas as pd\n\ndf = pd.read_csv('data/swimming_psb_data.csv')\ndf",
   "execution_count": null,
   "outputs": [
    {
     "output_type": "execute_result",
     "execution_count": 63,
     "data": {
      "application/vnd.deepnote.dataframe.v3+json": {
       "column_count": 11,
       "row_count": 16948,
       "columns": [
        {
         "name": "c_Sport",
         "dtype": "object",
         "stats": {
          "unique_count": 1,
          "nan_count": 0,
          "categories": [
           {
            "name": "Swimming",
            "count": 16948
           }
          ]
         }
        },
        {
         "name": "c_Season",
         "dtype": "int64",
         "stats": {
          "unique_count": 1,
          "nan_count": 0,
          "min": "2018",
          "max": "2018",
          "histogram": [
           {
            "bin_start": 2017.5,
            "bin_end": 2017.6,
            "count": 0
           },
           {
            "bin_start": 2017.6,
            "bin_end": 2017.7,
            "count": 0
           },
           {
            "bin_start": 2017.7,
            "bin_end": 2017.8,
            "count": 0
           },
           {
            "bin_start": 2017.8,
            "bin_end": 2017.9,
            "count": 0
           },
           {
            "bin_start": 2017.9,
            "bin_end": 2018,
            "count": 0
           },
           {
            "bin_start": 2018,
            "bin_end": 2018.1,
            "count": 16948
           },
           {
            "bin_start": 2018.1,
            "bin_end": 2018.2,
            "count": 0
           },
           {
            "bin_start": 2018.2,
            "bin_end": 2018.3,
            "count": 0
           },
           {
            "bin_start": 2018.3,
            "bin_end": 2018.4,
            "count": 0
           },
           {
            "bin_start": 2018.4,
            "bin_end": 2018.5,
            "count": 0
           }
          ]
         }
        },
        {
         "name": "c_Event",
         "dtype": "object",
         "stats": {
          "unique_count": 20,
          "nan_count": 0,
          "categories": [
           {
            "name": "800m Freestyle",
            "count": 989
           },
           {
            "name": "200m Individual Medley",
            "count": 988
           },
           {
            "name": "18 others",
            "count": 14971
           }
          ]
         }
        },
        {
         "name": "c_Gender",
         "dtype": "object",
         "stats": {
          "unique_count": 3,
          "nan_count": 0,
          "categories": [
           {
            "name": "Men",
            "count": 8458
           },
           {
            "name": "Women",
            "count": 8394
           },
           {
            "name": "Mixed",
            "count": 96
           }
          ]
         }
        },
        {
         "name": "n_DateSort",
         "dtype": "int64",
         "stats": {
          "unique_count": 232,
          "nan_count": 0,
          "min": "20180104",
          "max": "20181223",
          "histogram": [
           {
            "bin_start": 20180104,
            "bin_end": 20180215.9,
            "count": 521
           },
           {
            "bin_start": 20180215.9,
            "bin_end": 20180327.8,
            "count": 844
           },
           {
            "bin_start": 20180327.8,
            "bin_end": 20180439.7,
            "count": 4274
           },
           {
            "bin_start": 20180439.7,
            "bin_end": 20180551.6,
            "count": 1718
           },
           {
            "bin_start": 20180551.6,
            "bin_end": 20180663.5,
            "count": 1210
           },
           {
            "bin_start": 20180663.5,
            "bin_end": 20180775.4,
            "count": 4327
           },
           {
            "bin_start": 20180775.4,
            "bin_end": 20180887.3,
            "count": 2647
           },
           {
            "bin_start": 20180887.3,
            "bin_end": 20180999.2,
            "count": 684
           },
           {
            "bin_start": 20180999.2,
            "bin_end": 20181111.1,
            "count": 413
           },
           {
            "bin_start": 20181111.1,
            "bin_end": 20181223,
            "count": 310
           }
          ]
         }
        },
        {
         "name": "c_Person",
         "dtype": "object"
        },
        {
         "name": "c_PersonNatio",
         "dtype": "object"
        },
        {
         "name": "c_NOC",
         "dtype": "object"
        },
        {
         "name": "c_Result",
         "dtype": "object"
        },
        {
         "name": "n_ResultSort",
         "dtype": "int64"
        },
        {
         "name": "c_Class",
         "dtype": "object"
        },
        {
         "name": "_deepnote_index_column",
         "dtype": "int64"
        }
       ],
       "rows": [
        {
         "c_Sport": "Swimming",
         "c_Season": "2018",
         "c_Event": "100m Backstroke",
         "c_Gender": "Men",
         "n_DateSort": "20180809",
         "c_Person": "Ryan Murphy",
         "c_PersonNatio": "United States",
         "c_NOC": "United States",
         "c_Result": "51.94",
         "n_ResultSort": "51940",
         "c_Class": "Elite",
         "_deepnote_index_column": "0"
        },
        {
         "c_Sport": "Swimming",
         "c_Season": "2018",
         "c_Event": "100m Backstroke",
         "c_Gender": "Men",
         "n_DateSort": "20180822",
         "c_Person": "Xu Jiayu",
         "c_PersonNatio": "China",
         "c_NOC": "China",
         "c_Result": "52.30",
         "n_ResultSort": "52300",
         "c_Class": "Elite",
         "_deepnote_index_column": "1"
        },
        {
         "c_Sport": "Swimming",
         "c_Season": "2018",
         "c_Event": "100m Backstroke",
         "c_Gender": "Men",
         "n_DateSort": "20180806",
         "c_Person": "Kliment Kolesnikov",
         "c_PersonNatio": "Russia",
         "c_NOC": "Russia",
         "c_Result": "52.51",
         "n_ResultSort": "52510",
         "c_Class": "Elite",
         "_deepnote_index_column": "2"
        },
        {
         "c_Sport": "Swimming",
         "c_Season": "2018",
         "c_Event": "100m Backstroke",
         "c_Gender": "Men",
         "n_DateSort": "20180819",
         "c_Person": "Ryosuke Irie",
         "c_PersonNatio": "Japan",
         "c_NOC": "Japan",
         "c_Result": "52.53",
         "n_ResultSort": "52530",
         "c_Class": "Elite",
         "_deepnote_index_column": "3"
        },
        {
         "c_Sport": "Swimming",
         "c_Season": "2018",
         "c_Event": "100m Backstroke",
         "c_Gender": "Men",
         "n_DateSort": "20180728",
         "c_Person": "Matt Grevers",
         "c_PersonNatio": "United States",
         "c_NOC": "United States",
         "c_Result": "52.55",
         "n_ResultSort": "52550",
         "c_Class": "Elite",
         "_deepnote_index_column": "4"
        },
        {
         "c_Sport": "Swimming",
         "c_Season": "2018",
         "c_Event": "100m Backstroke",
         "c_Gender": "Men",
         "n_DateSort": "20180809",
         "c_Person": "Evgeniy Rylov",
         "c_PersonNatio": "Russia",
         "c_NOC": "Russia",
         "c_Result": "52.66",
         "n_ResultSort": "52660",
         "c_Class": "Elite",
         "_deepnote_index_column": "5"
        },
        {
         "c_Sport": "Swimming",
         "c_Season": "2018",
         "c_Event": "100m Backstroke",
         "c_Gender": "Men",
         "n_DateSort": "20180810",
         "c_Person": "Mitch Larkin",
         "c_PersonNatio": "Australia",
         "c_NOC": "Australia",
         "c_Result": "52.88",
         "n_ResultSort": "52880",
         "c_Class": "Elite",
         "_deepnote_index_column": "6"
        },
        {
         "c_Sport": "Swimming",
         "c_Season": "2018",
         "c_Event": "100m Backstroke",
         "c_Gender": "Men",
         "n_DateSort": "20180806",
         "c_Person": "Grigoriy Tarasevich",
         "c_PersonNatio": "Russia",
         "c_NOC": "Russia",
         "c_Result": "53.22",
         "n_ResultSort": "53220",
         "c_Class": "Elite",
         "_deepnote_index_column": "7"
        },
        {
         "c_Sport": "Swimming",
         "c_Season": "2018",
         "c_Event": "100m Backstroke",
         "c_Gender": "Men",
         "n_DateSort": "20180728",
         "c_Person": "Justin Ress",
         "c_PersonNatio": "United States",
         "c_NOC": "United States",
         "c_Result": "53.26",
         "n_ResultSort": "53260",
         "c_Class": "Elite",
         "_deepnote_index_column": "8"
        },
        {
         "c_Sport": "Swimming",
         "c_Season": "2018",
         "c_Event": "100m Backstroke",
         "c_Gender": "Men",
         "n_DateSort": "20180527",
         "c_Person": "Robert Glinta",
         "c_PersonNatio": "Romania",
         "c_NOC": "Romania",
         "c_Result": "53.32",
         "n_ResultSort": "53320",
         "c_Class": "Elite",
         "_deepnote_index_column": "9"
        }
       ]
      },
      "text/plain": "        c_Sport  c_Season          c_Event c_Gender  n_DateSort  \\\n0      Swimming      2018  100m Backstroke      Men    20180809   \n1      Swimming      2018  100m Backstroke      Men    20180822   \n2      Swimming      2018  100m Backstroke      Men    20180806   \n3      Swimming      2018  100m Backstroke      Men    20180819   \n4      Swimming      2018  100m Backstroke      Men    20180728   \n...         ...       ...              ...      ...         ...   \n16943  Swimming      2018   800m Freestyle    Women    20180726   \n16944  Swimming      2018   800m Freestyle    Women    20180519   \n16945  Swimming      2018   800m Freestyle    Women    20180421   \n16946  Swimming      2018   800m Freestyle    Women    20180302   \n16947  Swimming      2018   800m Freestyle    Women    20180609   \n\n                 c_Person  c_PersonNatio          c_NOC c_Result  \\\n0             Ryan Murphy  United States  United States    51.94   \n1                Xu Jiayu          China          China    52.30   \n2      Kliment Kolesnikov         Russia         Russia    52.51   \n3            Ryosuke Irie          Japan          Japan    52.53   \n4            Matt Grevers  United States  United States    52.55   \n...                   ...            ...            ...      ...   \n16943       Klara Bosnjak        Croatia        Croatia  9:02.44   \n16944     Chantel Jeffrey         Canada         Canada  9:02.47   \n16945          Bindi Ware      Australia      Australia  9:02.48   \n16946    Ebony Blackstone      Australia      Australia  9:02.54   \n16947      Mia Steen Duus        Denmark        Denmark  9:02.55   \n\n       n_ResultSort c_Class  \n0             51940   Elite  \n1             52300   Elite  \n2             52510   Elite  \n3             52530   Elite  \n4             52550   Elite  \n...             ...     ...  \n16943        542440   Elite  \n16944        542470   Elite  \n16945        542480   Elite  \n16946        542540   Elite  \n16947        542550   Elite  \n\n[16948 rows x 11 columns]",
      "text/html": "<div>\n<style scoped>\n    .dataframe tbody tr th:only-of-type {\n        vertical-align: middle;\n    }\n\n    .dataframe tbody tr th {\n        vertical-align: top;\n    }\n\n    .dataframe thead th {\n        text-align: right;\n    }\n</style>\n<table border=\"1\" class=\"dataframe\">\n  <thead>\n    <tr style=\"text-align: right;\">\n      <th></th>\n      <th>c_Sport</th>\n      <th>c_Season</th>\n      <th>c_Event</th>\n      <th>c_Gender</th>\n      <th>n_DateSort</th>\n      <th>c_Person</th>\n      <th>c_PersonNatio</th>\n      <th>c_NOC</th>\n      <th>c_Result</th>\n      <th>n_ResultSort</th>\n      <th>c_Class</th>\n    </tr>\n  </thead>\n  <tbody>\n    <tr>\n      <th>0</th>\n      <td>Swimming</td>\n      <td>2018</td>\n      <td>100m Backstroke</td>\n      <td>Men</td>\n      <td>20180809</td>\n      <td>Ryan Murphy</td>\n      <td>United States</td>\n      <td>United States</td>\n      <td>51.94</td>\n      <td>51940</td>\n      <td>Elite</td>\n    </tr>\n    <tr>\n      <th>1</th>\n      <td>Swimming</td>\n      <td>2018</td>\n      <td>100m Backstroke</td>\n      <td>Men</td>\n      <td>20180822</td>\n      <td>Xu Jiayu</td>\n      <td>China</td>\n      <td>China</td>\n      <td>52.30</td>\n      <td>52300</td>\n      <td>Elite</td>\n    </tr>\n    <tr>\n      <th>2</th>\n      <td>Swimming</td>\n      <td>2018</td>\n      <td>100m Backstroke</td>\n      <td>Men</td>\n      <td>20180806</td>\n      <td>Kliment Kolesnikov</td>\n      <td>Russia</td>\n      <td>Russia</td>\n      <td>52.51</td>\n      <td>52510</td>\n      <td>Elite</td>\n    </tr>\n    <tr>\n      <th>3</th>\n      <td>Swimming</td>\n      <td>2018</td>\n      <td>100m Backstroke</td>\n      <td>Men</td>\n      <td>20180819</td>\n      <td>Ryosuke Irie</td>\n      <td>Japan</td>\n      <td>Japan</td>\n      <td>52.53</td>\n      <td>52530</td>\n      <td>Elite</td>\n    </tr>\n    <tr>\n      <th>4</th>\n      <td>Swimming</td>\n      <td>2018</td>\n      <td>100m Backstroke</td>\n      <td>Men</td>\n      <td>20180728</td>\n      <td>Matt Grevers</td>\n      <td>United States</td>\n      <td>United States</td>\n      <td>52.55</td>\n      <td>52550</td>\n      <td>Elite</td>\n    </tr>\n    <tr>\n      <th>...</th>\n      <td>...</td>\n      <td>...</td>\n      <td>...</td>\n      <td>...</td>\n      <td>...</td>\n      <td>...</td>\n      <td>...</td>\n      <td>...</td>\n      <td>...</td>\n      <td>...</td>\n      <td>...</td>\n    </tr>\n    <tr>\n      <th>16943</th>\n      <td>Swimming</td>\n      <td>2018</td>\n      <td>800m Freestyle</td>\n      <td>Women</td>\n      <td>20180726</td>\n      <td>Klara Bosnjak</td>\n      <td>Croatia</td>\n      <td>Croatia</td>\n      <td>9:02.44</td>\n      <td>542440</td>\n      <td>Elite</td>\n    </tr>\n    <tr>\n      <th>16944</th>\n      <td>Swimming</td>\n      <td>2018</td>\n      <td>800m Freestyle</td>\n      <td>Women</td>\n      <td>20180519</td>\n      <td>Chantel Jeffrey</td>\n      <td>Canada</td>\n      <td>Canada</td>\n      <td>9:02.47</td>\n      <td>542470</td>\n      <td>Elite</td>\n    </tr>\n    <tr>\n      <th>16945</th>\n      <td>Swimming</td>\n      <td>2018</td>\n      <td>800m Freestyle</td>\n      <td>Women</td>\n      <td>20180421</td>\n      <td>Bindi Ware</td>\n      <td>Australia</td>\n      <td>Australia</td>\n      <td>9:02.48</td>\n      <td>542480</td>\n      <td>Elite</td>\n    </tr>\n    <tr>\n      <th>16946</th>\n      <td>Swimming</td>\n      <td>2018</td>\n      <td>800m Freestyle</td>\n      <td>Women</td>\n      <td>20180302</td>\n      <td>Ebony Blackstone</td>\n      <td>Australia</td>\n      <td>Australia</td>\n      <td>9:02.54</td>\n      <td>542540</td>\n      <td>Elite</td>\n    </tr>\n    <tr>\n      <th>16947</th>\n      <td>Swimming</td>\n      <td>2018</td>\n      <td>800m Freestyle</td>\n      <td>Women</td>\n      <td>20180609</td>\n      <td>Mia Steen Duus</td>\n      <td>Denmark</td>\n      <td>Denmark</td>\n      <td>9:02.55</td>\n      <td>542550</td>\n      <td>Elite</td>\n    </tr>\n  </tbody>\n</table>\n<p>16948 rows × 11 columns</p>\n</div>"
     },
     "metadata": {}
    }
   ]
  },
  {
   "cell_type": "code",
   "metadata": {
    "cell_id": "00e28caf8c014086afc646cda32c6934",
    "tags": [],
    "deepnote_to_be_reexecuted": false,
    "source_hash": "a2be26a5",
    "execution_start": 1669997980185,
    "execution_millis": 1205,
    "deepnote_cell_type": "code",
    "deepnote_cell_height": 1654.3125,
    "deepnote_output_heights": [
     77.75,
     20.1875,
     573
    ]
   },
   "source": "## Shape of database\nrows = len(df)\nprint(rows)\ncolumns = len(df.columns)\nprint(columns)\ndf.info(verbose=True)\nnullrows = df[df.isnull().any(axis=1)]\n## create new dataframe where there are two conditions that must be true, 100m breasstroke and men \nbreaststroke_men_100m = df.loc[(df['c_Event'] == '100m Breaststroke') & (df['c_Gender'] == 'Men')]\n## in the new dataframe, find what is the id of the minimum value\nfastest_row = breaststroke_men_100m['n_ResultSort'].idxmin()\nfastestmalebreaststroke = breaststroke_men_100m['c_Person'][fastest_row]\nprint(fastestmalebreaststroke)\n\n## create new dataframe of womens 200m individual medley\nmedley_women_200m = df.loc[(df['c_Event'] == '200m Individual Medley') & (df['c_Gender'] == 'Women')]\nmedian_row = medley_women_200m.median()\nmedian_row\n\nfemale_only = df.loc[df['c_Gender'] == 'Women']\nunique_nations = female_only['c_PersonNatio'].unique()\nnum_nations = (len(unique_nations))\nprint(num_nations)\n\nfemale_only.value_counts('c_PersonNatio').plot(kind='bar')\n\n",
   "execution_count": null,
   "outputs": [
    {
     "name": "stdout",
     "text": "16948\n11\n<class 'pandas.core.frame.DataFrame'>\nRangeIndex: 16948 entries, 0 to 16947\nData columns (total 11 columns):\n #   Column         Non-Null Count  Dtype \n---  ------         --------------  ----- \n 0   c_Sport        16948 non-null  object\n 1   c_Season       16948 non-null  int64 \n 2   c_Event        16948 non-null  object\n 3   c_Gender       16948 non-null  object\n 4   n_DateSort     16948 non-null  int64 \n 5   c_Person       16640 non-null  object\n 6   c_PersonNatio  16640 non-null  object\n 7   c_NOC          16948 non-null  object\n 8   c_Result       16948 non-null  object\n 9   n_ResultSort   16948 non-null  int64 \n 10  c_Class        16948 non-null  object\ndtypes: int64(3), object(8)\nmemory usage: 1.4+ MB\nAdam Peaty\n101\n",
     "output_type": "stream"
    },
    {
     "output_type": "execute_result",
     "execution_count": 92,
     "data": {
      "text/plain": "<AxesSubplot: xlabel='c_PersonNatio'>"
     },
     "metadata": {}
    },
    {
     "data": {
      "text/plain": "<Figure size 640x480 with 1 Axes>",
      "image/png": "[encoded data removed]"
     },
     "metadata": {
      "image/png": {
       "width": 565,
       "height": 572
      }
     },
     "output_type": "display_data"
    }
   ]
  },
  {
   "cell_type": "code",
   "metadata": {
    "cell_id": "81e6087ec665476881b910f8b65e94a3",
    "tags": [],
    "deepnote_to_be_reexecuted": false,
    "source_hash": "79c0014f",
    "execution_start": 1669995943804,
    "execution_millis": 23,
    "deepnote_cell_type": "code",
    "deepnote_cell_height": 169.75,
    "deepnote_output_heights": [
     77.75
    ]
   },
   "source": "median_row",
   "execution_count": null,
   "outputs": [
    {
     "output_type": "execute_result",
     "execution_count": 62,
     "data": {
      "text/plain": "c_Season            2018.0\nn_DateSort      20180701.0\nn_ResultSort      137450.0\ndtype: float64"
     },
     "metadata": {}
    }
   ]
  },
  {
   "cell_type": "code",
   "metadata": {
    "cell_id": "80a673b0b3724b0cbf5e190edf560295",
    "tags": [],
    "deepnote_to_be_reexecuted": false,
    "source_hash": "adac3a",
    "execution_start": 1669994730900,
    "execution_millis": 30,
    "deepnote_table_state": {
     "pageSize": 10,
     "pageIndex": 0,
     "filters": [],
     "sortBy": []
    },
    "deepnote_table_loading": false,
    "deepnote_cell_type": "code",
    "deepnote_cell_height": 612
   },
   "source": "breaststroke_men_100m",
   "execution_count": null,
   "outputs": [
    {
     "output_type": "execute_result",
     "execution_count": 43,
     "data": {
      "application/vnd.deepnote.dataframe.v3+json": {
       "column_count": 11,
       "row_count": 487,
       "columns": [
        {
         "name": "c_Sport",
         "dtype": "object",
         "stats": {
          "unique_count": 1,
          "nan_count": 0,
          "categories": [
           {
            "name": "Swimming",
            "count": 487
           }
          ]
         }
        },
        {
         "name": "c_Season",
         "dtype": "int64",
         "stats": {
          "unique_count": 1,
          "nan_count": 0,
          "min": "2018",
          "max": "2018",
          "histogram": [
           {
            "bin_start": 2017.5,
            "bin_end": 2017.6,
            "count": 0
           },
           {
            "bin_start": 2017.6,
            "bin_end": 2017.7,
            "count": 0
           },
           {
            "bin_start": 2017.7,
            "bin_end": 2017.8,
            "count": 0
           },
           {
            "bin_start": 2017.8,
            "bin_end": 2017.9,
            "count": 0
           },
           {
            "bin_start": 2017.9,
            "bin_end": 2018,
            "count": 0
           },
           {
            "bin_start": 2018,
            "bin_end": 2018.1,
            "count": 487
           },
           {
            "bin_start": 2018.1,
            "bin_end": 2018.2,
            "count": 0
           },
           {
            "bin_start": 2018.2,
            "bin_end": 2018.3,
            "count": 0
           },
           {
            "bin_start": 2018.3,
            "bin_end": 2018.4,
            "count": 0
           },
           {
            "bin_start": 2018.4,
            "bin_end": 2018.5,
            "count": 0
           }
          ]
         }
        },
        {
         "name": "c_Event",
         "dtype": "object",
         "stats": {
          "unique_count": 1,
          "nan_count": 0,
          "categories": [
           {
            "name": "100m Breaststroke",
            "count": 487
           }
          ]
         }
        },
        {
         "name": "c_Gender",
         "dtype": "object",
         "stats": {
          "unique_count": 1,
          "nan_count": 0,
          "categories": [
           {
            "name": "Men",
            "count": 487
           }
          ]
         }
        },
        {
         "name": "n_DateSort",
         "dtype": "int64",
         "stats": {
          "unique_count": 95,
          "nan_count": 0,
          "min": "20180119",
          "max": "20181222",
          "histogram": [
           {
            "bin_start": 20180119,
            "bin_end": 20180229.3,
            "count": 6
           },
           {
            "bin_start": 20180229.3,
            "bin_end": 20180339.6,
            "count": 23
           },
           {
            "bin_start": 20180339.6,
            "bin_end": 20180449.9,
            "count": 113
           },
           {
            "bin_start": 20180449.9,
            "bin_end": 20180560.2,
            "count": 45
           },
           {
            "bin_start": 20180560.2,
            "bin_end": 20180670.5,
            "count": 25
           },
           {
            "bin_start": 20180670.5,
            "bin_end": 20180780.8,
            "count": 124
           },
           {
            "bin_start": 20180780.8,
            "bin_end": 20180891.1,
            "count": 76
           },
           {
            "bin_start": 20180891.1,
            "bin_end": 20181001.4,
            "count": 50
           },
           {
            "bin_start": 20181001.4,
            "bin_end": 20181111.7,
            "count": 12
           },
           {
            "bin_start": 20181111.7,
            "bin_end": 20181222,
            "count": 13
           }
          ]
         }
        },
        {
         "name": "c_Person",
         "dtype": "object",
         "stats": {
          "unique_count": 487,
          "nan_count": 0,
          "categories": [
           {
            "name": "Adam Peaty",
            "count": 1
           },
           {
            "name": "James Wilby",
            "count": 1
           },
           {
            "name": "485 others",
            "count": 485
           }
          ]
         }
        },
        {
         "name": "c_PersonNatio",
         "dtype": "object",
         "stats": {
          "unique_count": 73,
          "nan_count": 0,
          "categories": [
           {
            "name": "Japan",
            "count": 94
           },
           {
            "name": "United States",
            "count": 74
           },
           {
            "name": "71 others",
            "count": 319
           }
          ]
         }
        },
        {
         "name": "c_NOC",
         "dtype": "object",
         "stats": {
          "unique_count": 71,
          "nan_count": 0,
          "categories": [
           {
            "name": "Japan",
            "count": 94
           },
           {
            "name": "United States",
            "count": 74
           },
           {
            "name": "69 others",
            "count": 319
           }
          ]
         }
        },
        {
         "name": "c_Result",
         "dtype": "object",
         "stats": {
          "unique_count": 267,
          "nan_count": 0,
          "categories": [
           {
            "name": "1:02.80",
            "count": 6
           },
           {
            "name": "1:03.34",
            "count": 6
           },
           {
            "name": "265 others",
            "count": 475
           }
          ]
         }
        },
        {
         "name": "n_ResultSort",
         "dtype": "int64",
         "stats": {
          "unique_count": 267,
          "nan_count": 0,
          "min": "57100",
          "max": "63500",
          "histogram": [
           {
            "bin_start": 57100,
            "bin_end": 57740,
            "count": 1
           },
           {
            "bin_start": 57740,
            "bin_end": 58380,
            "count": 0
           },
           {
            "bin_start": 58380,
            "bin_end": 59020,
            "count": 2
           },
           {
            "bin_start": 59020,
            "bin_end": 59660,
            "count": 20
           },
           {
            "bin_start": 59660,
            "bin_end": 60300,
            "count": 21
           },
           {
            "bin_start": 60300,
            "bin_end": 60940,
            "count": 38
           },
           {
            "bin_start": 60940,
            "bin_end": 61580,
            "count": 67
           },
           {
            "bin_start": 61580,
            "bin_end": 62220,
            "count": 87
           },
           {
            "bin_start": 62220,
            "bin_end": 62860,
            "count": 123
           },
           {
            "bin_start": 62860,
            "bin_end": 63500,
            "count": 128
           }
          ]
         }
        },
        {
         "name": "c_Class",
         "dtype": "object",
         "stats": {
          "unique_count": 1,
          "nan_count": 0,
          "categories": [
           {
            "name": "Elite",
            "count": 487
           }
          ]
         }
        },
        {
         "name": "_deepnote_index_column",
         "dtype": "int64"
        }
       ],
       "rows": [
        {
         "c_Sport": "Swimming",
         "c_Season": "2018",
         "c_Event": "100m Breaststroke",
         "c_Gender": "Men",
         "n_DateSort": "20180804",
         "c_Person": "Adam Peaty",
         "c_PersonNatio": "England",
         "c_NOC": "Great Britain",
         "c_Result": "57.10",
         "n_ResultSort": "57100",
         "c_Class": "Elite",
         "_deepnote_index_column": "981"
        },
        {
         "c_Sport": "Swimming",
         "c_Season": "2018",
         "c_Event": "100m Breaststroke",
         "c_Gender": "Men",
         "n_DateSort": "20180804",
         "c_Person": "James Wilby",
         "c_PersonNatio": "England",
         "c_NOC": "Great Britain",
         "c_Result": "58.64",
         "n_ResultSort": "58640",
         "c_Class": "Elite",
         "_deepnote_index_column": "982"
        },
        {
         "c_Sport": "Swimming",
         "c_Season": "2018",
         "c_Event": "100m Breaststroke",
         "c_Gender": "Men",
         "n_DateSort": "20180616",
         "c_Person": "Yasuhiro Koseki",
         "c_PersonNatio": "Japan",
         "c_NOC": "Japan",
         "c_Result": "58.78",
         "n_ResultSort": "58780",
         "c_Class": "Elite",
         "_deepnote_index_column": "983"
        },
        {
         "c_Sport": "Swimming",
         "c_Season": "2018",
         "c_Event": "100m Breaststroke",
         "c_Gender": "Men",
         "n_DateSort": "20180804",
         "c_Person": "Anton Chupkov",
         "c_PersonNatio": "Russia",
         "c_NOC": "Russia",
         "c_Result": "59.06",
         "n_ResultSort": "59060",
         "c_Class": "Elite",
         "_deepnote_index_column": "984"
        },
        {
         "c_Sport": "Swimming",
         "c_Season": "2018",
         "c_Event": "100m Breaststroke",
         "c_Gender": "Men",
         "n_DateSort": "20180629",
         "c_Person": "Arno Kamminga",
         "c_PersonNatio": "Netherlands",
         "c_NOC": "Netherlands",
         "c_Result": "59.14",
         "n_ResultSort": "59140",
         "c_Class": "Elite",
         "_deepnote_index_column": "985"
        },
        {
         "c_Sport": "Swimming",
         "c_Season": "2018",
         "c_Event": "100m Breaststroke",
         "c_Gender": "Men",
         "n_DateSort": "20180803",
         "c_Person": "Ross Murdoch",
         "c_PersonNatio": "Scotland",
         "c_NOC": "Great Britain",
         "c_Result": "59.14",
         "n_ResultSort": "59140",
         "c_Class": "Elite",
         "_deepnote_index_column": "986"
        },
        {
         "c_Sport": "Swimming",
         "c_Season": "2018",
         "c_Event": "100m Breaststroke",
         "c_Gender": "Men",
         "n_DateSort": "20180303",
         "c_Person": "Andrew Wilson",
         "c_PersonNatio": "United States",
         "c_NOC": "United States",
         "c_Result": "59.19",
         "n_ResultSort": "59190",
         "c_Class": "Elite",
         "_deepnote_index_column": "987"
        },
        {
         "c_Sport": "Swimming",
         "c_Season": "2018",
         "c_Event": "100m Breaststroke",
         "c_Gender": "Men",
         "n_DateSort": "20180804",
         "c_Person": "Kirill Prigoda",
         "c_PersonNatio": "Russia",
         "c_NOC": "Russia",
         "c_Result": "59.20",
         "n_ResultSort": "59200",
         "c_Class": "Elite",
         "_deepnote_index_column": "988"
        },
        {
         "c_Sport": "Swimming",
         "c_Season": "2018",
         "c_Event": "100m Breaststroke",
         "c_Gender": "Men",
         "n_DateSort": "20180809",
         "c_Person": "Jake Packard",
         "c_PersonNatio": "Australia",
         "c_NOC": "Australia",
         "c_Result": "59.20",
         "n_ResultSort": "59200",
         "c_Class": "Elite",
         "_deepnote_index_column": "989"
        },
        {
         "c_Sport": "Swimming",
         "c_Season": "2018",
         "c_Event": "100m Breaststroke",
         "c_Gender": "Men",
         "n_DateSort": "20180413",
         "c_Person": "Yan Zibei",
         "c_PersonNatio": "China",
         "c_NOC": "China",
         "c_Result": "59.26",
         "n_ResultSort": "59260",
         "c_Class": "Elite",
         "_deepnote_index_column": "990"
        }
       ]
      },
      "text/plain": "       c_Sport  c_Season            c_Event c_Gender  n_DateSort  \\\n981   Swimming      2018  100m Breaststroke      Men    20180804   \n982   Swimming      2018  100m Breaststroke      Men    20180804   \n983   Swimming      2018  100m Breaststroke      Men    20180616   \n984   Swimming      2018  100m Breaststroke      Men    20180804   \n985   Swimming      2018  100m Breaststroke      Men    20180629   \n...        ...       ...                ...      ...         ...   \n1463  Swimming      2018  100m Breaststroke      Men    20180522   \n1464  Swimming      2018  100m Breaststroke      Men    20180420   \n1465  Swimming      2018  100m Breaststroke      Men    20180728   \n1466  Swimming      2018  100m Breaststroke      Men    20180708   \n1467  Swimming      2018  100m Breaststroke      Men    20180819   \n\n             c_Person  c_PersonNatio          c_NOC c_Result  n_ResultSort  \\\n981        Adam Peaty        England  Great Britain    57.10         57100   \n982       James Wilby        England  Great Britain    58.64         58640   \n983   Yasuhiro Koseki          Japan          Japan    58.78         58780   \n984     Anton Chupkov         Russia         Russia    59.06         59060   \n985     Arno Kamminga    Netherlands    Netherlands    59.14         59140   \n...               ...            ...            ...      ...           ...   \n1463     Talel Mrabet        Tunisia        Tunisia  1:03.49         63490   \n1464     Ilya Nazarov         Russia         Russia  1:03.50         63500   \n1465       Ethan Dang  United States  United States  1:03.50         63500   \n1466    Tom Andersson         Sweden         Sweden  1:03.50         63500   \n1467    Yuusuke Hirai          Japan          Japan  1:03.50         63500   \n\n     c_Class  \n981    Elite  \n982    Elite  \n983    Elite  \n984    Elite  \n985    Elite  \n...      ...  \n1463   Elite  \n1464   Elite  \n1465   Elite  \n1466   Elite  \n1467   Elite  \n\n[487 rows x 11 columns]",
      "text/html": "<div>\n<style scoped>\n    .dataframe tbody tr th:only-of-type {\n        vertical-align: middle;\n    }\n\n    .dataframe tbody tr th {\n        vertical-align: top;\n    }\n\n    .dataframe thead th {\n        text-align: right;\n    }\n</style>\n<table border=\"1\" class=\"dataframe\">\n  <thead>\n    <tr style=\"text-align: right;\">\n      <th></th>\n      <th>c_Sport</th>\n      <th>c_Season</th>\n      <th>c_Event</th>\n      <th>c_Gender</th>\n      <th>n_DateSort</th>\n      <th>c_Person</th>\n      <th>c_PersonNatio</th>\n      <th>c_NOC</th>\n      <th>c_Result</th>\n      <th>n_ResultSort</th>\n      <th>c_Class</th>\n    </tr>\n  </thead>\n  <tbody>\n    <tr>\n      <th>981</th>\n      <td>Swimming</td>\n      <td>2018</td>\n      <td>100m Breaststroke</td>\n      <td>Men</td>\n      <td>20180804</td>\n      <td>Adam Peaty</td>\n      <td>England</td>\n      <td>Great Britain</td>\n      <td>57.10</td>\n      <td>57100</td>\n      <td>Elite</td>\n    </tr>\n    <tr>\n      <th>982</th>\n      <td>Swimming</td>\n      <td>2018</td>\n      <td>100m Breaststroke</td>\n      <td>Men</td>\n      <td>20180804</td>\n      <td>James Wilby</td>\n      <td>England</td>\n      <td>Great Britain</td>\n      <td>58.64</td>\n      <td>58640</td>\n      <td>Elite</td>\n    </tr>\n    <tr>\n      <th>983</th>\n      <td>Swimming</td>\n      <td>2018</td>\n      <td>100m Breaststroke</td>\n      <td>Men</td>\n      <td>20180616</td>\n      <td>Yasuhiro Koseki</td>\n      <td>Japan</td>\n      <td>Japan</td>\n      <td>58.78</td>\n      <td>58780</td>\n      <td>Elite</td>\n    </tr>\n    <tr>\n      <th>984</th>\n      <td>Swimming</td>\n      <td>2018</td>\n      <td>100m Breaststroke</td>\n      <td>Men</td>\n      <td>20180804</td>\n      <td>Anton Chupkov</td>\n      <td>Russia</td>\n      <td>Russia</td>\n      <td>59.06</td>\n      <td>59060</td>\n      <td>Elite</td>\n    </tr>\n    <tr>\n      <th>985</th>\n      <td>Swimming</td>\n      <td>2018</td>\n      <td>100m Breaststroke</td>\n      <td>Men</td>\n      <td>20180629</td>\n      <td>Arno Kamminga</td>\n      <td>Netherlands</td>\n      <td>Netherlands</td>\n      <td>59.14</td>\n      <td>59140</td>\n      <td>Elite</td>\n    </tr>\n    <tr>\n      <th>...</th>\n      <td>...</td>\n      <td>...</td>\n      <td>...</td>\n      <td>...</td>\n      <td>...</td>\n      <td>...</td>\n      <td>...</td>\n      <td>...</td>\n      <td>...</td>\n      <td>...</td>\n      <td>...</td>\n    </tr>\n    <tr>\n      <th>1463</th>\n      <td>Swimming</td>\n      <td>2018</td>\n      <td>100m Breaststroke</td>\n      <td>Men</td>\n      <td>20180522</td>\n      <td>Talel Mrabet</td>\n      <td>Tunisia</td>\n      <td>Tunisia</td>\n      <td>1:03.49</td>\n      <td>63490</td>\n      <td>Elite</td>\n    </tr>\n    <tr>\n      <th>1464</th>\n      <td>Swimming</td>\n      <td>2018</td>\n      <td>100m Breaststroke</td>\n      <td>Men</td>\n      <td>20180420</td>\n      <td>Ilya Nazarov</td>\n      <td>Russia</td>\n      <td>Russia</td>\n      <td>1:03.50</td>\n      <td>63500</td>\n      <td>Elite</td>\n    </tr>\n    <tr>\n      <th>1465</th>\n      <td>Swimming</td>\n      <td>2018</td>\n      <td>100m Breaststroke</td>\n      <td>Men</td>\n      <td>20180728</td>\n      <td>Ethan Dang</td>\n      <td>United States</td>\n      <td>United States</td>\n      <td>1:03.50</td>\n      <td>63500</td>\n      <td>Elite</td>\n    </tr>\n    <tr>\n      <th>1466</th>\n      <td>Swimming</td>\n      <td>2018</td>\n      <td>100m Breaststroke</td>\n      <td>Men</td>\n      <td>20180708</td>\n      <td>Tom Andersson</td>\n      <td>Sweden</td>\n      <td>Sweden</td>\n      <td>1:03.50</td>\n      <td>63500</td>\n      <td>Elite</td>\n    </tr>\n    <tr>\n      <th>1467</th>\n      <td>Swimming</td>\n      <td>2018</td>\n      <td>100m Breaststroke</td>\n      <td>Men</td>\n      <td>20180819</td>\n      <td>Yuusuke Hirai</td>\n      <td>Japan</td>\n      <td>Japan</td>\n      <td>1:03.50</td>\n      <td>63500</td>\n      <td>Elite</td>\n    </tr>\n  </tbody>\n</table>\n<p>487 rows × 11 columns</p>\n</div>"
     },
     "metadata": {}
    }
   ]
  },
  {
   "cell_type": "code",
   "metadata": {
    "cell_id": "927351de821745b38e93c8417240e9e1",
    "tags": [],
    "deepnote_to_be_reexecuted": false,
    "source_hash": "de2eff61",
    "execution_start": 1669994748804,
    "execution_millis": 3,
    "deepnote_cell_type": "code",
    "deepnote_cell_height": 112.1875,
    "deepnote_output_heights": [
     20.1875
    ]
   },
   "source": "fastest_row",
   "execution_count": null,
   "outputs": [
    {
     "output_type": "execute_result",
     "execution_count": 40,
     "data": {
      "text/plain": "981"
     },
     "metadata": {}
    }
   ]
  },
  {
   "cell_type": "code",
   "metadata": {
    "cell_id": "b96111dcfd2b42ed8fcd750471855ee0",
    "tags": [],
    "deepnote_to_be_reexecuted": false,
    "source_hash": "9256a2ce",
    "execution_start": 1669994793465,
    "execution_millis": 43,
    "deepnote_cell_type": "code",
    "deepnote_cell_height": 612
   },
   "source": "nullrows",
   "execution_count": null,
   "outputs": [
    {
     "output_type": "execute_result",
     "execution_count": 42,
     "data": {
      "application/vnd.deepnote.dataframe.v3+json": {
       "column_count": 11,
       "row_count": 308,
       "columns": [
        {
         "name": "c_Sport",
         "dtype": "object",
         "stats": {
          "unique_count": 1,
          "nan_count": 0,
          "categories": [
           {
            "name": "Swimming",
            "count": 308
           }
          ]
         }
        },
        {
         "name": "c_Season",
         "dtype": "int64",
         "stats": {
          "unique_count": 1,
          "nan_count": 0,
          "min": "2018",
          "max": "2018",
          "histogram": [
           {
            "bin_start": 2017.5,
            "bin_end": 2017.6,
            "count": 0
           },
           {
            "bin_start": 2017.6,
            "bin_end": 2017.7,
            "count": 0
           },
           {
            "bin_start": 2017.7,
            "bin_end": 2017.8,
            "count": 0
           },
           {
            "bin_start": 2017.8,
            "bin_end": 2017.9,
            "count": 0
           },
           {
            "bin_start": 2017.9,
            "bin_end": 2018,
            "count": 0
           },
           {
            "bin_start": 2018,
            "bin_end": 2018.1,
            "count": 308
           },
           {
            "bin_start": 2018.1,
            "bin_end": 2018.2,
            "count": 0
           },
           {
            "bin_start": 2018.2,
            "bin_end": 2018.3,
            "count": 0
           },
           {
            "bin_start": 2018.3,
            "bin_end": 2018.4,
            "count": 0
           },
           {
            "bin_start": 2018.4,
            "bin_end": 2018.5,
            "count": 0
           }
          ]
         }
        },
        {
         "name": "c_Event",
         "dtype": "object",
         "stats": {
          "unique_count": 3,
          "nan_count": 0,
          "categories": [
           {
            "name": "4 x 100m Medley Relay",
            "count": 128
           },
           {
            "name": "4 x 100m Freestyle Relay",
            "count": 110
           },
           {
            "name": "4 x 200m Freestyle Relay",
            "count": 70
           }
          ]
         }
        },
        {
         "name": "c_Gender",
         "dtype": "object",
         "stats": {
          "unique_count": 3,
          "nan_count": 0,
          "categories": [
           {
            "name": "Men",
            "count": 117
           },
           {
            "name": "Mixed",
            "count": 96
           },
           {
            "name": "Women",
            "count": 95
           }
          ]
         }
        },
        {
         "name": "n_DateSort",
         "dtype": "int64",
         "stats": {
          "unique_count": 42,
          "nan_count": 0,
          "min": "20180622",
          "max": "20181211",
          "histogram": [
           {
            "bin_start": 20180622,
            "bin_end": 20180680.9,
            "count": 1
           },
           {
            "bin_start": 20180680.9,
            "bin_end": 20180739.8,
            "count": 59
           },
           {
            "bin_start": 20180739.8,
            "bin_end": 20180798.7,
            "count": 0
           },
           {
            "bin_start": 20180798.7,
            "bin_end": 20180857.6,
            "count": 207
           },
           {
            "bin_start": 20180857.6,
            "bin_end": 20180916.5,
            "count": 10
           },
           {
            "bin_start": 20180916.5,
            "bin_end": 20180975.4,
            "count": 0
           },
           {
            "bin_start": 20180975.4,
            "bin_end": 20181034.3,
            "count": 29
           },
           {
            "bin_start": 20181034.3,
            "bin_end": 20181093.2,
            "count": 0
           },
           {
            "bin_start": 20181093.2,
            "bin_end": 20181152.1,
            "count": 0
           },
           {
            "bin_start": 20181152.1,
            "bin_end": 20181211,
            "count": 2
           }
          ]
         }
        },
        {
         "name": "c_Person",
         "dtype": "object",
         "stats": {
          "unique_count": 0,
          "nan_count": 308,
          "categories": [
           {
            "name": "Missing",
            "count": 308
           }
          ]
         }
        },
        {
         "name": "c_PersonNatio",
         "dtype": "object",
         "stats": {
          "unique_count": 0,
          "nan_count": 308,
          "categories": [
           {
            "name": "Missing",
            "count": 308
           }
          ]
         }
        },
        {
         "name": "c_NOC",
         "dtype": "object",
         "stats": {
          "unique_count": 64,
          "nan_count": 0,
          "categories": [
           {
            "name": "Russia",
            "count": 9
           },
           {
            "name": "Italy",
            "count": 9
           },
           {
            "name": "62 others",
            "count": 290
           }
          ]
         }
        },
        {
         "name": "c_Result",
         "dtype": "object",
         "stats": {
          "unique_count": 303,
          "nan_count": 0,
          "categories": [
           {
            "name": "3:17.31",
            "count": 2
           },
           {
            "name": "3:45.93",
            "count": 2
           },
           {
            "name": "301 others",
            "count": 304
           }
          ]
         }
        },
        {
         "name": "n_ResultSort",
         "dtype": "int64",
         "stats": {
          "unique_count": 303,
          "nan_count": 0,
          "min": "192020",
          "max": "508370",
          "histogram": [
           {
            "bin_start": 192020,
            "bin_end": 223655,
            "count": 118
           },
           {
            "bin_start": 223655,
            "bin_end": 255290,
            "count": 106
           },
           {
            "bin_start": 255290,
            "bin_end": 286925,
            "count": 14
           },
           {
            "bin_start": 286925,
            "bin_end": 318560,
            "count": 0
           },
           {
            "bin_start": 318560,
            "bin_end": 350195,
            "count": 0
           },
           {
            "bin_start": 350195,
            "bin_end": 381830,
            "count": 0
           },
           {
            "bin_start": 381830,
            "bin_end": 413465,
            "count": 0
           },
           {
            "bin_start": 413465,
            "bin_end": 445100,
            "count": 22
           },
           {
            "bin_start": 445100,
            "bin_end": 476735,
            "count": 29
           },
           {
            "bin_start": 476735,
            "bin_end": 508370,
            "count": 19
           }
          ]
         }
        },
        {
         "name": "c_Class",
         "dtype": "object",
         "stats": {
          "unique_count": 1,
          "nan_count": 0,
          "categories": [
           {
            "name": "Elite",
            "count": 308
           }
          ]
         }
        },
        {
         "name": "_deepnote_index_column",
         "dtype": "int64"
        }
       ],
       "rows": [
        {
         "c_Sport": "Swimming",
         "c_Season": "2018",
         "c_Event": "4 x 100m Freestyle Relay",
         "c_Gender": "Men",
         "n_DateSort": "20180809",
         "c_Person": "nan",
         "c_PersonNatio": "nan",
         "c_NOC": "Brazil",
         "c_Result": "3:12.02",
         "n_ResultSort": "192020",
         "c_Class": "Elite",
         "_deepnote_index_column": "9743"
        },
        {
         "c_Sport": "Swimming",
         "c_Season": "2018",
         "c_Event": "4 x 100m Freestyle Relay",
         "c_Gender": "Men",
         "n_DateSort": "20180803",
         "c_Person": "nan",
         "c_PersonNatio": "nan",
         "c_NOC": "Russia",
         "c_Result": "3:12.23",
         "n_ResultSort": "192230",
         "c_Class": "Elite",
         "_deepnote_index_column": "9744"
        },
        {
         "c_Sport": "Swimming",
         "c_Season": "2018",
         "c_Event": "4 x 100m Freestyle Relay",
         "c_Gender": "Men",
         "n_DateSort": "20180809",
         "c_Person": "nan",
         "c_PersonNatio": "nan",
         "c_NOC": "Australia",
         "c_Result": "3:12.53",
         "n_ResultSort": "192530",
         "c_Class": "Elite",
         "_deepnote_index_column": "9745"
        },
        {
         "c_Sport": "Swimming",
         "c_Season": "2018",
         "c_Event": "4 x 100m Freestyle Relay",
         "c_Gender": "Men",
         "n_DateSort": "20180809",
         "c_Person": "nan",
         "c_PersonNatio": "nan",
         "c_NOC": "Japan",
         "c_Result": "3:12.54",
         "n_ResultSort": "192540",
         "c_Class": "Elite",
         "_deepnote_index_column": "9746"
        },
        {
         "c_Sport": "Swimming",
         "c_Season": "2018",
         "c_Event": "4 x 100m Freestyle Relay",
         "c_Gender": "Men",
         "n_DateSort": "20180803",
         "c_Person": "nan",
         "c_PersonNatio": "nan",
         "c_NOC": "Italy",
         "c_Result": "3:12.90",
         "n_ResultSort": "192900",
         "c_Class": "Elite",
         "_deepnote_index_column": "9747"
        },
        {
         "c_Sport": "Swimming",
         "c_Season": "2018",
         "c_Event": "4 x 100m Freestyle Relay",
         "c_Gender": "Men",
         "n_DateSort": "20180822",
         "c_Person": "nan",
         "c_PersonNatio": "nan",
         "c_NOC": "China",
         "c_Result": "3:13.29",
         "n_ResultSort": "193290",
         "c_Class": "Elite",
         "_deepnote_index_column": "9748"
        },
        {
         "c_Sport": "Swimming",
         "c_Season": "2018",
         "c_Event": "4 x 100m Freestyle Relay",
         "c_Gender": "Men",
         "n_DateSort": "20180803",
         "c_Person": "nan",
         "c_PersonNatio": "nan",
         "c_NOC": "Poland",
         "c_Result": "3:14.20",
         "n_ResultSort": "194200",
         "c_Class": "Elite",
         "_deepnote_index_column": "9749"
        },
        {
         "c_Sport": "Swimming",
         "c_Season": "2018",
         "c_Event": "4 x 100m Freestyle Relay",
         "c_Gender": "Men",
         "n_DateSort": "20180809",
         "c_Person": "nan",
         "c_PersonNatio": "nan",
         "c_NOC": "Canada",
         "c_Result": "3:14.50",
         "n_ResultSort": "194500",
         "c_Class": "Elite",
         "_deepnote_index_column": "9750"
        },
        {
         "c_Sport": "Swimming",
         "c_Season": "2018",
         "c_Event": "4 x 100m Freestyle Relay",
         "c_Gender": "Men",
         "n_DateSort": "20180803",
         "c_Person": "nan",
         "c_PersonNatio": "nan",
         "c_NOC": "Hungary",
         "c_Result": "3:14.51",
         "n_ResultSort": "194510",
         "c_Class": "Elite",
         "_deepnote_index_column": "9751"
        },
        {
         "c_Sport": "Swimming",
         "c_Season": "2018",
         "c_Event": "4 x 100m Freestyle Relay",
         "c_Gender": "Men",
         "n_DateSort": "20180803",
         "c_Person": "nan",
         "c_PersonNatio": "nan",
         "c_NOC": "Greece",
         "c_Result": "3:14.52",
         "n_ResultSort": "194520",
         "c_Class": "Elite",
         "_deepnote_index_column": "9752"
        }
       ]
      },
      "text/plain": "        c_Sport  c_Season                   c_Event c_Gender  n_DateSort  \\\n9743   Swimming      2018  4 x 100m Freestyle Relay      Men    20180809   \n9744   Swimming      2018  4 x 100m Freestyle Relay      Men    20180803   \n9745   Swimming      2018  4 x 100m Freestyle Relay      Men    20180809   \n9746   Swimming      2018  4 x 100m Freestyle Relay      Men    20180809   \n9747   Swimming      2018  4 x 100m Freestyle Relay      Men    20180803   \n...         ...       ...                       ...      ...         ...   \n10046  Swimming      2018  4 x 200m Freestyle Relay    Women    20180824   \n10047  Swimming      2018  4 x 200m Freestyle Relay    Women    20180821   \n10048  Swimming      2018  4 x 200m Freestyle Relay    Women    20180708   \n10049  Swimming      2018  4 x 200m Freestyle Relay    Women    20180708   \n10050  Swimming      2018  4 x 200m Freestyle Relay    Women    20180708   \n\n      c_Person c_PersonNatio        c_NOC c_Result  n_ResultSort c_Class  \n9743       NaN           NaN       Brazil  3:12.02        192020   Elite  \n9744       NaN           NaN       Russia  3:12.23        192230   Elite  \n9745       NaN           NaN    Australia  3:12.53        192530   Elite  \n9746       NaN           NaN        Japan  3:12.54        192540   Elite  \n9747       NaN           NaN        Italy  3:12.90        192900   Elite  \n...        ...           ...          ...      ...           ...     ...  \n10046      NaN           NaN  New Zealand  8:18.91        498910   Elite  \n10047      NaN           NaN    Indonesia  8:21.51        501510   Elite  \n10048      NaN           NaN     Portugal  8:24.56        504560   Elite  \n10049      NaN           NaN     Slovakia  8:27.47        507470   Elite  \n10050      NaN           NaN       Turkey  8:28.37        508370   Elite  \n\n[308 rows x 11 columns]",
      "text/html": "<div>\n<style scoped>\n    .dataframe tbody tr th:only-of-type {\n        vertical-align: middle;\n    }\n\n    .dataframe tbody tr th {\n        vertical-align: top;\n    }\n\n    .dataframe thead th {\n        text-align: right;\n    }\n</style>\n<table border=\"1\" class=\"dataframe\">\n  <thead>\n    <tr style=\"text-align: right;\">\n      <th></th>\n      <th>c_Sport</th>\n      <th>c_Season</th>\n      <th>c_Event</th>\n      <th>c_Gender</th>\n      <th>n_DateSort</th>\n      <th>c_Person</th>\n      <th>c_PersonNatio</th>\n      <th>c_NOC</th>\n      <th>c_Result</th>\n      <th>n_ResultSort</th>\n      <th>c_Class</th>\n    </tr>\n  </thead>\n  <tbody>\n    <tr>\n      <th>9743</th>\n      <td>Swimming</td>\n      <td>2018</td>\n      <td>4 x 100m Freestyle Relay</td>\n      <td>Men</td>\n      <td>20180809</td>\n      <td>NaN</td>\n      <td>NaN</td>\n      <td>Brazil</td>\n      <td>3:12.02</td>\n      <td>192020</td>\n      <td>Elite</td>\n    </tr>\n    <tr>\n      <th>9744</th>\n      <td>Swimming</td>\n      <td>2018</td>\n      <td>4 x 100m Freestyle Relay</td>\n      <td>Men</td>\n      <td>20180803</td>\n      <td>NaN</td>\n      <td>NaN</td>\n      <td>Russia</td>\n      <td>3:12.23</td>\n      <td>192230</td>\n      <td>Elite</td>\n    </tr>\n    <tr>\n      <th>9745</th>\n      <td>Swimming</td>\n      <td>2018</td>\n      <td>4 x 100m Freestyle Relay</td>\n      <td>Men</td>\n      <td>20180809</td>\n      <td>NaN</td>\n      <td>NaN</td>\n      <td>Australia</td>\n      <td>3:12.53</td>\n      <td>192530</td>\n      <td>Elite</td>\n    </tr>\n    <tr>\n      <th>9746</th>\n      <td>Swimming</td>\n      <td>2018</td>\n      <td>4 x 100m Freestyle Relay</td>\n      <td>Men</td>\n      <td>20180809</td>\n      <td>NaN</td>\n      <td>NaN</td>\n      <td>Japan</td>\n      <td>3:12.54</td>\n      <td>192540</td>\n      <td>Elite</td>\n    </tr>\n    <tr>\n      <th>9747</th>\n      <td>Swimming</td>\n      <td>2018</td>\n      <td>4 x 100m Freestyle Relay</td>\n      <td>Men</td>\n      <td>20180803</td>\n      <td>NaN</td>\n      <td>NaN</td>\n      <td>Italy</td>\n      <td>3:12.90</td>\n      <td>192900</td>\n      <td>Elite</td>\n    </tr>\n    <tr>\n      <th>...</th>\n      <td>...</td>\n      <td>...</td>\n      <td>...</td>\n      <td>...</td>\n      <td>...</td>\n      <td>...</td>\n      <td>...</td>\n      <td>...</td>\n      <td>...</td>\n      <td>...</td>\n      <td>...</td>\n    </tr>\n    <tr>\n      <th>10046</th>\n      <td>Swimming</td>\n      <td>2018</td>\n      <td>4 x 200m Freestyle Relay</td>\n      <td>Women</td>\n      <td>20180824</td>\n      <td>NaN</td>\n      <td>NaN</td>\n      <td>New Zealand</td>\n      <td>8:18.91</td>\n      <td>498910</td>\n      <td>Elite</td>\n    </tr>\n    <tr>\n      <th>10047</th>\n      <td>Swimming</td>\n      <td>2018</td>\n      <td>4 x 200m Freestyle Relay</td>\n      <td>Women</td>\n      <td>20180821</td>\n      <td>NaN</td>\n      <td>NaN</td>\n      <td>Indonesia</td>\n      <td>8:21.51</td>\n      <td>501510</td>\n      <td>Elite</td>\n    </tr>\n    <tr>\n      <th>10048</th>\n      <td>Swimming</td>\n      <td>2018</td>\n      <td>4 x 200m Freestyle Relay</td>\n      <td>Women</td>\n      <td>20180708</td>\n      <td>NaN</td>\n      <td>NaN</td>\n      <td>Portugal</td>\n      <td>8:24.56</td>\n      <td>504560</td>\n      <td>Elite</td>\n    </tr>\n    <tr>\n      <th>10049</th>\n      <td>Swimming</td>\n      <td>2018</td>\n      <td>4 x 200m Freestyle Relay</td>\n      <td>Women</td>\n      <td>20180708</td>\n      <td>NaN</td>\n      <td>NaN</td>\n      <td>Slovakia</td>\n      <td>8:27.47</td>\n      <td>507470</td>\n      <td>Elite</td>\n    </tr>\n    <tr>\n      <th>10050</th>\n      <td>Swimming</td>\n      <td>2018</td>\n      <td>4 x 200m Freestyle Relay</td>\n      <td>Women</td>\n      <td>20180708</td>\n      <td>NaN</td>\n      <td>NaN</td>\n      <td>Turkey</td>\n      <td>8:28.37</td>\n      <td>508370</td>\n      <td>Elite</td>\n    </tr>\n  </tbody>\n</table>\n<p>308 rows × 11 columns</p>\n</div>"
     },
     "metadata": {}
    }
   ]
  },
  {
   "cell_type": "markdown",
   "source": "## Python Wrangling Challenge - Bonus\n\n> Multiple File Handling\n\n**Setup**\n\n+ Create a separate excel file for each unique event within the data. **Hint:** Use the pandas [`groupby`]() function to group the dataset by event. Then [loop through the `groupby` object](https://stackoverflow.com/questions/21333832/how-to-save-pandas-groups-to-separate-files) to create and save each file into the `data` folder.\n\n**Challenge**\n\n+ Merge all the `.xlsx` files within the `data` folder into one dataframe.",
   "metadata": {
    "tags": [],
    "cell_id": "00005-d274a37a-a5b1-4de4-933b-4e58894209ed",
    "deepnote_cell_type": "markdown",
    "deepnote_cell_height": 290.34375
   }
  },
  {
   "cell_type": "code",
   "metadata": {
    "tags": [],
    "cell_id": "00006-b7483f26-1994-432b-aa73-c75571bd6df4",
    "deepnote_to_be_reexecuted": false,
    "source_hash": "6dcc4be7",
    "execution_millis": 12,
    "output_cleared": true,
    "execution_start": 1668675972927,
    "deepnote_cell_type": "code",
    "deepnote_cell_height": 76
   },
   "source": "# Setup",
   "execution_count": null,
   "outputs": []
  },
  {
   "cell_type": "code",
   "metadata": {
    "tags": [],
    "cell_id": "00007-92a8b79c-ffcc-405c-90a8-d80d073c3450",
    "deepnote_to_be_reexecuted": false,
    "source_hash": "57a1aa76",
    "execution_start": 1668675972953,
    "execution_millis": 51910756006,
    "deepnote_cell_type": "code",
    "deepnote_cell_height": 76
   },
   "source": "# Challenge",
   "execution_count": null,
   "outputs": []
  },
  {
   "cell_type": "markdown",
   "source": "<a style='text-decoration:none;line-height:16px;display:flex;color:#5B5B62;padding:10px;justify-content:end;' href='https://deepnote.com?utm_source=created-in-deepnote-cell&projectId=82522c04-b10e-4808-ba92-f37909eae5ea' target=\"_blank\">\n<img alt='Created in deepnote.com' style='display:inline;max-height:16px;margin:0px;margin-right:7.5px;' src='data:image/svg+xml;base64,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' > </img>\nCreated in <span style='font-weight:600;margin-left:4px;'>Deepnote</span></a>",
   "metadata": {
    "tags": [],
    "created_in_deepnote_cell": true,
    "deepnote_cell_type": "markdown"
   }
  }
 ],
 "nbformat": 4,
 "nbformat_minor": 2,
 "metadata": {
  "orig_nbformat": 2,
  "deepnote_notebook_id": "f29ba7f2-276b-4a10-adb1-f2ceb699394d",
  "deepnote_execution_queue": [],
  "deepnote": {}
 }
}