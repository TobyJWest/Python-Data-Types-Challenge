{
 "cells": [
  {
   "cell_type": "markdown",
   "source": "## Swimming PSB Challenge\n\n> In the challenge you'll be wrangling the the `swimming_psb` data set to produce the output shown at the bottom of this notebook.\n\n> Keep a [Cheatsheet](https://github.com/pandas-dev/pandas/blob/master/doc/cheatsheet/Pandas_Cheat_Sheet.pdf) handy? or the [Pandas API Reference in Docs](https://pandas.pydata.org/pandas-docs/stable/reference/index.html)?",
   "metadata": {
    "tags": [],
    "cell_id": "00000-51d21a73-5397-4136-91bd-c5b8039be546",
    "output_cleared": false,
    "deepnote_cell_type": "markdown",
    "deepnote_cell_height": 158.78125
   }
  },
  {
   "cell_type": "code",
   "source": "import pandas as pd\n\npsb_df = pd.read_csv('data/swimming_psb_data.csv')\n\npsb_df.info()\npsb_df.head(7)",
   "metadata": {
    "tags": [],
    "cell_id": "00001-ad803c0a-733d-457e-a585-8b591b7e8944",
    "execution_millis": 81,
    "deepnote_to_be_reexecuted": false,
    "source_hash": "6a6b9d4f",
    "execution_start": 1670607809072,
    "deepnote_cell_type": "code",
    "deepnote_cell_height": 968.375,
    "deepnote_output_heights": [
     null,
     176
    ]
   },
   "execution_count": 1,
   "outputs": [
    {
     "name": "stdout",
     "text": "<class 'pandas.core.frame.DataFrame'>\nRangeIndex: 16948 entries, 0 to 16947\nData columns (total 11 columns):\n #   Column         Non-Null Count  Dtype \n---  ------         --------------  ----- \n 0   c_Sport        16948 non-null  object\n 1   c_Season       16948 non-null  int64 \n 2   c_Event        16948 non-null  object\n 3   c_Gender       16948 non-null  object\n 4   n_DateSort     16948 non-null  int64 \n 5   c_Person       16640 non-null  object\n 6   c_PersonNatio  16640 non-null  object\n 7   c_NOC          16948 non-null  object\n 8   c_Result       16948 non-null  object\n 9   n_ResultSort   16948 non-null  int64 \n 10  c_Class        16948 non-null  object\ndtypes: int64(3), object(8)\nmemory usage: 1.4+ MB\n",
     "output_type": "stream"
    },
    {
     "output_type": "execute_result",
     "execution_count": 1,
     "data": {
      "application/vnd.deepnote.dataframe.v3+json": {
       "column_count": 11,
       "row_count": 7,
       "columns": [
        {
         "name": "c_Sport",
         "dtype": "object",
         "stats": {
          "unique_count": 1,
          "nan_count": 0,
          "categories": [
           {
            "name": "Swimming",
            "count": 7
           }
          ]
         }
        },
        {
         "name": "c_Season",
         "dtype": "int64",
         "stats": {
          "unique_count": 1,
          "nan_count": 0,
          "min": "2018",
          "max": "2018",
          "histogram": [
           {
            "bin_start": 2017.5,
            "bin_end": 2017.6,
            "count": 0
           },
           {
            "bin_start": 2017.6,
            "bin_end": 2017.7,
            "count": 0
           },
           {
            "bin_start": 2017.7,
            "bin_end": 2017.8,
            "count": 0
           },
           {
            "bin_start": 2017.8,
            "bin_end": 2017.9,
            "count": 0
           },
           {
            "bin_start": 2017.9,
            "bin_end": 2018,
            "count": 0
           },
           {
            "bin_start": 2018,
            "bin_end": 2018.1,
            "count": 7
           },
           {
            "bin_start": 2018.1,
            "bin_end": 2018.2,
            "count": 0
           },
           {
            "bin_start": 2018.2,
            "bin_end": 2018.3,
            "count": 0
           },
           {
            "bin_start": 2018.3,
            "bin_end": 2018.4,
            "count": 0
           },
           {
            "bin_start": 2018.4,
            "bin_end": 2018.5,
            "count": 0
           }
          ]
         }
        },
        {
         "name": "c_Event",
         "dtype": "object",
         "stats": {
          "unique_count": 1,
          "nan_count": 0,
          "categories": [
           {
            "name": "100m Backstroke",
            "count": 7
           }
          ]
         }
        },
        {
         "name": "c_Gender",
         "dtype": "object",
         "stats": {
          "unique_count": 1,
          "nan_count": 0,
          "categories": [
           {
            "name": "Men",
            "count": 7
           }
          ]
         }
        },
        {
         "name": "n_DateSort",
         "dtype": "int64",
         "stats": {
          "unique_count": 6,
          "nan_count": 0,
          "min": "20180728",
          "max": "20180822",
          "histogram": [
           {
            "bin_start": 20180728,
            "bin_end": 20180737.4,
            "count": 1
           },
           {
            "bin_start": 20180737.4,
            "bin_end": 20180746.8,
            "count": 0
           },
           {
            "bin_start": 20180746.8,
            "bin_end": 20180756.2,
            "count": 0
           },
           {
            "bin_start": 20180756.2,
            "bin_end": 20180765.6,
            "count": 0
           },
           {
            "bin_start": 20180765.6,
            "bin_end": 20180775,
            "count": 0
           },
           {
            "bin_start": 20180775,
            "bin_end": 20180784.4,
            "count": 0
           },
           {
            "bin_start": 20180784.4,
            "bin_end": 20180793.8,
            "count": 0
           },
           {
            "bin_start": 20180793.8,
            "bin_end": 20180803.2,
            "count": 0
           },
           {
            "bin_start": 20180803.2,
            "bin_end": 20180812.6,
            "count": 4
           },
           {
            "bin_start": 20180812.6,
            "bin_end": 20180822,
            "count": 2
           }
          ]
         }
        },
        {
         "name": "c_Person",
         "dtype": "object",
         "stats": {
          "unique_count": 7,
          "nan_count": 0,
          "categories": [
           {
            "name": "Ryan Murphy",
            "count": 1
           },
           {
            "name": "Xu Jiayu",
            "count": 1
           },
           {
            "name": "5 others",
            "count": 5
           }
          ]
         }
        },
        {
         "name": "c_PersonNatio",
         "dtype": "object",
         "stats": {
          "unique_count": 5,
          "nan_count": 0,
          "categories": [
           {
            "name": "United States",
            "count": 2
           },
           {
            "name": "Russia",
            "count": 2
           },
           {
            "name": "3 others",
            "count": 3
           }
          ]
         }
        },
        {
         "name": "c_NOC",
         "dtype": "object",
         "stats": {
          "unique_count": 5,
          "nan_count": 0,
          "categories": [
           {
            "name": "United States",
            "count": 2
           },
           {
            "name": "Russia",
            "count": 2
           },
           {
            "name": "3 others",
            "count": 3
           }
          ]
         }
        },
        {
         "name": "c_Result",
         "dtype": "object",
         "stats": {
          "unique_count": 7,
          "nan_count": 0,
          "categories": [
           {
            "name": "51.94",
            "count": 1
           },
           {
            "name": "52.30",
            "count": 1
           },
           {
            "name": "5 others",
            "count": 5
           }
          ]
         }
        },
        {
         "name": "n_ResultSort",
         "dtype": "int64",
         "stats": {
          "unique_count": 7,
          "nan_count": 0,
          "min": "51940",
          "max": "52880",
          "histogram": [
           {
            "bin_start": 51940,
            "bin_end": 52034,
            "count": 1
           },
           {
            "bin_start": 52034,
            "bin_end": 52128,
            "count": 0
           },
           {
            "bin_start": 52128,
            "bin_end": 52222,
            "count": 0
           },
           {
            "bin_start": 52222,
            "bin_end": 52316,
            "count": 1
           },
           {
            "bin_start": 52316,
            "bin_end": 52410,
            "count": 0
           },
           {
            "bin_start": 52410,
            "bin_end": 52504,
            "count": 0
           },
           {
            "bin_start": 52504,
            "bin_end": 52598,
            "count": 3
           },
           {
            "bin_start": 52598,
            "bin_end": 52692,
            "count": 1
           },
           {
            "bin_start": 52692,
            "bin_end": 52786,
            "count": 0
           },
           {
            "bin_start": 52786,
            "bin_end": 52880,
            "count": 1
           }
          ]
         }
        },
        {
         "name": "c_Class",
         "dtype": "object",
         "stats": {
          "unique_count": 1,
          "nan_count": 0,
          "categories": [
           {
            "name": "Elite",
            "count": 7
           }
          ]
         }
        },
        {
         "name": "_deepnote_index_column",
         "dtype": "int64"
        }
       ],
       "rows": [
        {
         "c_Sport": "Swimming",
         "c_Season": "2018",
         "c_Event": "100m Backstroke",
         "c_Gender": "Men",
         "n_DateSort": "20180809",
         "c_Person": "Ryan Murphy",
         "c_PersonNatio": "United States",
         "c_NOC": "United States",
         "c_Result": "51.94",
         "n_ResultSort": "51940",
         "c_Class": "Elite",
         "_deepnote_index_column": "0"
        },
        {
         "c_Sport": "Swimming",
         "c_Season": "2018",
         "c_Event": "100m Backstroke",
         "c_Gender": "Men",
         "n_DateSort": "20180822",
         "c_Person": "Xu Jiayu",
         "c_PersonNatio": "China",
         "c_NOC": "China",
         "c_Result": "52.30",
         "n_ResultSort": "52300",
         "c_Class": "Elite",
         "_deepnote_index_column": "1"
        },
        {
         "c_Sport": "Swimming",
         "c_Season": "2018",
         "c_Event": "100m Backstroke",
         "c_Gender": "Men",
         "n_DateSort": "20180806",
         "c_Person": "Kliment Kolesnikov",
         "c_PersonNatio": "Russia",
         "c_NOC": "Russia",
         "c_Result": "52.51",
         "n_ResultSort": "52510",
         "c_Class": "Elite",
         "_deepnote_index_column": "2"
        },
        {
         "c_Sport": "Swimming",
         "c_Season": "2018",
         "c_Event": "100m Backstroke",
         "c_Gender": "Men",
         "n_DateSort": "20180819",
         "c_Person": "Ryosuke Irie",
         "c_PersonNatio": "Japan",
         "c_NOC": "Japan",
         "c_Result": "52.53",
         "n_ResultSort": "52530",
         "c_Class": "Elite",
         "_deepnote_index_column": "3"
        },
        {
         "c_Sport": "Swimming",
         "c_Season": "2018",
         "c_Event": "100m Backstroke",
         "c_Gender": "Men",
         "n_DateSort": "20180728",
         "c_Person": "Matt Grevers",
         "c_PersonNatio": "United States",
         "c_NOC": "United States",
         "c_Result": "52.55",
         "n_ResultSort": "52550",
         "c_Class": "Elite",
         "_deepnote_index_column": "4"
        },
        {
         "c_Sport": "Swimming",
         "c_Season": "2018",
         "c_Event": "100m Backstroke",
         "c_Gender": "Men",
         "n_DateSort": "20180809",
         "c_Person": "Evgeniy Rylov",
         "c_PersonNatio": "Russia",
         "c_NOC": "Russia",
         "c_Result": "52.66",
         "n_ResultSort": "52660",
         "c_Class": "Elite",
         "_deepnote_index_column": "5"
        },
        {
         "c_Sport": "Swimming",
         "c_Season": "2018",
         "c_Event": "100m Backstroke",
         "c_Gender": "Men",
         "n_DateSort": "20180810",
         "c_Person": "Mitch Larkin",
         "c_PersonNatio": "Australia",
         "c_NOC": "Australia",
         "c_Result": "52.88",
         "n_ResultSort": "52880",
         "c_Class": "Elite",
         "_deepnote_index_column": "6"
        }
       ]
      },
      "text/plain": "    c_Sport  c_Season          c_Event c_Gender  n_DateSort  \\\n0  Swimming      2018  100m Backstroke      Men    20180809   \n1  Swimming      2018  100m Backstroke      Men    20180822   \n2  Swimming      2018  100m Backstroke      Men    20180806   \n3  Swimming      2018  100m Backstroke      Men    20180819   \n4  Swimming      2018  100m Backstroke      Men    20180728   \n5  Swimming      2018  100m Backstroke      Men    20180809   \n6  Swimming      2018  100m Backstroke      Men    20180810   \n\n             c_Person  c_PersonNatio          c_NOC c_Result  n_ResultSort  \\\n0         Ryan Murphy  United States  United States    51.94         51940   \n1            Xu Jiayu          China          China    52.30         52300   \n2  Kliment Kolesnikov         Russia         Russia    52.51         52510   \n3        Ryosuke Irie          Japan          Japan    52.53         52530   \n4        Matt Grevers  United States  United States    52.55         52550   \n5       Evgeniy Rylov         Russia         Russia    52.66         52660   \n6        Mitch Larkin      Australia      Australia    52.88         52880   \n\n  c_Class  \n0   Elite  \n1   Elite  \n2   Elite  \n3   Elite  \n4   Elite  \n5   Elite  \n6   Elite  ",
      "text/html": "<div>\n<style scoped>\n    .dataframe tbody tr th:only-of-type {\n        vertical-align: middle;\n    }\n\n    .dataframe tbody tr th {\n        vertical-align: top;\n    }\n\n    .dataframe thead th {\n        text-align: right;\n    }\n</style>\n<table border=\"1\" class=\"dataframe\">\n  <thead>\n    <tr style=\"text-align: right;\">\n      <th></th>\n      <th>c_Sport</th>\n      <th>c_Season</th>\n      <th>c_Event</th>\n      <th>c_Gender</th>\n      <th>n_DateSort</th>\n      <th>c_Person</th>\n      <th>c_PersonNatio</th>\n      <th>c_NOC</th>\n      <th>c_Result</th>\n      <th>n_ResultSort</th>\n      <th>c_Class</th>\n    </tr>\n  </thead>\n  <tbody>\n    <tr>\n      <th>0</th>\n      <td>Swimming</td>\n      <td>2018</td>\n      <td>100m Backstroke</td>\n      <td>Men</td>\n      <td>20180809</td>\n      <td>Ryan Murphy</td>\n      <td>United States</td>\n      <td>United States</td>\n      <td>51.94</td>\n      <td>51940</td>\n      <td>Elite</td>\n    </tr>\n    <tr>\n      <th>1</th>\n      <td>Swimming</td>\n      <td>2018</td>\n      <td>100m Backstroke</td>\n      <td>Men</td>\n      <td>20180822</td>\n      <td>Xu Jiayu</td>\n      <td>China</td>\n      <td>China</td>\n      <td>52.30</td>\n      <td>52300</td>\n      <td>Elite</td>\n    </tr>\n    <tr>\n      <th>2</th>\n      <td>Swimming</td>\n      <td>2018</td>\n      <td>100m Backstroke</td>\n      <td>Men</td>\n      <td>20180806</td>\n      <td>Kliment Kolesnikov</td>\n      <td>Russia</td>\n      <td>Russia</td>\n      <td>52.51</td>\n      <td>52510</td>\n      <td>Elite</td>\n    </tr>\n    <tr>\n      <th>3</th>\n      <td>Swimming</td>\n      <td>2018</td>\n      <td>100m Backstroke</td>\n      <td>Men</td>\n      <td>20180819</td>\n      <td>Ryosuke Irie</td>\n      <td>Japan</td>\n      <td>Japan</td>\n      <td>52.53</td>\n      <td>52530</td>\n      <td>Elite</td>\n    </tr>\n    <tr>\n      <th>4</th>\n      <td>Swimming</td>\n      <td>2018</td>\n      <td>100m Backstroke</td>\n      <td>Men</td>\n      <td>20180728</td>\n      <td>Matt Grevers</td>\n      <td>United States</td>\n      <td>United States</td>\n      <td>52.55</td>\n      <td>52550</td>\n      <td>Elite</td>\n    </tr>\n    <tr>\n      <th>5</th>\n      <td>Swimming</td>\n      <td>2018</td>\n      <td>100m Backstroke</td>\n      <td>Men</td>\n      <td>20180809</td>\n      <td>Evgeniy Rylov</td>\n      <td>Russia</td>\n      <td>Russia</td>\n      <td>52.66</td>\n      <td>52660</td>\n      <td>Elite</td>\n    </tr>\n    <tr>\n      <th>6</th>\n      <td>Swimming</td>\n      <td>2018</td>\n      <td>100m Backstroke</td>\n      <td>Men</td>\n      <td>20180810</td>\n      <td>Mitch Larkin</td>\n      <td>Australia</td>\n      <td>Australia</td>\n      <td>52.88</td>\n      <td>52880</td>\n      <td>Elite</td>\n    </tr>\n  </tbody>\n</table>\n</div>"
     },
     "metadata": {}
    }
   ]
  },
  {
   "cell_type": "markdown",
   "source": "#### 1. Remove ```c_Sport```, ```c_Season``` and ```c_Class``` columns.\n> Because you decide you don't need them...",
   "metadata": {
    "tags": [],
    "cell_id": "00003-a49c99ea-ca5b-4959-bbce-757d147350e7",
    "output_cleared": false,
    "deepnote_cell_type": "markdown",
    "deepnote_cell_height": 103.390625
   }
  },
  {
   "cell_type": "code",
   "metadata": {
    "tags": [],
    "cell_id": "00004-07667433-01db-401a-ad18-e2437750ec8a",
    "output_cleared": false,
    "source_hash": "5f26f79f",
    "execution_millis": 36,
    "execution_start": 1670607809198,
    "deepnote_to_be_reexecuted": false,
    "deepnote_cell_type": "code",
    "deepnote_cell_height": 648
   },
   "source": "removecols = ['c_Sport', 'c_Season','c_Class']\npsb_df.drop(removecols, inplace=True, axis=1)\npsb_df",
   "execution_count": 2,
   "outputs": [
    {
     "output_type": "execute_result",
     "execution_count": 2,
     "data": {
      "application/vnd.deepnote.dataframe.v3+json": {
       "column_count": 8,
       "row_count": 16948,
       "columns": [
        {
         "name": "c_Event",
         "dtype": "object",
         "stats": {
          "unique_count": 20,
          "nan_count": 0,
          "categories": [
           {
            "name": "800m Freestyle",
            "count": 989
           },
           {
            "name": "200m Individual Medley",
            "count": 988
           },
           {
            "name": "18 others",
            "count": 14971
           }
          ]
         }
        },
        {
         "name": "c_Gender",
         "dtype": "object",
         "stats": {
          "unique_count": 3,
          "nan_count": 0,
          "categories": [
           {
            "name": "Men",
            "count": 8458
           },
           {
            "name": "Women",
            "count": 8394
           },
           {
            "name": "Mixed",
            "count": 96
           }
          ]
         }
        },
        {
         "name": "n_DateSort",
         "dtype": "int64",
         "stats": {
          "unique_count": 232,
          "nan_count": 0,
          "min": "20180104",
          "max": "20181223",
          "histogram": [
           {
            "bin_start": 20180104,
            "bin_end": 20180215.9,
            "count": 521
           },
           {
            "bin_start": 20180215.9,
            "bin_end": 20180327.8,
            "count": 844
           },
           {
            "bin_start": 20180327.8,
            "bin_end": 20180439.7,
            "count": 4274
           },
           {
            "bin_start": 20180439.7,
            "bin_end": 20180551.6,
            "count": 1718
           },
           {
            "bin_start": 20180551.6,
            "bin_end": 20180663.5,
            "count": 1210
           },
           {
            "bin_start": 20180663.5,
            "bin_end": 20180775.4,
            "count": 4327
           },
           {
            "bin_start": 20180775.4,
            "bin_end": 20180887.3,
            "count": 2647
           },
           {
            "bin_start": 20180887.3,
            "bin_end": 20180999.2,
            "count": 684
           },
           {
            "bin_start": 20180999.2,
            "bin_end": 20181111.1,
            "count": 413
           },
           {
            "bin_start": 20181111.1,
            "bin_end": 20181223,
            "count": 310
           }
          ]
         }
        },
        {
         "name": "c_Person",
         "dtype": "object",
         "stats": {
          "unique_count": 6959,
          "nan_count": 308,
          "categories": [
           {
            "name": "Katinka Hosszú",
            "count": 16
           },
           {
            "name": "6958 others",
            "count": 16624
           },
           {
            "name": "Missing",
            "count": 308
           }
          ]
         }
        },
        {
         "name": "c_PersonNatio",
         "dtype": "object",
         "stats": {
          "unique_count": 126,
          "nan_count": 308,
          "categories": [
           {
            "name": "United States",
            "count": 3184
           },
           {
            "name": "125 others",
            "count": 13456
           },
           {
            "name": "Missing",
            "count": 308
           }
          ]
         }
        },
        {
         "name": "c_NOC",
         "dtype": "object"
        },
        {
         "name": "c_Result",
         "dtype": "object"
        },
        {
         "name": "n_ResultSort",
         "dtype": "int64"
        },
        {
         "name": "_deepnote_index_column",
         "dtype": "int64"
        }
       ],
       "rows": [
        {
         "c_Event": "100m Backstroke",
         "c_Gender": "Men",
         "n_DateSort": "20180809",
         "c_Person": "Ryan Murphy",
         "c_PersonNatio": "United States",
         "c_NOC": "United States",
         "c_Result": "51.94",
         "n_ResultSort": "51940",
         "_deepnote_index_column": "0"
        },
        {
         "c_Event": "100m Backstroke",
         "c_Gender": "Men",
         "n_DateSort": "20180822",
         "c_Person": "Xu Jiayu",
         "c_PersonNatio": "China",
         "c_NOC": "China",
         "c_Result": "52.30",
         "n_ResultSort": "52300",
         "_deepnote_index_column": "1"
        },
        {
         "c_Event": "100m Backstroke",
         "c_Gender": "Men",
         "n_DateSort": "20180806",
         "c_Person": "Kliment Kolesnikov",
         "c_PersonNatio": "Russia",
         "c_NOC": "Russia",
         "c_Result": "52.51",
         "n_ResultSort": "52510",
         "_deepnote_index_column": "2"
        },
        {
         "c_Event": "100m Backstroke",
         "c_Gender": "Men",
         "n_DateSort": "20180819",
         "c_Person": "Ryosuke Irie",
         "c_PersonNatio": "Japan",
         "c_NOC": "Japan",
         "c_Result": "52.53",
         "n_ResultSort": "52530",
         "_deepnote_index_column": "3"
        },
        {
         "c_Event": "100m Backstroke",
         "c_Gender": "Men",
         "n_DateSort": "20180728",
         "c_Person": "Matt Grevers",
         "c_PersonNatio": "United States",
         "c_NOC": "United States",
         "c_Result": "52.55",
         "n_ResultSort": "52550",
         "_deepnote_index_column": "4"
        },
        {
         "c_Event": "100m Backstroke",
         "c_Gender": "Men",
         "n_DateSort": "20180809",
         "c_Person": "Evgeniy Rylov",
         "c_PersonNatio": "Russia",
         "c_NOC": "Russia",
         "c_Result": "52.66",
         "n_ResultSort": "52660",
         "_deepnote_index_column": "5"
        },
        {
         "c_Event": "100m Backstroke",
         "c_Gender": "Men",
         "n_DateSort": "20180810",
         "c_Person": "Mitch Larkin",
         "c_PersonNatio": "Australia",
         "c_NOC": "Australia",
         "c_Result": "52.88",
         "n_ResultSort": "52880",
         "_deepnote_index_column": "6"
        },
        {
         "c_Event": "100m Backstroke",
         "c_Gender": "Men",
         "n_DateSort": "20180806",
         "c_Person": "Grigoriy Tarasevich",
         "c_PersonNatio": "Russia",
         "c_NOC": "Russia",
         "c_Result": "53.22",
         "n_ResultSort": "53220",
         "_deepnote_index_column": "7"
        },
        {
         "c_Event": "100m Backstroke",
         "c_Gender": "Men",
         "n_DateSort": "20180728",
         "c_Person": "Justin Ress",
         "c_PersonNatio": "United States",
         "c_NOC": "United States",
         "c_Result": "53.26",
         "n_ResultSort": "53260",
         "_deepnote_index_column": "8"
        },
        {
         "c_Event": "100m Backstroke",
         "c_Gender": "Men",
         "n_DateSort": "20180527",
         "c_Person": "Robert Glinta",
         "c_PersonNatio": "Romania",
         "c_NOC": "Romania",
         "c_Result": "53.32",
         "n_ResultSort": "53320",
         "_deepnote_index_column": "9"
        }
       ]
      },
      "text/plain": "               c_Event c_Gender  n_DateSort            c_Person  \\\n0      100m Backstroke      Men    20180809         Ryan Murphy   \n1      100m Backstroke      Men    20180822            Xu Jiayu   \n2      100m Backstroke      Men    20180806  Kliment Kolesnikov   \n3      100m Backstroke      Men    20180819        Ryosuke Irie   \n4      100m Backstroke      Men    20180728        Matt Grevers   \n...                ...      ...         ...                 ...   \n16943   800m Freestyle    Women    20180726       Klara Bosnjak   \n16944   800m Freestyle    Women    20180519     Chantel Jeffrey   \n16945   800m Freestyle    Women    20180421          Bindi Ware   \n16946   800m Freestyle    Women    20180302    Ebony Blackstone   \n16947   800m Freestyle    Women    20180609      Mia Steen Duus   \n\n       c_PersonNatio          c_NOC c_Result  n_ResultSort  \n0      United States  United States    51.94         51940  \n1              China          China    52.30         52300  \n2             Russia         Russia    52.51         52510  \n3              Japan          Japan    52.53         52530  \n4      United States  United States    52.55         52550  \n...              ...            ...      ...           ...  \n16943        Croatia        Croatia  9:02.44        542440  \n16944         Canada         Canada  9:02.47        542470  \n16945      Australia      Australia  9:02.48        542480  \n16946      Australia      Australia  9:02.54        542540  \n16947        Denmark        Denmark  9:02.55        542550  \n\n[16948 rows x 8 columns]",
      "text/html": "<div>\n<style scoped>\n    .dataframe tbody tr th:only-of-type {\n        vertical-align: middle;\n    }\n\n    .dataframe tbody tr th {\n        vertical-align: top;\n    }\n\n    .dataframe thead th {\n        text-align: right;\n    }\n</style>\n<table border=\"1\" class=\"dataframe\">\n  <thead>\n    <tr style=\"text-align: right;\">\n      <th></th>\n      <th>c_Event</th>\n      <th>c_Gender</th>\n      <th>n_DateSort</th>\n      <th>c_Person</th>\n      <th>c_PersonNatio</th>\n      <th>c_NOC</th>\n      <th>c_Result</th>\n      <th>n_ResultSort</th>\n    </tr>\n  </thead>\n  <tbody>\n    <tr>\n      <th>0</th>\n      <td>100m Backstroke</td>\n      <td>Men</td>\n      <td>20180809</td>\n      <td>Ryan Murphy</td>\n      <td>United States</td>\n      <td>United States</td>\n      <td>51.94</td>\n      <td>51940</td>\n    </tr>\n    <tr>\n      <th>1</th>\n      <td>100m Backstroke</td>\n      <td>Men</td>\n      <td>20180822</td>\n      <td>Xu Jiayu</td>\n      <td>China</td>\n      <td>China</td>\n      <td>52.30</td>\n      <td>52300</td>\n    </tr>\n    <tr>\n      <th>2</th>\n      <td>100m Backstroke</td>\n      <td>Men</td>\n      <td>20180806</td>\n      <td>Kliment Kolesnikov</td>\n      <td>Russia</td>\n      <td>Russia</td>\n      <td>52.51</td>\n      <td>52510</td>\n    </tr>\n    <tr>\n      <th>3</th>\n      <td>100m Backstroke</td>\n      <td>Men</td>\n      <td>20180819</td>\n      <td>Ryosuke Irie</td>\n      <td>Japan</td>\n      <td>Japan</td>\n      <td>52.53</td>\n      <td>52530</td>\n    </tr>\n    <tr>\n      <th>4</th>\n      <td>100m Backstroke</td>\n      <td>Men</td>\n      <td>20180728</td>\n      <td>Matt Grevers</td>\n      <td>United States</td>\n      <td>United States</td>\n      <td>52.55</td>\n      <td>52550</td>\n    </tr>\n    <tr>\n      <th>...</th>\n      <td>...</td>\n      <td>...</td>\n      <td>...</td>\n      <td>...</td>\n      <td>...</td>\n      <td>...</td>\n      <td>...</td>\n      <td>...</td>\n    </tr>\n    <tr>\n      <th>16943</th>\n      <td>800m Freestyle</td>\n      <td>Women</td>\n      <td>20180726</td>\n      <td>Klara Bosnjak</td>\n      <td>Croatia</td>\n      <td>Croatia</td>\n      <td>9:02.44</td>\n      <td>542440</td>\n    </tr>\n    <tr>\n      <th>16944</th>\n      <td>800m Freestyle</td>\n      <td>Women</td>\n      <td>20180519</td>\n      <td>Chantel Jeffrey</td>\n      <td>Canada</td>\n      <td>Canada</td>\n      <td>9:02.47</td>\n      <td>542470</td>\n    </tr>\n    <tr>\n      <th>16945</th>\n      <td>800m Freestyle</td>\n      <td>Women</td>\n      <td>20180421</td>\n      <td>Bindi Ware</td>\n      <td>Australia</td>\n      <td>Australia</td>\n      <td>9:02.48</td>\n      <td>542480</td>\n    </tr>\n    <tr>\n      <th>16946</th>\n      <td>800m Freestyle</td>\n      <td>Women</td>\n      <td>20180302</td>\n      <td>Ebony Blackstone</td>\n      <td>Australia</td>\n      <td>Australia</td>\n      <td>9:02.54</td>\n      <td>542540</td>\n    </tr>\n    <tr>\n      <th>16947</th>\n      <td>800m Freestyle</td>\n      <td>Women</td>\n      <td>20180609</td>\n      <td>Mia Steen Duus</td>\n      <td>Denmark</td>\n      <td>Denmark</td>\n      <td>9:02.55</td>\n      <td>542550</td>\n    </tr>\n  </tbody>\n</table>\n<p>16948 rows × 8 columns</p>\n</div>"
     },
     "metadata": {}
    }
   ]
  },
  {
   "cell_type": "markdown",
   "source": "#### 2. Output all unique events (```c_Event```).\n> Becasue you want to checkout which Swimming events are in the data.",
   "metadata": {
    "tags": [],
    "cell_id": "00005-4cdacf0c-716f-4671-b911-885ba7c1d343",
    "output_cleared": false,
    "deepnote_cell_type": "markdown",
    "deepnote_cell_height": 103.390625
   }
  },
  {
   "cell_type": "code",
   "source": "psb_df['c_Event'].unique()",
   "metadata": {
    "tags": [],
    "cell_id": "00006-459bd204-1341-45cb-8d0d-ecb2140cddf4",
    "output_cleared": false,
    "source_hash": "9b083ce",
    "execution_millis": 4,
    "execution_start": 1670607809272,
    "deepnote_to_be_reexecuted": false,
    "deepnote_cell_type": "code",
    "deepnote_cell_height": 246.5,
    "deepnote_output_heights": [
     154.5
    ]
   },
   "execution_count": 3,
   "outputs": [
    {
     "output_type": "execute_result",
     "execution_count": 3,
     "data": {
      "text/plain": "array(['100m Backstroke', '100m Breaststroke', '100m Butterfly',\n       '100m Freestyle', '1500m Freestyle', '200m Backstroke',\n       '200m Breaststroke', '200m Butterfly', '200m Freestyle',\n       '200m Individual Medley', '4 x 100m Freestyle Relay',\n       '4 x 100m Medley Relay', '4 x 200m Freestyle Relay',\n       '400m Freestyle', '400m Individual Medley', '50m Backstroke',\n       '50m Breaststroke', '50m Butterfly', '50m Freestyle',\n       '800m Freestyle'], dtype=object)"
     },
     "metadata": {}
    }
   ]
  },
  {
   "cell_type": "markdown",
   "source": "#### 3a. Find all rows with NaN values.\n> Because you want to identify where these values are coming from...more examples [here](https://datatofish.com/rows-with-nan-pandas-dataframe/).",
   "metadata": {
    "tags": [],
    "cell_id": "00005-e0316efe-f8fa-42a2-b1be-1e08d1973043",
    "output_cleared": false,
    "deepnote_cell_type": "markdown",
    "deepnote_cell_height": 102.390625
   }
  },
  {
   "cell_type": "code",
   "source": "nan_rows = psb_df[psb_df.isnull().any(axis=1)]\nnan_rows\n# Alternative method\n# nan_rows = psb_df[psb_df.isna().any(axis=1)]\n# nan_rows\n\n# rows_with_nan_values = psb_df[psb_df.isnull().any(axis=1)]\n# rows_with_nan_values",
   "metadata": {
    "tags": [],
    "cell_id": "00006-4f25e091-3cff-4502-868c-4cb3e1acaab5",
    "output_cleared": false,
    "source_hash": "9eae4d72",
    "execution_millis": 4,
    "execution_start": 1670607809273,
    "deepnote_to_be_reexecuted": false,
    "deepnote_cell_type": "code",
    "deepnote_cell_height": 738,
    "deepnote_output_heights": [
     null,
     606
    ]
   },
   "execution_count": 4,
   "outputs": [
    {
     "output_type": "execute_result",
     "execution_count": 4,
     "data": {
      "application/vnd.deepnote.dataframe.v3+json": {
       "column_count": 8,
       "row_count": 308,
       "columns": [
        {
         "name": "c_Event",
         "dtype": "object",
         "stats": {
          "unique_count": 3,
          "nan_count": 0,
          "categories": [
           {
            "name": "4 x 100m Medley Relay",
            "count": 128
           },
           {
            "name": "4 x 100m Freestyle Relay",
            "count": 110
           },
           {
            "name": "4 x 200m Freestyle Relay",
            "count": 70
           }
          ]
         }
        },
        {
         "name": "c_Gender",
         "dtype": "object",
         "stats": {
          "unique_count": 3,
          "nan_count": 0,
          "categories": [
           {
            "name": "Men",
            "count": 117
           },
           {
            "name": "Mixed",
            "count": 96
           },
           {
            "name": "Women",
            "count": 95
           }
          ]
         }
        },
        {
         "name": "n_DateSort",
         "dtype": "int64",
         "stats": {
          "unique_count": 42,
          "nan_count": 0,
          "min": "20180622",
          "max": "20181211",
          "histogram": [
           {
            "bin_start": 20180622,
            "bin_end": 20180680.9,
            "count": 1
           },
           {
            "bin_start": 20180680.9,
            "bin_end": 20180739.8,
            "count": 59
           },
           {
            "bin_start": 20180739.8,
            "bin_end": 20180798.7,
            "count": 0
           },
           {
            "bin_start": 20180798.7,
            "bin_end": 20180857.6,
            "count": 207
           },
           {
            "bin_start": 20180857.6,
            "bin_end": 20180916.5,
            "count": 10
           },
           {
            "bin_start": 20180916.5,
            "bin_end": 20180975.4,
            "count": 0
           },
           {
            "bin_start": 20180975.4,
            "bin_end": 20181034.3,
            "count": 29
           },
           {
            "bin_start": 20181034.3,
            "bin_end": 20181093.2,
            "count": 0
           },
           {
            "bin_start": 20181093.2,
            "bin_end": 20181152.1,
            "count": 0
           },
           {
            "bin_start": 20181152.1,
            "bin_end": 20181211,
            "count": 2
           }
          ]
         }
        },
        {
         "name": "c_Person",
         "dtype": "object",
         "stats": {
          "unique_count": 0,
          "nan_count": 308,
          "categories": [
           {
            "name": "Missing",
            "count": 308
           }
          ]
         }
        },
        {
         "name": "c_PersonNatio",
         "dtype": "object",
         "stats": {
          "unique_count": 0,
          "nan_count": 308,
          "categories": [
           {
            "name": "Missing",
            "count": 308
           }
          ]
         }
        },
        {
         "name": "c_NOC",
         "dtype": "object",
         "stats": {
          "unique_count": 64,
          "nan_count": 0,
          "categories": [
           {
            "name": "Russia",
            "count": 9
           },
           {
            "name": "Italy",
            "count": 9
           },
           {
            "name": "62 others",
            "count": 290
           }
          ]
         }
        },
        {
         "name": "c_Result",
         "dtype": "object",
         "stats": {
          "unique_count": 303,
          "nan_count": 0,
          "categories": [
           {
            "name": "3:17.31",
            "count": 2
           },
           {
            "name": "3:45.93",
            "count": 2
           },
           {
            "name": "301 others",
            "count": 304
           }
          ]
         }
        },
        {
         "name": "n_ResultSort",
         "dtype": "int64",
         "stats": {
          "unique_count": 303,
          "nan_count": 0,
          "min": "192020",
          "max": "508370",
          "histogram": [
           {
            "bin_start": 192020,
            "bin_end": 223655,
            "count": 118
           },
           {
            "bin_start": 223655,
            "bin_end": 255290,
            "count": 106
           },
           {
            "bin_start": 255290,
            "bin_end": 286925,
            "count": 14
           },
           {
            "bin_start": 286925,
            "bin_end": 318560,
            "count": 0
           },
           {
            "bin_start": 318560,
            "bin_end": 350195,
            "count": 0
           },
           {
            "bin_start": 350195,
            "bin_end": 381830,
            "count": 0
           },
           {
            "bin_start": 381830,
            "bin_end": 413465,
            "count": 0
           },
           {
            "bin_start": 413465,
            "bin_end": 445100,
            "count": 22
           },
           {
            "bin_start": 445100,
            "bin_end": 476735,
            "count": 29
           },
           {
            "bin_start": 476735,
            "bin_end": 508370,
            "count": 19
           }
          ]
         }
        },
        {
         "name": "_deepnote_index_column",
         "dtype": "int64"
        }
       ],
       "rows": [
        {
         "c_Event": "4 x 100m Freestyle Relay",
         "c_Gender": "Men",
         "n_DateSort": "20180809",
         "c_Person": "nan",
         "c_PersonNatio": "nan",
         "c_NOC": "Brazil",
         "c_Result": "3:12.02",
         "n_ResultSort": "192020",
         "_deepnote_index_column": "9743"
        },
        {
         "c_Event": "4 x 100m Freestyle Relay",
         "c_Gender": "Men",
         "n_DateSort": "20180803",
         "c_Person": "nan",
         "c_PersonNatio": "nan",
         "c_NOC": "Russia",
         "c_Result": "3:12.23",
         "n_ResultSort": "192230",
         "_deepnote_index_column": "9744"
        },
        {
         "c_Event": "4 x 100m Freestyle Relay",
         "c_Gender": "Men",
         "n_DateSort": "20180809",
         "c_Person": "nan",
         "c_PersonNatio": "nan",
         "c_NOC": "Australia",
         "c_Result": "3:12.53",
         "n_ResultSort": "192530",
         "_deepnote_index_column": "9745"
        },
        {
         "c_Event": "4 x 100m Freestyle Relay",
         "c_Gender": "Men",
         "n_DateSort": "20180809",
         "c_Person": "nan",
         "c_PersonNatio": "nan",
         "c_NOC": "Japan",
         "c_Result": "3:12.54",
         "n_ResultSort": "192540",
         "_deepnote_index_column": "9746"
        },
        {
         "c_Event": "4 x 100m Freestyle Relay",
         "c_Gender": "Men",
         "n_DateSort": "20180803",
         "c_Person": "nan",
         "c_PersonNatio": "nan",
         "c_NOC": "Italy",
         "c_Result": "3:12.90",
         "n_ResultSort": "192900",
         "_deepnote_index_column": "9747"
        },
        {
         "c_Event": "4 x 100m Freestyle Relay",
         "c_Gender": "Men",
         "n_DateSort": "20180822",
         "c_Person": "nan",
         "c_PersonNatio": "nan",
         "c_NOC": "China",
         "c_Result": "3:13.29",
         "n_ResultSort": "193290",
         "_deepnote_index_column": "9748"
        },
        {
         "c_Event": "4 x 100m Freestyle Relay",
         "c_Gender": "Men",
         "n_DateSort": "20180803",
         "c_Person": "nan",
         "c_PersonNatio": "nan",
         "c_NOC": "Poland",
         "c_Result": "3:14.20",
         "n_ResultSort": "194200",
         "_deepnote_index_column": "9749"
        },
        {
         "c_Event": "4 x 100m Freestyle Relay",
         "c_Gender": "Men",
         "n_DateSort": "20180809",
         "c_Person": "nan",
         "c_PersonNatio": "nan",
         "c_NOC": "Canada",
         "c_Result": "3:14.50",
         "n_ResultSort": "194500",
         "_deepnote_index_column": "9750"
        },
        {
         "c_Event": "4 x 100m Freestyle Relay",
         "c_Gender": "Men",
         "n_DateSort": "20180803",
         "c_Person": "nan",
         "c_PersonNatio": "nan",
         "c_NOC": "Hungary",
         "c_Result": "3:14.51",
         "n_ResultSort": "194510",
         "_deepnote_index_column": "9751"
        },
        {
         "c_Event": "4 x 100m Freestyle Relay",
         "c_Gender": "Men",
         "n_DateSort": "20180803",
         "c_Person": "nan",
         "c_PersonNatio": "nan",
         "c_NOC": "Greece",
         "c_Result": "3:14.52",
         "n_ResultSort": "194520",
         "_deepnote_index_column": "9752"
        }
       ]
      },
      "text/plain": "                        c_Event c_Gender  n_DateSort c_Person c_PersonNatio  \\\n9743   4 x 100m Freestyle Relay      Men    20180809      NaN           NaN   \n9744   4 x 100m Freestyle Relay      Men    20180803      NaN           NaN   \n9745   4 x 100m Freestyle Relay      Men    20180809      NaN           NaN   \n9746   4 x 100m Freestyle Relay      Men    20180809      NaN           NaN   \n9747   4 x 100m Freestyle Relay      Men    20180803      NaN           NaN   \n...                         ...      ...         ...      ...           ...   \n10046  4 x 200m Freestyle Relay    Women    20180824      NaN           NaN   \n10047  4 x 200m Freestyle Relay    Women    20180821      NaN           NaN   \n10048  4 x 200m Freestyle Relay    Women    20180708      NaN           NaN   \n10049  4 x 200m Freestyle Relay    Women    20180708      NaN           NaN   \n10050  4 x 200m Freestyle Relay    Women    20180708      NaN           NaN   \n\n             c_NOC c_Result  n_ResultSort  \n9743        Brazil  3:12.02        192020  \n9744        Russia  3:12.23        192230  \n9745     Australia  3:12.53        192530  \n9746         Japan  3:12.54        192540  \n9747         Italy  3:12.90        192900  \n...            ...      ...           ...  \n10046  New Zealand  8:18.91        498910  \n10047    Indonesia  8:21.51        501510  \n10048     Portugal  8:24.56        504560  \n10049     Slovakia  8:27.47        507470  \n10050       Turkey  8:28.37        508370  \n\n[308 rows x 8 columns]",
      "text/html": "<div>\n<style scoped>\n    .dataframe tbody tr th:only-of-type {\n        vertical-align: middle;\n    }\n\n    .dataframe tbody tr th {\n        vertical-align: top;\n    }\n\n    .dataframe thead th {\n        text-align: right;\n    }\n</style>\n<table border=\"1\" class=\"dataframe\">\n  <thead>\n    <tr style=\"text-align: right;\">\n      <th></th>\n      <th>c_Event</th>\n      <th>c_Gender</th>\n      <th>n_DateSort</th>\n      <th>c_Person</th>\n      <th>c_PersonNatio</th>\n      <th>c_NOC</th>\n      <th>c_Result</th>\n      <th>n_ResultSort</th>\n    </tr>\n  </thead>\n  <tbody>\n    <tr>\n      <th>9743</th>\n      <td>4 x 100m Freestyle Relay</td>\n      <td>Men</td>\n      <td>20180809</td>\n      <td>NaN</td>\n      <td>NaN</td>\n      <td>Brazil</td>\n      <td>3:12.02</td>\n      <td>192020</td>\n    </tr>\n    <tr>\n      <th>9744</th>\n      <td>4 x 100m Freestyle Relay</td>\n      <td>Men</td>\n      <td>20180803</td>\n      <td>NaN</td>\n      <td>NaN</td>\n      <td>Russia</td>\n      <td>3:12.23</td>\n      <td>192230</td>\n    </tr>\n    <tr>\n      <th>9745</th>\n      <td>4 x 100m Freestyle Relay</td>\n      <td>Men</td>\n      <td>20180809</td>\n      <td>NaN</td>\n      <td>NaN</td>\n      <td>Australia</td>\n      <td>3:12.53</td>\n      <td>192530</td>\n    </tr>\n    <tr>\n      <th>9746</th>\n      <td>4 x 100m Freestyle Relay</td>\n      <td>Men</td>\n      <td>20180809</td>\n      <td>NaN</td>\n      <td>NaN</td>\n      <td>Japan</td>\n      <td>3:12.54</td>\n      <td>192540</td>\n    </tr>\n    <tr>\n      <th>9747</th>\n      <td>4 x 100m Freestyle Relay</td>\n      <td>Men</td>\n      <td>20180803</td>\n      <td>NaN</td>\n      <td>NaN</td>\n      <td>Italy</td>\n      <td>3:12.90</td>\n      <td>192900</td>\n    </tr>\n    <tr>\n      <th>...</th>\n      <td>...</td>\n      <td>...</td>\n      <td>...</td>\n      <td>...</td>\n      <td>...</td>\n      <td>...</td>\n      <td>...</td>\n      <td>...</td>\n    </tr>\n    <tr>\n      <th>10046</th>\n      <td>4 x 200m Freestyle Relay</td>\n      <td>Women</td>\n      <td>20180824</td>\n      <td>NaN</td>\n      <td>NaN</td>\n      <td>New Zealand</td>\n      <td>8:18.91</td>\n      <td>498910</td>\n    </tr>\n    <tr>\n      <th>10047</th>\n      <td>4 x 200m Freestyle Relay</td>\n      <td>Women</td>\n      <td>20180821</td>\n      <td>NaN</td>\n      <td>NaN</td>\n      <td>Indonesia</td>\n      <td>8:21.51</td>\n      <td>501510</td>\n    </tr>\n    <tr>\n      <th>10048</th>\n      <td>4 x 200m Freestyle Relay</td>\n      <td>Women</td>\n      <td>20180708</td>\n      <td>NaN</td>\n      <td>NaN</td>\n      <td>Portugal</td>\n      <td>8:24.56</td>\n      <td>504560</td>\n    </tr>\n    <tr>\n      <th>10049</th>\n      <td>4 x 200m Freestyle Relay</td>\n      <td>Women</td>\n      <td>20180708</td>\n      <td>NaN</td>\n      <td>NaN</td>\n      <td>Slovakia</td>\n      <td>8:27.47</td>\n      <td>507470</td>\n    </tr>\n    <tr>\n      <th>10050</th>\n      <td>4 x 200m Freestyle Relay</td>\n      <td>Women</td>\n      <td>20180708</td>\n      <td>NaN</td>\n      <td>NaN</td>\n      <td>Turkey</td>\n      <td>8:28.37</td>\n      <td>508370</td>\n    </tr>\n  </tbody>\n</table>\n<p>308 rows × 8 columns</p>\n</div>"
     },
     "metadata": {}
    }
   ]
  },
  {
   "cell_type": "markdown",
   "source": "#### 3b. Find all Unique values in the ```c_Event``` column from the ```rows_with_nan_values``` you created above.\n> Because you want to confirm all the NaN values are coming specificly from relay events maybe???",
   "metadata": {
    "tags": [],
    "cell_id": "00007-21b48232-b8de-41f9-a81e-7ec373050db0",
    "output_cleared": false,
    "deepnote_cell_type": "markdown",
    "deepnote_cell_height": 103.390625
   }
  },
  {
   "cell_type": "code",
   "source": "unique_rows = nan_rows['c_Event'].unique()\nunique_rows",
   "metadata": {
    "tags": [],
    "cell_id": "00007-8bc53f82-e25d-46ac-9760-6a53f7c68f8e",
    "output_cleared": false,
    "source_hash": "5e11228",
    "execution_millis": 5,
    "execution_start": 1670607809298,
    "deepnote_to_be_reexecuted": false,
    "deepnote_cell_type": "code",
    "deepnote_cell_height": 149.375,
    "deepnote_output_heights": [
     39.375
    ]
   },
   "execution_count": 5,
   "outputs": [
    {
     "output_type": "execute_result",
     "execution_count": 5,
     "data": {
      "text/plain": "array(['4 x 100m Freestyle Relay', '4 x 100m Medley Relay',\n       '4 x 200m Freestyle Relay'], dtype=object)"
     },
     "metadata": {}
    }
   ]
  },
  {
   "cell_type": "markdown",
   "source": "#### 4. Drop all rows in `psb_df` with a NaN values. \n> There are several solutions here...you could actually try provide a value for the missing data...however, in this instance, you decide it's ok to just drop all the rows with NaN values.",
   "metadata": {
    "tags": [],
    "cell_id": "00009-692c5343-ef3b-41c3-b3c3-a46c63697173",
    "output_cleared": false,
    "deepnote_cell_type": "markdown",
    "deepnote_cell_height": 125.78125
   }
  },
  {
   "cell_type": "code",
   "source": "dropped_nan_values = psb_df.dropna()\ndropped_nan_values",
   "metadata": {
    "tags": [],
    "cell_id": "00010-869e7877-d36b-4b4c-b593-7cdb92245957",
    "output_cleared": false,
    "source_hash": "95c8014a",
    "execution_millis": 71,
    "execution_start": 1670607809308,
    "deepnote_to_be_reexecuted": false,
    "deepnote_table_state": {
     "pageSize": 10,
     "pageIndex": 0,
     "filters": [],
     "sortBy": []
    },
    "deepnote_table_loading": false,
    "deepnote_cell_type": "code",
    "deepnote_cell_height": 630
   },
   "execution_count": 6,
   "outputs": [
    {
     "output_type": "execute_result",
     "execution_count": 6,
     "data": {
      "application/vnd.deepnote.dataframe.v3+json": {
       "column_count": 8,
       "row_count": 16640,
       "columns": [
        {
         "name": "c_Event",
         "dtype": "object",
         "stats": {
          "unique_count": 17,
          "nan_count": 0,
          "categories": [
           {
            "name": "800m Freestyle",
            "count": 989
           },
           {
            "name": "200m Individual Medley",
            "count": 988
           },
           {
            "name": "15 others",
            "count": 14663
           }
          ]
         }
        },
        {
         "name": "c_Gender",
         "dtype": "object",
         "stats": {
          "unique_count": 2,
          "nan_count": 0,
          "categories": [
           {
            "name": "Men",
            "count": 8341
           },
           {
            "name": "Women",
            "count": 8299
           }
          ]
         }
        },
        {
         "name": "n_DateSort",
         "dtype": "int64",
         "stats": {
          "unique_count": 232,
          "nan_count": 0,
          "min": "20180104",
          "max": "20181223",
          "histogram": [
           {
            "bin_start": 20180104,
            "bin_end": 20180215.9,
            "count": 521
           },
           {
            "bin_start": 20180215.9,
            "bin_end": 20180327.8,
            "count": 844
           },
           {
            "bin_start": 20180327.8,
            "bin_end": 20180439.7,
            "count": 4274
           },
           {
            "bin_start": 20180439.7,
            "bin_end": 20180551.6,
            "count": 1718
           },
           {
            "bin_start": 20180551.6,
            "bin_end": 20180663.5,
            "count": 1209
           },
           {
            "bin_start": 20180663.5,
            "bin_end": 20180775.4,
            "count": 4268
           },
           {
            "bin_start": 20180775.4,
            "bin_end": 20180887.3,
            "count": 2440
           },
           {
            "bin_start": 20180887.3,
            "bin_end": 20180999.2,
            "count": 674
           },
           {
            "bin_start": 20180999.2,
            "bin_end": 20181111.1,
            "count": 384
           },
           {
            "bin_start": 20181111.1,
            "bin_end": 20181223,
            "count": 308
           }
          ]
         }
        },
        {
         "name": "c_Person",
         "dtype": "object",
         "stats": {
          "unique_count": 6959,
          "nan_count": 0,
          "categories": [
           {
            "name": "Katinka Hosszú",
            "count": 16
           },
           {
            "name": "Zsuzsanna Jakabos",
            "count": 12
           },
           {
            "name": "6957 others",
            "count": 16612
           }
          ]
         }
        },
        {
         "name": "c_PersonNatio",
         "dtype": "object",
         "stats": {
          "unique_count": 126,
          "nan_count": 0,
          "categories": [
           {
            "name": "United States",
            "count": 3184
           },
           {
            "name": "Japan",
            "count": 2064
           },
           {
            "name": "124 others",
            "count": 11392
           }
          ]
         }
        },
        {
         "name": "c_NOC",
         "dtype": "object",
         "stats": {
          "unique_count": 119,
          "nan_count": 0,
          "categories": [
           {
            "name": "United States",
            "count": 3188
           },
           {
            "name": "Japan",
            "count": 2064
           },
           {
            "name": "117 others",
            "count": 11388
           }
          ]
         }
        },
        {
         "name": "c_Result",
         "dtype": "object"
        },
        {
         "name": "n_ResultSort",
         "dtype": "int64"
        },
        {
         "name": "_deepnote_index_column",
         "dtype": "int64"
        }
       ],
       "rows": [
        {
         "c_Event": "100m Backstroke",
         "c_Gender": "Men",
         "n_DateSort": "20180809",
         "c_Person": "Ryan Murphy",
         "c_PersonNatio": "United States",
         "c_NOC": "United States",
         "c_Result": "51.94",
         "n_ResultSort": "51940",
         "_deepnote_index_column": "0"
        },
        {
         "c_Event": "100m Backstroke",
         "c_Gender": "Men",
         "n_DateSort": "20180822",
         "c_Person": "Xu Jiayu",
         "c_PersonNatio": "China",
         "c_NOC": "China",
         "c_Result": "52.30",
         "n_ResultSort": "52300",
         "_deepnote_index_column": "1"
        },
        {
         "c_Event": "100m Backstroke",
         "c_Gender": "Men",
         "n_DateSort": "20180806",
         "c_Person": "Kliment Kolesnikov",
         "c_PersonNatio": "Russia",
         "c_NOC": "Russia",
         "c_Result": "52.51",
         "n_ResultSort": "52510",
         "_deepnote_index_column": "2"
        },
        {
         "c_Event": "100m Backstroke",
         "c_Gender": "Men",
         "n_DateSort": "20180819",
         "c_Person": "Ryosuke Irie",
         "c_PersonNatio": "Japan",
         "c_NOC": "Japan",
         "c_Result": "52.53",
         "n_ResultSort": "52530",
         "_deepnote_index_column": "3"
        },
        {
         "c_Event": "100m Backstroke",
         "c_Gender": "Men",
         "n_DateSort": "20180728",
         "c_Person": "Matt Grevers",
         "c_PersonNatio": "United States",
         "c_NOC": "United States",
         "c_Result": "52.55",
         "n_ResultSort": "52550",
         "_deepnote_index_column": "4"
        },
        {
         "c_Event": "100m Backstroke",
         "c_Gender": "Men",
         "n_DateSort": "20180809",
         "c_Person": "Evgeniy Rylov",
         "c_PersonNatio": "Russia",
         "c_NOC": "Russia",
         "c_Result": "52.66",
         "n_ResultSort": "52660",
         "_deepnote_index_column": "5"
        },
        {
         "c_Event": "100m Backstroke",
         "c_Gender": "Men",
         "n_DateSort": "20180810",
         "c_Person": "Mitch Larkin",
         "c_PersonNatio": "Australia",
         "c_NOC": "Australia",
         "c_Result": "52.88",
         "n_ResultSort": "52880",
         "_deepnote_index_column": "6"
        },
        {
         "c_Event": "100m Backstroke",
         "c_Gender": "Men",
         "n_DateSort": "20180806",
         "c_Person": "Grigoriy Tarasevich",
         "c_PersonNatio": "Russia",
         "c_NOC": "Russia",
         "c_Result": "53.22",
         "n_ResultSort": "53220",
         "_deepnote_index_column": "7"
        },
        {
         "c_Event": "100m Backstroke",
         "c_Gender": "Men",
         "n_DateSort": "20180728",
         "c_Person": "Justin Ress",
         "c_PersonNatio": "United States",
         "c_NOC": "United States",
         "c_Result": "53.26",
         "n_ResultSort": "53260",
         "_deepnote_index_column": "8"
        },
        {
         "c_Event": "100m Backstroke",
         "c_Gender": "Men",
         "n_DateSort": "20180527",
         "c_Person": "Robert Glinta",
         "c_PersonNatio": "Romania",
         "c_NOC": "Romania",
         "c_Result": "53.32",
         "n_ResultSort": "53320",
         "_deepnote_index_column": "9"
        }
       ]
      },
      "text/plain": "               c_Event c_Gender  n_DateSort            c_Person  \\\n0      100m Backstroke      Men    20180809         Ryan Murphy   \n1      100m Backstroke      Men    20180822            Xu Jiayu   \n2      100m Backstroke      Men    20180806  Kliment Kolesnikov   \n3      100m Backstroke      Men    20180819        Ryosuke Irie   \n4      100m Backstroke      Men    20180728        Matt Grevers   \n...                ...      ...         ...                 ...   \n16943   800m Freestyle    Women    20180726       Klara Bosnjak   \n16944   800m Freestyle    Women    20180519     Chantel Jeffrey   \n16945   800m Freestyle    Women    20180421          Bindi Ware   \n16946   800m Freestyle    Women    20180302    Ebony Blackstone   \n16947   800m Freestyle    Women    20180609      Mia Steen Duus   \n\n       c_PersonNatio          c_NOC c_Result  n_ResultSort  \n0      United States  United States    51.94         51940  \n1              China          China    52.30         52300  \n2             Russia         Russia    52.51         52510  \n3              Japan          Japan    52.53         52530  \n4      United States  United States    52.55         52550  \n...              ...            ...      ...           ...  \n16943        Croatia        Croatia  9:02.44        542440  \n16944         Canada         Canada  9:02.47        542470  \n16945      Australia      Australia  9:02.48        542480  \n16946      Australia      Australia  9:02.54        542540  \n16947        Denmark        Denmark  9:02.55        542550  \n\n[16640 rows x 8 columns]",
      "text/html": "<div>\n<style scoped>\n    .dataframe tbody tr th:only-of-type {\n        vertical-align: middle;\n    }\n\n    .dataframe tbody tr th {\n        vertical-align: top;\n    }\n\n    .dataframe thead th {\n        text-align: right;\n    }\n</style>\n<table border=\"1\" class=\"dataframe\">\n  <thead>\n    <tr style=\"text-align: right;\">\n      <th></th>\n      <th>c_Event</th>\n      <th>c_Gender</th>\n      <th>n_DateSort</th>\n      <th>c_Person</th>\n      <th>c_PersonNatio</th>\n      <th>c_NOC</th>\n      <th>c_Result</th>\n      <th>n_ResultSort</th>\n    </tr>\n  </thead>\n  <tbody>\n    <tr>\n      <th>0</th>\n      <td>100m Backstroke</td>\n      <td>Men</td>\n      <td>20180809</td>\n      <td>Ryan Murphy</td>\n      <td>United States</td>\n      <td>United States</td>\n      <td>51.94</td>\n      <td>51940</td>\n    </tr>\n    <tr>\n      <th>1</th>\n      <td>100m Backstroke</td>\n      <td>Men</td>\n      <td>20180822</td>\n      <td>Xu Jiayu</td>\n      <td>China</td>\n      <td>China</td>\n      <td>52.30</td>\n      <td>52300</td>\n    </tr>\n    <tr>\n      <th>2</th>\n      <td>100m Backstroke</td>\n      <td>Men</td>\n      <td>20180806</td>\n      <td>Kliment Kolesnikov</td>\n      <td>Russia</td>\n      <td>Russia</td>\n      <td>52.51</td>\n      <td>52510</td>\n    </tr>\n    <tr>\n      <th>3</th>\n      <td>100m Backstroke</td>\n      <td>Men</td>\n      <td>20180819</td>\n      <td>Ryosuke Irie</td>\n      <td>Japan</td>\n      <td>Japan</td>\n      <td>52.53</td>\n      <td>52530</td>\n    </tr>\n    <tr>\n      <th>4</th>\n      <td>100m Backstroke</td>\n      <td>Men</td>\n      <td>20180728</td>\n      <td>Matt Grevers</td>\n      <td>United States</td>\n      <td>United States</td>\n      <td>52.55</td>\n      <td>52550</td>\n    </tr>\n    <tr>\n      <th>...</th>\n      <td>...</td>\n      <td>...</td>\n      <td>...</td>\n      <td>...</td>\n      <td>...</td>\n      <td>...</td>\n      <td>...</td>\n      <td>...</td>\n    </tr>\n    <tr>\n      <th>16943</th>\n      <td>800m Freestyle</td>\n      <td>Women</td>\n      <td>20180726</td>\n      <td>Klara Bosnjak</td>\n      <td>Croatia</td>\n      <td>Croatia</td>\n      <td>9:02.44</td>\n      <td>542440</td>\n    </tr>\n    <tr>\n      <th>16944</th>\n      <td>800m Freestyle</td>\n      <td>Women</td>\n      <td>20180519</td>\n      <td>Chantel Jeffrey</td>\n      <td>Canada</td>\n      <td>Canada</td>\n      <td>9:02.47</td>\n      <td>542470</td>\n    </tr>\n    <tr>\n      <th>16945</th>\n      <td>800m Freestyle</td>\n      <td>Women</td>\n      <td>20180421</td>\n      <td>Bindi Ware</td>\n      <td>Australia</td>\n      <td>Australia</td>\n      <td>9:02.48</td>\n      <td>542480</td>\n    </tr>\n    <tr>\n      <th>16946</th>\n      <td>800m Freestyle</td>\n      <td>Women</td>\n      <td>20180302</td>\n      <td>Ebony Blackstone</td>\n      <td>Australia</td>\n      <td>Australia</td>\n      <td>9:02.54</td>\n      <td>542540</td>\n    </tr>\n    <tr>\n      <th>16947</th>\n      <td>800m Freestyle</td>\n      <td>Women</td>\n      <td>20180609</td>\n      <td>Mia Steen Duus</td>\n      <td>Denmark</td>\n      <td>Denmark</td>\n      <td>9:02.55</td>\n      <td>542550</td>\n    </tr>\n  </tbody>\n</table>\n<p>16640 rows × 8 columns</p>\n</div>"
     },
     "metadata": {}
    }
   ]
  },
  {
   "cell_type": "markdown",
   "source": "#### 5. Reset the Index\n> Because you've removed some rows, you decide to reset your Dataframe's index (not nessesity in this case, but good practice to do so)",
   "metadata": {
    "tags": [],
    "cell_id": "00011-dcbcf6eb-16df-4e44-b6ff-30d42251e591",
    "output_cleared": false,
    "deepnote_cell_type": "markdown",
    "deepnote_cell_height": 102.390625
   }
  },
  {
   "cell_type": "code",
   "source": "## Resest index column as taking rows out would mean the index is out by (however many rows removed)\n    ##inplace=True makes change permanent (overwriting the dropped_nan_values variable - stops you having to create new copies of the dataframe as you're going through)\n    ##drop=True drops previous index (which is the on which would be out by x numbers)\n## Now we've delted rows, if we wanted to loop through and index by row, we hit a point when we get an index error as it would try and find a row that doesn't ecist - this creates a sequencial list from data we want to keep)\ndropped_nan_values.reset_index(inplace=True, drop=True)\ndropped_nan_values",
   "metadata": {
    "tags": [],
    "cell_id": "00011-61200386-6165-42e9-bcb9-436f9e0d9193",
    "output_cleared": false,
    "source_hash": "5dfb14d",
    "execution_millis": 79,
    "execution_start": 1670607809381,
    "deepnote_to_be_reexecuted": false,
    "deepnote_table_state": {
     "pageSize": 10,
     "pageIndex": 0,
     "filters": [],
     "sortBy": []
    },
    "deepnote_table_loading": false,
    "deepnote_cell_type": "code",
    "deepnote_cell_height": 707
   },
   "execution_count": 7,
   "outputs": [
    {
     "output_type": "execute_result",
     "execution_count": 7,
     "data": {
      "application/vnd.deepnote.dataframe.v3+json": {
       "column_count": 8,
       "row_count": 16640,
       "columns": [
        {
         "name": "c_Event",
         "dtype": "object",
         "stats": {
          "unique_count": 17,
          "nan_count": 0,
          "categories": [
           {
            "name": "800m Freestyle",
            "count": 989
           },
           {
            "name": "200m Individual Medley",
            "count": 988
           },
           {
            "name": "15 others",
            "count": 14663
           }
          ]
         }
        },
        {
         "name": "c_Gender",
         "dtype": "object",
         "stats": {
          "unique_count": 2,
          "nan_count": 0,
          "categories": [
           {
            "name": "Men",
            "count": 8341
           },
           {
            "name": "Women",
            "count": 8299
           }
          ]
         }
        },
        {
         "name": "n_DateSort",
         "dtype": "int64",
         "stats": {
          "unique_count": 232,
          "nan_count": 0,
          "min": "20180104",
          "max": "20181223",
          "histogram": [
           {
            "bin_start": 20180104,
            "bin_end": 20180215.9,
            "count": 521
           },
           {
            "bin_start": 20180215.9,
            "bin_end": 20180327.8,
            "count": 844
           },
           {
            "bin_start": 20180327.8,
            "bin_end": 20180439.7,
            "count": 4274
           },
           {
            "bin_start": 20180439.7,
            "bin_end": 20180551.6,
            "count": 1718
           },
           {
            "bin_start": 20180551.6,
            "bin_end": 20180663.5,
            "count": 1209
           },
           {
            "bin_start": 20180663.5,
            "bin_end": 20180775.4,
            "count": 4268
           },
           {
            "bin_start": 20180775.4,
            "bin_end": 20180887.3,
            "count": 2440
           },
           {
            "bin_start": 20180887.3,
            "bin_end": 20180999.2,
            "count": 674
           },
           {
            "bin_start": 20180999.2,
            "bin_end": 20181111.1,
            "count": 384
           },
           {
            "bin_start": 20181111.1,
            "bin_end": 20181223,
            "count": 308
           }
          ]
         }
        },
        {
         "name": "c_Person",
         "dtype": "object",
         "stats": {
          "unique_count": 6959,
          "nan_count": 0,
          "categories": [
           {
            "name": "Katinka Hosszú",
            "count": 16
           },
           {
            "name": "Zsuzsanna Jakabos",
            "count": 12
           },
           {
            "name": "6957 others",
            "count": 16612
           }
          ]
         }
        },
        {
         "name": "c_PersonNatio",
         "dtype": "object",
         "stats": {
          "unique_count": 126,
          "nan_count": 0,
          "categories": [
           {
            "name": "United States",
            "count": 3184
           },
           {
            "name": "Japan",
            "count": 2064
           },
           {
            "name": "124 others",
            "count": 11392
           }
          ]
         }
        },
        {
         "name": "c_NOC",
         "dtype": "object",
         "stats": {
          "unique_count": 119,
          "nan_count": 0,
          "categories": [
           {
            "name": "United States",
            "count": 3188
           },
           {
            "name": "Japan",
            "count": 2064
           },
           {
            "name": "117 others",
            "count": 11388
           }
          ]
         }
        },
        {
         "name": "c_Result",
         "dtype": "object"
        },
        {
         "name": "n_ResultSort",
         "dtype": "int64"
        },
        {
         "name": "_deepnote_index_column",
         "dtype": "int64"
        }
       ],
       "rows": [
        {
         "c_Event": "100m Backstroke",
         "c_Gender": "Men",
         "n_DateSort": "20180809",
         "c_Person": "Ryan Murphy",
         "c_PersonNatio": "United States",
         "c_NOC": "United States",
         "c_Result": "51.94",
         "n_ResultSort": "51940",
         "_deepnote_index_column": "0"
        },
        {
         "c_Event": "100m Backstroke",
         "c_Gender": "Men",
         "n_DateSort": "20180822",
         "c_Person": "Xu Jiayu",
         "c_PersonNatio": "China",
         "c_NOC": "China",
         "c_Result": "52.30",
         "n_ResultSort": "52300",
         "_deepnote_index_column": "1"
        },
        {
         "c_Event": "100m Backstroke",
         "c_Gender": "Men",
         "n_DateSort": "20180806",
         "c_Person": "Kliment Kolesnikov",
         "c_PersonNatio": "Russia",
         "c_NOC": "Russia",
         "c_Result": "52.51",
         "n_ResultSort": "52510",
         "_deepnote_index_column": "2"
        },
        {
         "c_Event": "100m Backstroke",
         "c_Gender": "Men",
         "n_DateSort": "20180819",
         "c_Person": "Ryosuke Irie",
         "c_PersonNatio": "Japan",
         "c_NOC": "Japan",
         "c_Result": "52.53",
         "n_ResultSort": "52530",
         "_deepnote_index_column": "3"
        },
        {
         "c_Event": "100m Backstroke",
         "c_Gender": "Men",
         "n_DateSort": "20180728",
         "c_Person": "Matt Grevers",
         "c_PersonNatio": "United States",
         "c_NOC": "United States",
         "c_Result": "52.55",
         "n_ResultSort": "52550",
         "_deepnote_index_column": "4"
        },
        {
         "c_Event": "100m Backstroke",
         "c_Gender": "Men",
         "n_DateSort": "20180809",
         "c_Person": "Evgeniy Rylov",
         "c_PersonNatio": "Russia",
         "c_NOC": "Russia",
         "c_Result": "52.66",
         "n_ResultSort": "52660",
         "_deepnote_index_column": "5"
        },
        {
         "c_Event": "100m Backstroke",
         "c_Gender": "Men",
         "n_DateSort": "20180810",
         "c_Person": "Mitch Larkin",
         "c_PersonNatio": "Australia",
         "c_NOC": "Australia",
         "c_Result": "52.88",
         "n_ResultSort": "52880",
         "_deepnote_index_column": "6"
        },
        {
         "c_Event": "100m Backstroke",
         "c_Gender": "Men",
         "n_DateSort": "20180806",
         "c_Person": "Grigoriy Tarasevich",
         "c_PersonNatio": "Russia",
         "c_NOC": "Russia",
         "c_Result": "53.22",
         "n_ResultSort": "53220",
         "_deepnote_index_column": "7"
        },
        {
         "c_Event": "100m Backstroke",
         "c_Gender": "Men",
         "n_DateSort": "20180728",
         "c_Person": "Justin Ress",
         "c_PersonNatio": "United States",
         "c_NOC": "United States",
         "c_Result": "53.26",
         "n_ResultSort": "53260",
         "_deepnote_index_column": "8"
        },
        {
         "c_Event": "100m Backstroke",
         "c_Gender": "Men",
         "n_DateSort": "20180527",
         "c_Person": "Robert Glinta",
         "c_PersonNatio": "Romania",
         "c_NOC": "Romania",
         "c_Result": "53.32",
         "n_ResultSort": "53320",
         "_deepnote_index_column": "9"
        }
       ]
      },
      "text/plain": "               c_Event c_Gender  n_DateSort            c_Person  \\\n0      100m Backstroke      Men    20180809         Ryan Murphy   \n1      100m Backstroke      Men    20180822            Xu Jiayu   \n2      100m Backstroke      Men    20180806  Kliment Kolesnikov   \n3      100m Backstroke      Men    20180819        Ryosuke Irie   \n4      100m Backstroke      Men    20180728        Matt Grevers   \n...                ...      ...         ...                 ...   \n16635   800m Freestyle    Women    20180726       Klara Bosnjak   \n16636   800m Freestyle    Women    20180519     Chantel Jeffrey   \n16637   800m Freestyle    Women    20180421          Bindi Ware   \n16638   800m Freestyle    Women    20180302    Ebony Blackstone   \n16639   800m Freestyle    Women    20180609      Mia Steen Duus   \n\n       c_PersonNatio          c_NOC c_Result  n_ResultSort  \n0      United States  United States    51.94         51940  \n1              China          China    52.30         52300  \n2             Russia         Russia    52.51         52510  \n3              Japan          Japan    52.53         52530  \n4      United States  United States    52.55         52550  \n...              ...            ...      ...           ...  \n16635        Croatia        Croatia  9:02.44        542440  \n16636         Canada         Canada  9:02.47        542470  \n16637      Australia      Australia  9:02.48        542480  \n16638      Australia      Australia  9:02.54        542540  \n16639        Denmark        Denmark  9:02.55        542550  \n\n[16640 rows x 8 columns]",
      "text/html": "<div>\n<style scoped>\n    .dataframe tbody tr th:only-of-type {\n        vertical-align: middle;\n    }\n\n    .dataframe tbody tr th {\n        vertical-align: top;\n    }\n\n    .dataframe thead th {\n        text-align: right;\n    }\n</style>\n<table border=\"1\" class=\"dataframe\">\n  <thead>\n    <tr style=\"text-align: right;\">\n      <th></th>\n      <th>c_Event</th>\n      <th>c_Gender</th>\n      <th>n_DateSort</th>\n      <th>c_Person</th>\n      <th>c_PersonNatio</th>\n      <th>c_NOC</th>\n      <th>c_Result</th>\n      <th>n_ResultSort</th>\n    </tr>\n  </thead>\n  <tbody>\n    <tr>\n      <th>0</th>\n      <td>100m Backstroke</td>\n      <td>Men</td>\n      <td>20180809</td>\n      <td>Ryan Murphy</td>\n      <td>United States</td>\n      <td>United States</td>\n      <td>51.94</td>\n      <td>51940</td>\n    </tr>\n    <tr>\n      <th>1</th>\n      <td>100m Backstroke</td>\n      <td>Men</td>\n      <td>20180822</td>\n      <td>Xu Jiayu</td>\n      <td>China</td>\n      <td>China</td>\n      <td>52.30</td>\n      <td>52300</td>\n    </tr>\n    <tr>\n      <th>2</th>\n      <td>100m Backstroke</td>\n      <td>Men</td>\n      <td>20180806</td>\n      <td>Kliment Kolesnikov</td>\n      <td>Russia</td>\n      <td>Russia</td>\n      <td>52.51</td>\n      <td>52510</td>\n    </tr>\n    <tr>\n      <th>3</th>\n      <td>100m Backstroke</td>\n      <td>Men</td>\n      <td>20180819</td>\n      <td>Ryosuke Irie</td>\n      <td>Japan</td>\n      <td>Japan</td>\n      <td>52.53</td>\n      <td>52530</td>\n    </tr>\n    <tr>\n      <th>4</th>\n      <td>100m Backstroke</td>\n      <td>Men</td>\n      <td>20180728</td>\n      <td>Matt Grevers</td>\n      <td>United States</td>\n      <td>United States</td>\n      <td>52.55</td>\n      <td>52550</td>\n    </tr>\n    <tr>\n      <th>...</th>\n      <td>...</td>\n      <td>...</td>\n      <td>...</td>\n      <td>...</td>\n      <td>...</td>\n      <td>...</td>\n      <td>...</td>\n      <td>...</td>\n    </tr>\n    <tr>\n      <th>16635</th>\n      <td>800m Freestyle</td>\n      <td>Women</td>\n      <td>20180726</td>\n      <td>Klara Bosnjak</td>\n      <td>Croatia</td>\n      <td>Croatia</td>\n      <td>9:02.44</td>\n      <td>542440</td>\n    </tr>\n    <tr>\n      <th>16636</th>\n      <td>800m Freestyle</td>\n      <td>Women</td>\n      <td>20180519</td>\n      <td>Chantel Jeffrey</td>\n      <td>Canada</td>\n      <td>Canada</td>\n      <td>9:02.47</td>\n      <td>542470</td>\n    </tr>\n    <tr>\n      <th>16637</th>\n      <td>800m Freestyle</td>\n      <td>Women</td>\n      <td>20180421</td>\n      <td>Bindi Ware</td>\n      <td>Australia</td>\n      <td>Australia</td>\n      <td>9:02.48</td>\n      <td>542480</td>\n    </tr>\n    <tr>\n      <th>16638</th>\n      <td>800m Freestyle</td>\n      <td>Women</td>\n      <td>20180302</td>\n      <td>Ebony Blackstone</td>\n      <td>Australia</td>\n      <td>Australia</td>\n      <td>9:02.54</td>\n      <td>542540</td>\n    </tr>\n    <tr>\n      <th>16639</th>\n      <td>800m Freestyle</td>\n      <td>Women</td>\n      <td>20180609</td>\n      <td>Mia Steen Duus</td>\n      <td>Denmark</td>\n      <td>Denmark</td>\n      <td>9:02.55</td>\n      <td>542550</td>\n    </tr>\n  </tbody>\n</table>\n<p>16640 rows × 8 columns</p>\n</div>"
     },
     "metadata": {}
    }
   ]
  },
  {
   "cell_type": "markdown",
   "source": "#### 6. Rename all the column headers in the dataframe, so each header makes sense to you...\n> e.g. rename ```c_Person``` to ```athlete```...",
   "metadata": {
    "tags": [],
    "cell_id": "00011-db8ece80-e027-4107-8b16-bf716f971789",
    "output_cleared": false,
    "deepnote_cell_type": "markdown",
    "deepnote_cell_height": 102.390625
   }
  },
  {
   "cell_type": "code",
   "source": "## call the dataframe, use the .rename method and create a dictionary, calling the columns and replacing the current name with new name for each column)\ndropped_nan_values.rename(columns={\"c_Event\":\"Event\", \"c_Gender\":\"Gender\", \"n_DateSort\":\"Date\", \"c_Person\":\"Athlete\", \"c_PersonNatio\":\"Nation\", \"c_NOC\":\"NOC\", \"c_Result\":\"Time(s)\", \"n_ResultSort\":\"Time(ms)\"},inplace=True)\ndropped_nan_values",
   "metadata": {
    "tags": [],
    "cell_id": "00012-bd065eb9-4ab7-4f6c-965b-f1d901ab794b",
    "output_cleared": false,
    "source_hash": "1414a36c",
    "execution_millis": 34,
    "execution_start": 1670607809506,
    "deepnote_to_be_reexecuted": false,
    "deepnote_table_state": {
     "pageSize": 10,
     "pageIndex": 0,
     "filters": [],
     "sortBy": []
    },
    "deepnote_table_loading": false,
    "deepnote_cell_type": "code",
    "deepnote_cell_height": 779.9375
   },
   "execution_count": 8,
   "outputs": [
    {
     "name": "stderr",
     "text": "/shared-libs/python3.9/py/lib/python3.9/site-packages/pandas/core/frame.py:4441: SettingWithCopyWarning: \nA value is trying to be set on a copy of a slice from a DataFrame\n\nSee the caveats in the documentation: https://pandas.pydata.org/pandas-docs/stable/user_guide/indexing.html#returning-a-view-versus-a-copy\n  return super().rename(\n",
     "output_type": "stream"
    },
    {
     "output_type": "execute_result",
     "execution_count": 8,
     "data": {
      "application/vnd.deepnote.dataframe.v3+json": {
       "column_count": 8,
       "row_count": 16640,
       "columns": [
        {
         "name": "Event",
         "dtype": "object",
         "stats": {
          "unique_count": 17,
          "nan_count": 0,
          "categories": [
           {
            "name": "800m Freestyle",
            "count": 989
           },
           {
            "name": "200m Individual Medley",
            "count": 988
           },
           {
            "name": "15 others",
            "count": 14663
           }
          ]
         }
        },
        {
         "name": "Gender",
         "dtype": "object",
         "stats": {
          "unique_count": 2,
          "nan_count": 0,
          "categories": [
           {
            "name": "Men",
            "count": 8341
           },
           {
            "name": "Women",
            "count": 8299
           }
          ]
         }
        },
        {
         "name": "Date",
         "dtype": "int64",
         "stats": {
          "unique_count": 232,
          "nan_count": 0,
          "min": "20180104",
          "max": "20181223",
          "histogram": [
           {
            "bin_start": 20180104,
            "bin_end": 20180215.9,
            "count": 521
           },
           {
            "bin_start": 20180215.9,
            "bin_end": 20180327.8,
            "count": 844
           },
           {
            "bin_start": 20180327.8,
            "bin_end": 20180439.7,
            "count": 4274
           },
           {
            "bin_start": 20180439.7,
            "bin_end": 20180551.6,
            "count": 1718
           },
           {
            "bin_start": 20180551.6,
            "bin_end": 20180663.5,
            "count": 1209
           },
           {
            "bin_start": 20180663.5,
            "bin_end": 20180775.4,
            "count": 4268
           },
           {
            "bin_start": 20180775.4,
            "bin_end": 20180887.3,
            "count": 2440
           },
           {
            "bin_start": 20180887.3,
            "bin_end": 20180999.2,
            "count": 674
           },
           {
            "bin_start": 20180999.2,
            "bin_end": 20181111.1,
            "count": 384
           },
           {
            "bin_start": 20181111.1,
            "bin_end": 20181223,
            "count": 308
           }
          ]
         }
        },
        {
         "name": "Athlete",
         "dtype": "object",
         "stats": {
          "unique_count": 6959,
          "nan_count": 0,
          "categories": [
           {
            "name": "Katinka Hosszú",
            "count": 16
           },
           {
            "name": "Zsuzsanna Jakabos",
            "count": 12
           },
           {
            "name": "6957 others",
            "count": 16612
           }
          ]
         }
        },
        {
         "name": "Nation",
         "dtype": "object",
         "stats": {
          "unique_count": 126,
          "nan_count": 0,
          "categories": [
           {
            "name": "United States",
            "count": 3184
           },
           {
            "name": "Japan",
            "count": 2064
           },
           {
            "name": "124 others",
            "count": 11392
           }
          ]
         }
        },
        {
         "name": "NOC",
         "dtype": "object",
         "stats": {
          "unique_count": 119,
          "nan_count": 0,
          "categories": [
           {
            "name": "United States",
            "count": 3188
           },
           {
            "name": "Japan",
            "count": 2064
           },
           {
            "name": "117 others",
            "count": 11388
           }
          ]
         }
        },
        {
         "name": "Time(s)",
         "dtype": "object"
        },
        {
         "name": "Time(ms)",
         "dtype": "int64"
        },
        {
         "name": "_deepnote_index_column",
         "dtype": "int64"
        }
       ],
       "rows": [
        {
         "Event": "100m Backstroke",
         "Gender": "Men",
         "Date": "20180809",
         "Athlete": "Ryan Murphy",
         "Nation": "United States",
         "NOC": "United States",
         "Time(s)": "51.94",
         "Time(ms)": "51940",
         "_deepnote_index_column": "0"
        },
        {
         "Event": "100m Backstroke",
         "Gender": "Men",
         "Date": "20180822",
         "Athlete": "Xu Jiayu",
         "Nation": "China",
         "NOC": "China",
         "Time(s)": "52.30",
         "Time(ms)": "52300",
         "_deepnote_index_column": "1"
        },
        {
         "Event": "100m Backstroke",
         "Gender": "Men",
         "Date": "20180806",
         "Athlete": "Kliment Kolesnikov",
         "Nation": "Russia",
         "NOC": "Russia",
         "Time(s)": "52.51",
         "Time(ms)": "52510",
         "_deepnote_index_column": "2"
        },
        {
         "Event": "100m Backstroke",
         "Gender": "Men",
         "Date": "20180819",
         "Athlete": "Ryosuke Irie",
         "Nation": "Japan",
         "NOC": "Japan",
         "Time(s)": "52.53",
         "Time(ms)": "52530",
         "_deepnote_index_column": "3"
        },
        {
         "Event": "100m Backstroke",
         "Gender": "Men",
         "Date": "20180728",
         "Athlete": "Matt Grevers",
         "Nation": "United States",
         "NOC": "United States",
         "Time(s)": "52.55",
         "Time(ms)": "52550",
         "_deepnote_index_column": "4"
        },
        {
         "Event": "100m Backstroke",
         "Gender": "Men",
         "Date": "20180809",
         "Athlete": "Evgeniy Rylov",
         "Nation": "Russia",
         "NOC": "Russia",
         "Time(s)": "52.66",
         "Time(ms)": "52660",
         "_deepnote_index_column": "5"
        },
        {
         "Event": "100m Backstroke",
         "Gender": "Men",
         "Date": "20180810",
         "Athlete": "Mitch Larkin",
         "Nation": "Australia",
         "NOC": "Australia",
         "Time(s)": "52.88",
         "Time(ms)": "52880",
         "_deepnote_index_column": "6"
        },
        {
         "Event": "100m Backstroke",
         "Gender": "Men",
         "Date": "20180806",
         "Athlete": "Grigoriy Tarasevich",
         "Nation": "Russia",
         "NOC": "Russia",
         "Time(s)": "53.22",
         "Time(ms)": "53220",
         "_deepnote_index_column": "7"
        },
        {
         "Event": "100m Backstroke",
         "Gender": "Men",
         "Date": "20180728",
         "Athlete": "Justin Ress",
         "Nation": "United States",
         "NOC": "United States",
         "Time(s)": "53.26",
         "Time(ms)": "53260",
         "_deepnote_index_column": "8"
        },
        {
         "Event": "100m Backstroke",
         "Gender": "Men",
         "Date": "20180527",
         "Athlete": "Robert Glinta",
         "Nation": "Romania",
         "NOC": "Romania",
         "Time(s)": "53.32",
         "Time(ms)": "53320",
         "_deepnote_index_column": "9"
        }
       ]
      },
      "text/plain": "                 Event Gender      Date             Athlete         Nation  \\\n0      100m Backstroke    Men  20180809         Ryan Murphy  United States   \n1      100m Backstroke    Men  20180822            Xu Jiayu          China   \n2      100m Backstroke    Men  20180806  Kliment Kolesnikov         Russia   \n3      100m Backstroke    Men  20180819        Ryosuke Irie          Japan   \n4      100m Backstroke    Men  20180728        Matt Grevers  United States   \n...                ...    ...       ...                 ...            ...   \n16635   800m Freestyle  Women  20180726       Klara Bosnjak        Croatia   \n16636   800m Freestyle  Women  20180519     Chantel Jeffrey         Canada   \n16637   800m Freestyle  Women  20180421          Bindi Ware      Australia   \n16638   800m Freestyle  Women  20180302    Ebony Blackstone      Australia   \n16639   800m Freestyle  Women  20180609      Mia Steen Duus        Denmark   \n\n                 NOC  Time(s)  Time(ms)  \n0      United States    51.94     51940  \n1              China    52.30     52300  \n2             Russia    52.51     52510  \n3              Japan    52.53     52530  \n4      United States    52.55     52550  \n...              ...      ...       ...  \n16635        Croatia  9:02.44    542440  \n16636         Canada  9:02.47    542470  \n16637      Australia  9:02.48    542480  \n16638      Australia  9:02.54    542540  \n16639        Denmark  9:02.55    542550  \n\n[16640 rows x 8 columns]",
      "text/html": "<div>\n<style scoped>\n    .dataframe tbody tr th:only-of-type {\n        vertical-align: middle;\n    }\n\n    .dataframe tbody tr th {\n        vertical-align: top;\n    }\n\n    .dataframe thead th {\n        text-align: right;\n    }\n</style>\n<table border=\"1\" class=\"dataframe\">\n  <thead>\n    <tr style=\"text-align: right;\">\n      <th></th>\n      <th>Event</th>\n      <th>Gender</th>\n      <th>Date</th>\n      <th>Athlete</th>\n      <th>Nation</th>\n      <th>NOC</th>\n      <th>Time(s)</th>\n      <th>Time(ms)</th>\n    </tr>\n  </thead>\n  <tbody>\n    <tr>\n      <th>0</th>\n      <td>100m Backstroke</td>\n      <td>Men</td>\n      <td>20180809</td>\n      <td>Ryan Murphy</td>\n      <td>United States</td>\n      <td>United States</td>\n      <td>51.94</td>\n      <td>51940</td>\n    </tr>\n    <tr>\n      <th>1</th>\n      <td>100m Backstroke</td>\n      <td>Men</td>\n      <td>20180822</td>\n      <td>Xu Jiayu</td>\n      <td>China</td>\n      <td>China</td>\n      <td>52.30</td>\n      <td>52300</td>\n    </tr>\n    <tr>\n      <th>2</th>\n      <td>100m Backstroke</td>\n      <td>Men</td>\n      <td>20180806</td>\n      <td>Kliment Kolesnikov</td>\n      <td>Russia</td>\n      <td>Russia</td>\n      <td>52.51</td>\n      <td>52510</td>\n    </tr>\n    <tr>\n      <th>3</th>\n      <td>100m Backstroke</td>\n      <td>Men</td>\n      <td>20180819</td>\n      <td>Ryosuke Irie</td>\n      <td>Japan</td>\n      <td>Japan</td>\n      <td>52.53</td>\n      <td>52530</td>\n    </tr>\n    <tr>\n      <th>4</th>\n      <td>100m Backstroke</td>\n      <td>Men</td>\n      <td>20180728</td>\n      <td>Matt Grevers</td>\n      <td>United States</td>\n      <td>United States</td>\n      <td>52.55</td>\n      <td>52550</td>\n    </tr>\n    <tr>\n      <th>...</th>\n      <td>...</td>\n      <td>...</td>\n      <td>...</td>\n      <td>...</td>\n      <td>...</td>\n      <td>...</td>\n      <td>...</td>\n      <td>...</td>\n    </tr>\n    <tr>\n      <th>16635</th>\n      <td>800m Freestyle</td>\n      <td>Women</td>\n      <td>20180726</td>\n      <td>Klara Bosnjak</td>\n      <td>Croatia</td>\n      <td>Croatia</td>\n      <td>9:02.44</td>\n      <td>542440</td>\n    </tr>\n    <tr>\n      <th>16636</th>\n      <td>800m Freestyle</td>\n      <td>Women</td>\n      <td>20180519</td>\n      <td>Chantel Jeffrey</td>\n      <td>Canada</td>\n      <td>Canada</td>\n      <td>9:02.47</td>\n      <td>542470</td>\n    </tr>\n    <tr>\n      <th>16637</th>\n      <td>800m Freestyle</td>\n      <td>Women</td>\n      <td>20180421</td>\n      <td>Bindi Ware</td>\n      <td>Australia</td>\n      <td>Australia</td>\n      <td>9:02.48</td>\n      <td>542480</td>\n    </tr>\n    <tr>\n      <th>16638</th>\n      <td>800m Freestyle</td>\n      <td>Women</td>\n      <td>20180302</td>\n      <td>Ebony Blackstone</td>\n      <td>Australia</td>\n      <td>Australia</td>\n      <td>9:02.54</td>\n      <td>542540</td>\n    </tr>\n    <tr>\n      <th>16639</th>\n      <td>800m Freestyle</td>\n      <td>Women</td>\n      <td>20180609</td>\n      <td>Mia Steen Duus</td>\n      <td>Denmark</td>\n      <td>Denmark</td>\n      <td>9:02.55</td>\n      <td>542550</td>\n    </tr>\n  </tbody>\n</table>\n<p>16640 rows × 8 columns</p>\n</div>"
     },
     "metadata": {}
    }
   ]
  },
  {
   "cell_type": "markdown",
   "source": "#### 7. Transform each value in the ```date_sort``` column into a DateTime Object using the [```.to_datetime```](https://pandas.pydata.org/pandas-docs/stable/reference/api/pandas.to_datetime.html) method.\n> Because it's better to handle dates as actual DateTime objects in Python...",
   "metadata": {
    "tags": [],
    "cell_id": "00015-a0967797-f969-4791-8792-8876039bc0ce",
    "output_cleared": false,
    "deepnote_cell_type": "markdown",
    "deepnote_cell_height": 103.390625
   }
  },
  {
   "cell_type": "code",
   "source": "dropped_nan_values[\"Date\"] = pd.to_datetime(dropped_nan_values[\"Date\"].astype(str), format='%Y%m%d')\ndropped_nan_values\n## add this to the end after the bracket to remove 00:00:00, but converts to object not datetime64: .dt.strftime('%Y-%m-%d')",
   "metadata": {
    "tags": [],
    "cell_id": "00015-271e3730-2f1a-4a84-a0ee-7e0df28b71c4",
    "output_cleared": false,
    "source_hash": "c4049c63",
    "execution_millis": 125,
    "execution_start": 1670607809555,
    "deepnote_to_be_reexecuted": false,
    "deepnote_cell_type": "code",
    "deepnote_cell_height": 795.125,
    "deepnote_output_heights": [
     606,
     606
    ]
   },
   "execution_count": 9,
   "outputs": [
    {
     "name": "stderr",
     "text": "/tmp/ipykernel_1018/11701234.py:1: SettingWithCopyWarning: \nA value is trying to be set on a copy of a slice from a DataFrame.\nTry using .loc[row_indexer,col_indexer] = value instead\n\nSee the caveats in the documentation: https://pandas.pydata.org/pandas-docs/stable/user_guide/indexing.html#returning-a-view-versus-a-copy\n  dropped_nan_values[\"Date\"] = pd.to_datetime(dropped_nan_values[\"Date\"].astype(str), format='%Y%m%d')\n",
     "output_type": "stream"
    },
    {
     "output_type": "execute_result",
     "execution_count": 9,
     "data": {
      "application/vnd.deepnote.dataframe.v3+json": {
       "column_count": 8,
       "row_count": 16640,
       "columns": [
        {
         "name": "Event",
         "dtype": "object",
         "stats": {
          "unique_count": 17,
          "nan_count": 0,
          "categories": [
           {
            "name": "800m Freestyle",
            "count": 989
           },
           {
            "name": "200m Individual Medley",
            "count": 988
           },
           {
            "name": "15 others",
            "count": 14663
           }
          ]
         }
        },
        {
         "name": "Gender",
         "dtype": "object",
         "stats": {
          "unique_count": 2,
          "nan_count": 0,
          "categories": [
           {
            "name": "Men",
            "count": 8341
           },
           {
            "name": "Women",
            "count": 8299
           }
          ]
         }
        },
        {
         "name": "Date",
         "dtype": "datetime64[ns]",
         "stats": {
          "unique_count": 232,
          "nan_count": 0,
          "min": "2018-01-04 00:00:00",
          "max": "2018-12-23 00:00:00",
          "histogram": [
           {
            "bin_start": 1515024000000000000,
            "bin_end": 1518073920000000000,
            "count": 497
           },
           {
            "bin_start": 1518073920000000000,
            "bin_end": 1521123840000000000,
            "count": 707
           },
           {
            "bin_start": 1521123840000000000,
            "bin_end": 1524173760000000000,
            "count": 3112
           },
           {
            "bin_start": 1524173760000000000,
            "bin_end": 1527223680000000000,
            "count": 2439
           },
           {
            "bin_start": 1527223680000000000,
            "bin_end": 1530273600000000000,
            "count": 1720
           },
           {
            "bin_start": 1530273600000000000,
            "bin_end": 1533323520000000000,
            "count": 4741
           },
           {
            "bin_start": 1533323520000000000,
            "bin_end": 1536373440000000000,
            "count": 2468
           },
           {
            "bin_start": 1536373440000000000,
            "bin_end": 1539423360000000000,
            "count": 583
           },
           {
            "bin_start": 1539423360000000000,
            "bin_end": 1542473280000000000,
            "count": 65
           },
           {
            "bin_start": 1542473280000000000,
            "bin_end": 1545523200000000000,
            "count": 308
           }
          ]
         }
        },
        {
         "name": "Athlete",
         "dtype": "object",
         "stats": {
          "unique_count": 6959,
          "nan_count": 0,
          "categories": [
           {
            "name": "Katinka Hosszú",
            "count": 16
           },
           {
            "name": "Zsuzsanna Jakabos",
            "count": 12
           },
           {
            "name": "6957 others",
            "count": 16612
           }
          ]
         }
        },
        {
         "name": "Nation",
         "dtype": "object",
         "stats": {
          "unique_count": 126,
          "nan_count": 0,
          "categories": [
           {
            "name": "United States",
            "count": 3184
           },
           {
            "name": "Japan",
            "count": 2064
           },
           {
            "name": "124 others",
            "count": 11392
           }
          ]
         }
        },
        {
         "name": "NOC",
         "dtype": "object",
         "stats": {
          "unique_count": 119,
          "nan_count": 0,
          "categories": [
           {
            "name": "United States",
            "count": 3188
           },
           {
            "name": "Japan",
            "count": 2064
           },
           {
            "name": "117 others",
            "count": 11388
           }
          ]
         }
        },
        {
         "name": "Time(s)",
         "dtype": "object"
        },
        {
         "name": "Time(ms)",
         "dtype": "int64"
        },
        {
         "name": "_deepnote_index_column",
         "dtype": "int64"
        }
       ],
       "rows": [
        {
         "Event": "100m Backstroke",
         "Gender": "Men",
         "Date": "2018-08-09 00:00:00",
         "Athlete": "Ryan Murphy",
         "Nation": "United States",
         "NOC": "United States",
         "Time(s)": "51.94",
         "Time(ms)": "51940",
         "_deepnote_index_column": "0"
        },
        {
         "Event": "100m Backstroke",
         "Gender": "Men",
         "Date": "2018-08-22 00:00:00",
         "Athlete": "Xu Jiayu",
         "Nation": "China",
         "NOC": "China",
         "Time(s)": "52.30",
         "Time(ms)": "52300",
         "_deepnote_index_column": "1"
        },
        {
         "Event": "100m Backstroke",
         "Gender": "Men",
         "Date": "2018-08-06 00:00:00",
         "Athlete": "Kliment Kolesnikov",
         "Nation": "Russia",
         "NOC": "Russia",
         "Time(s)": "52.51",
         "Time(ms)": "52510",
         "_deepnote_index_column": "2"
        },
        {
         "Event": "100m Backstroke",
         "Gender": "Men",
         "Date": "2018-08-19 00:00:00",
         "Athlete": "Ryosuke Irie",
         "Nation": "Japan",
         "NOC": "Japan",
         "Time(s)": "52.53",
         "Time(ms)": "52530",
         "_deepnote_index_column": "3"
        },
        {
         "Event": "100m Backstroke",
         "Gender": "Men",
         "Date": "2018-07-28 00:00:00",
         "Athlete": "Matt Grevers",
         "Nation": "United States",
         "NOC": "United States",
         "Time(s)": "52.55",
         "Time(ms)": "52550",
         "_deepnote_index_column": "4"
        },
        {
         "Event": "100m Backstroke",
         "Gender": "Men",
         "Date": "2018-08-09 00:00:00",
         "Athlete": "Evgeniy Rylov",
         "Nation": "Russia",
         "NOC": "Russia",
         "Time(s)": "52.66",
         "Time(ms)": "52660",
         "_deepnote_index_column": "5"
        },
        {
         "Event": "100m Backstroke",
         "Gender": "Men",
         "Date": "2018-08-10 00:00:00",
         "Athlete": "Mitch Larkin",
         "Nation": "Australia",
         "NOC": "Australia",
         "Time(s)": "52.88",
         "Time(ms)": "52880",
         "_deepnote_index_column": "6"
        },
        {
         "Event": "100m Backstroke",
         "Gender": "Men",
         "Date": "2018-08-06 00:00:00",
         "Athlete": "Grigoriy Tarasevich",
         "Nation": "Russia",
         "NOC": "Russia",
         "Time(s)": "53.22",
         "Time(ms)": "53220",
         "_deepnote_index_column": "7"
        },
        {
         "Event": "100m Backstroke",
         "Gender": "Men",
         "Date": "2018-07-28 00:00:00",
         "Athlete": "Justin Ress",
         "Nation": "United States",
         "NOC": "United States",
         "Time(s)": "53.26",
         "Time(ms)": "53260",
         "_deepnote_index_column": "8"
        },
        {
         "Event": "100m Backstroke",
         "Gender": "Men",
         "Date": "2018-05-27 00:00:00",
         "Athlete": "Robert Glinta",
         "Nation": "Romania",
         "NOC": "Romania",
         "Time(s)": "53.32",
         "Time(ms)": "53320",
         "_deepnote_index_column": "9"
        }
       ]
      },
      "text/plain": "                 Event Gender       Date             Athlete         Nation  \\\n0      100m Backstroke    Men 2018-08-09         Ryan Murphy  United States   \n1      100m Backstroke    Men 2018-08-22            Xu Jiayu          China   \n2      100m Backstroke    Men 2018-08-06  Kliment Kolesnikov         Russia   \n3      100m Backstroke    Men 2018-08-19        Ryosuke Irie          Japan   \n4      100m Backstroke    Men 2018-07-28        Matt Grevers  United States   \n...                ...    ...        ...                 ...            ...   \n16635   800m Freestyle  Women 2018-07-26       Klara Bosnjak        Croatia   \n16636   800m Freestyle  Women 2018-05-19     Chantel Jeffrey         Canada   \n16637   800m Freestyle  Women 2018-04-21          Bindi Ware      Australia   \n16638   800m Freestyle  Women 2018-03-02    Ebony Blackstone      Australia   \n16639   800m Freestyle  Women 2018-06-09      Mia Steen Duus        Denmark   \n\n                 NOC  Time(s)  Time(ms)  \n0      United States    51.94     51940  \n1              China    52.30     52300  \n2             Russia    52.51     52510  \n3              Japan    52.53     52530  \n4      United States    52.55     52550  \n...              ...      ...       ...  \n16635        Croatia  9:02.44    542440  \n16636         Canada  9:02.47    542470  \n16637      Australia  9:02.48    542480  \n16638      Australia  9:02.54    542540  \n16639        Denmark  9:02.55    542550  \n\n[16640 rows x 8 columns]",
      "text/html": "<div>\n<style scoped>\n    .dataframe tbody tr th:only-of-type {\n        vertical-align: middle;\n    }\n\n    .dataframe tbody tr th {\n        vertical-align: top;\n    }\n\n    .dataframe thead th {\n        text-align: right;\n    }\n</style>\n<table border=\"1\" class=\"dataframe\">\n  <thead>\n    <tr style=\"text-align: right;\">\n      <th></th>\n      <th>Event</th>\n      <th>Gender</th>\n      <th>Date</th>\n      <th>Athlete</th>\n      <th>Nation</th>\n      <th>NOC</th>\n      <th>Time(s)</th>\n      <th>Time(ms)</th>\n    </tr>\n  </thead>\n  <tbody>\n    <tr>\n      <th>0</th>\n      <td>100m Backstroke</td>\n      <td>Men</td>\n      <td>2018-08-09</td>\n      <td>Ryan Murphy</td>\n      <td>United States</td>\n      <td>United States</td>\n      <td>51.94</td>\n      <td>51940</td>\n    </tr>\n    <tr>\n      <th>1</th>\n      <td>100m Backstroke</td>\n      <td>Men</td>\n      <td>2018-08-22</td>\n      <td>Xu Jiayu</td>\n      <td>China</td>\n      <td>China</td>\n      <td>52.30</td>\n      <td>52300</td>\n    </tr>\n    <tr>\n      <th>2</th>\n      <td>100m Backstroke</td>\n      <td>Men</td>\n      <td>2018-08-06</td>\n      <td>Kliment Kolesnikov</td>\n      <td>Russia</td>\n      <td>Russia</td>\n      <td>52.51</td>\n      <td>52510</td>\n    </tr>\n    <tr>\n      <th>3</th>\n      <td>100m Backstroke</td>\n      <td>Men</td>\n      <td>2018-08-19</td>\n      <td>Ryosuke Irie</td>\n      <td>Japan</td>\n      <td>Japan</td>\n      <td>52.53</td>\n      <td>52530</td>\n    </tr>\n    <tr>\n      <th>4</th>\n      <td>100m Backstroke</td>\n      <td>Men</td>\n      <td>2018-07-28</td>\n      <td>Matt Grevers</td>\n      <td>United States</td>\n      <td>United States</td>\n      <td>52.55</td>\n      <td>52550</td>\n    </tr>\n    <tr>\n      <th>...</th>\n      <td>...</td>\n      <td>...</td>\n      <td>...</td>\n      <td>...</td>\n      <td>...</td>\n      <td>...</td>\n      <td>...</td>\n      <td>...</td>\n    </tr>\n    <tr>\n      <th>16635</th>\n      <td>800m Freestyle</td>\n      <td>Women</td>\n      <td>2018-07-26</td>\n      <td>Klara Bosnjak</td>\n      <td>Croatia</td>\n      <td>Croatia</td>\n      <td>9:02.44</td>\n      <td>542440</td>\n    </tr>\n    <tr>\n      <th>16636</th>\n      <td>800m Freestyle</td>\n      <td>Women</td>\n      <td>2018-05-19</td>\n      <td>Chantel Jeffrey</td>\n      <td>Canada</td>\n      <td>Canada</td>\n      <td>9:02.47</td>\n      <td>542470</td>\n    </tr>\n    <tr>\n      <th>16637</th>\n      <td>800m Freestyle</td>\n      <td>Women</td>\n      <td>2018-04-21</td>\n      <td>Bindi Ware</td>\n      <td>Australia</td>\n      <td>Australia</td>\n      <td>9:02.48</td>\n      <td>542480</td>\n    </tr>\n    <tr>\n      <th>16638</th>\n      <td>800m Freestyle</td>\n      <td>Women</td>\n      <td>2018-03-02</td>\n      <td>Ebony Blackstone</td>\n      <td>Australia</td>\n      <td>Australia</td>\n      <td>9:02.54</td>\n      <td>542540</td>\n    </tr>\n    <tr>\n      <th>16639</th>\n      <td>800m Freestyle</td>\n      <td>Women</td>\n      <td>2018-06-09</td>\n      <td>Mia Steen Duus</td>\n      <td>Denmark</td>\n      <td>Denmark</td>\n      <td>9:02.55</td>\n      <td>542550</td>\n    </tr>\n  </tbody>\n</table>\n<p>16640 rows × 8 columns</p>\n</div>"
     },
     "metadata": {}
    }
   ]
  },
  {
   "cell_type": "markdown",
   "source": "#### 8. Create a column for each athlete's ```first name``` and ```last name```.\n> Seems futile, but you decide this may save you ALOT of time in the future...",
   "metadata": {
    "tags": [],
    "cell_id": "00017-fbbc3127-49b3-4117-8cdd-59622a1baecd",
    "output_cleared": false,
    "deepnote_cell_type": "markdown",
    "deepnote_cell_height": 103.390625
   }
  },
  {
   "cell_type": "code",
   "source": "##create new variable, split the string of the athlete column by the space, (n=1 means splits on first time it see's the delimiter, so won't triple split a double barrel), and expand to 2 columns##\n# first_last_names = dropped_nan_values['Athlete'].str.split(\" \", n=1, expand = True)\n# ## create a new column in the dataframe called first name and add the new (1st) column from first_last_names##\n# dropped_nan_values['First Name'] = first_last_names [0]\n# ## create another new column in the dataframe called last name and add the new (2nd) column from first_last_names##\n# dropped_nan_values['Last Name'] = first_last_names [1]\n# dropped_nan_values\n\n##can do on one line##\ndropped_nan_values[['First Name', 'Last Name']] = dropped_nan_values['Athlete'].str.split(\" \", n=1, expand = True)[[0,1]]\ndropped_nan_values\n",
   "metadata": {
    "tags": [],
    "cell_id": "00020-b278be5d-8ca5-45b8-95b3-2405a58fdba1",
    "deepnote_to_be_reexecuted": false,
    "source_hash": "1a2a16e0",
    "execution_start": 1670607809696,
    "execution_millis": 167,
    "deepnote_cell_type": "code",
    "deepnote_cell_height": 962.125,
    "deepnote_output_heights": [
     null,
     250.4375
    ]
   },
   "execution_count": 10,
   "outputs": [
    {
     "name": "stderr",
     "text": "/shared-libs/python3.9/py/lib/python3.9/site-packages/pandas/core/frame.py:3191: SettingWithCopyWarning: \nA value is trying to be set on a copy of a slice from a DataFrame.\nTry using .loc[row_indexer,col_indexer] = value instead\n\nSee the caveats in the documentation: https://pandas.pydata.org/pandas-docs/stable/user_guide/indexing.html#returning-a-view-versus-a-copy\n  self[k1] = value[k2]\n",
     "output_type": "stream"
    },
    {
     "output_type": "execute_result",
     "execution_count": 10,
     "data": {
      "application/vnd.deepnote.dataframe.v3+json": {
       "column_count": 10,
       "row_count": 16640,
       "columns": [
        {
         "name": "Event",
         "dtype": "object",
         "stats": {
          "unique_count": 17,
          "nan_count": 0,
          "categories": [
           {
            "name": "800m Freestyle",
            "count": 989
           },
           {
            "name": "200m Individual Medley",
            "count": 988
           },
           {
            "name": "15 others",
            "count": 14663
           }
          ]
         }
        },
        {
         "name": "Gender",
         "dtype": "object",
         "stats": {
          "unique_count": 2,
          "nan_count": 0,
          "categories": [
           {
            "name": "Men",
            "count": 8341
           },
           {
            "name": "Women",
            "count": 8299
           }
          ]
         }
        },
        {
         "name": "Date",
         "dtype": "datetime64[ns]",
         "stats": {
          "unique_count": 232,
          "nan_count": 0,
          "min": "2018-01-04 00:00:00",
          "max": "2018-12-23 00:00:00",
          "histogram": [
           {
            "bin_start": 1515024000000000000,
            "bin_end": 1518073920000000000,
            "count": 497
           },
           {
            "bin_start": 1518073920000000000,
            "bin_end": 1521123840000000000,
            "count": 707
           },
           {
            "bin_start": 1521123840000000000,
            "bin_end": 1524173760000000000,
            "count": 3112
           },
           {
            "bin_start": 1524173760000000000,
            "bin_end": 1527223680000000000,
            "count": 2439
           },
           {
            "bin_start": 1527223680000000000,
            "bin_end": 1530273600000000000,
            "count": 1720
           },
           {
            "bin_start": 1530273600000000000,
            "bin_end": 1533323520000000000,
            "count": 4741
           },
           {
            "bin_start": 1533323520000000000,
            "bin_end": 1536373440000000000,
            "count": 2468
           },
           {
            "bin_start": 1536373440000000000,
            "bin_end": 1539423360000000000,
            "count": 583
           },
           {
            "bin_start": 1539423360000000000,
            "bin_end": 1542473280000000000,
            "count": 65
           },
           {
            "bin_start": 1542473280000000000,
            "bin_end": 1545523200000000000,
            "count": 308
           }
          ]
         }
        },
        {
         "name": "Athlete",
         "dtype": "object",
         "stats": {
          "unique_count": 6959,
          "nan_count": 0,
          "categories": [
           {
            "name": "Katinka Hosszú",
            "count": 16
           },
           {
            "name": "Zsuzsanna Jakabos",
            "count": 12
           },
           {
            "name": "6957 others",
            "count": 16612
           }
          ]
         }
        },
        {
         "name": "Nation",
         "dtype": "object",
         "stats": {
          "unique_count": 126,
          "nan_count": 0,
          "categories": [
           {
            "name": "United States",
            "count": 3184
           },
           {
            "name": "Japan",
            "count": 2064
           },
           {
            "name": "124 others",
            "count": 11392
           }
          ]
         }
        },
        {
         "name": "NOC",
         "dtype": "object",
         "stats": {
          "unique_count": 119,
          "nan_count": 0,
          "categories": [
           {
            "name": "United States",
            "count": 3188
           },
           {
            "name": "Japan",
            "count": 2064
           },
           {
            "name": "117 others",
            "count": 11388
           }
          ]
         }
        },
        {
         "name": "Time(s)",
         "dtype": "object"
        },
        {
         "name": "Time(ms)",
         "dtype": "int64"
        },
        {
         "name": "First Name",
         "dtype": "object"
        },
        {
         "name": "Last Name",
         "dtype": "object"
        },
        {
         "name": "_deepnote_index_column",
         "dtype": "int64"
        }
       ],
       "rows": [
        {
         "Event": "100m Backstroke",
         "Gender": "Men",
         "Date": "2018-08-09 00:00:00",
         "Athlete": "Ryan Murphy",
         "Nation": "United States",
         "NOC": "United States",
         "Time(s)": "51.94",
         "Time(ms)": "51940",
         "First Name": "Ryan",
         "Last Name": "Murphy",
         "_deepnote_index_column": "0"
        },
        {
         "Event": "100m Backstroke",
         "Gender": "Men",
         "Date": "2018-08-22 00:00:00",
         "Athlete": "Xu Jiayu",
         "Nation": "China",
         "NOC": "China",
         "Time(s)": "52.30",
         "Time(ms)": "52300",
         "First Name": "Xu",
         "Last Name": "Jiayu",
         "_deepnote_index_column": "1"
        },
        {
         "Event": "100m Backstroke",
         "Gender": "Men",
         "Date": "2018-08-06 00:00:00",
         "Athlete": "Kliment Kolesnikov",
         "Nation": "Russia",
         "NOC": "Russia",
         "Time(s)": "52.51",
         "Time(ms)": "52510",
         "First Name": "Kliment",
         "Last Name": "Kolesnikov",
         "_deepnote_index_column": "2"
        },
        {
         "Event": "100m Backstroke",
         "Gender": "Men",
         "Date": "2018-08-19 00:00:00",
         "Athlete": "Ryosuke Irie",
         "Nation": "Japan",
         "NOC": "Japan",
         "Time(s)": "52.53",
         "Time(ms)": "52530",
         "First Name": "Ryosuke",
         "Last Name": "Irie",
         "_deepnote_index_column": "3"
        },
        {
         "Event": "100m Backstroke",
         "Gender": "Men",
         "Date": "2018-07-28 00:00:00",
         "Athlete": "Matt Grevers",
         "Nation": "United States",
         "NOC": "United States",
         "Time(s)": "52.55",
         "Time(ms)": "52550",
         "First Name": "Matt",
         "Last Name": "Grevers",
         "_deepnote_index_column": "4"
        },
        {
         "Event": "100m Backstroke",
         "Gender": "Men",
         "Date": "2018-08-09 00:00:00",
         "Athlete": "Evgeniy Rylov",
         "Nation": "Russia",
         "NOC": "Russia",
         "Time(s)": "52.66",
         "Time(ms)": "52660",
         "First Name": "Evgeniy",
         "Last Name": "Rylov",
         "_deepnote_index_column": "5"
        },
        {
         "Event": "100m Backstroke",
         "Gender": "Men",
         "Date": "2018-08-10 00:00:00",
         "Athlete": "Mitch Larkin",
         "Nation": "Australia",
         "NOC": "Australia",
         "Time(s)": "52.88",
         "Time(ms)": "52880",
         "First Name": "Mitch",
         "Last Name": "Larkin",
         "_deepnote_index_column": "6"
        },
        {
         "Event": "100m Backstroke",
         "Gender": "Men",
         "Date": "2018-08-06 00:00:00",
         "Athlete": "Grigoriy Tarasevich",
         "Nation": "Russia",
         "NOC": "Russia",
         "Time(s)": "53.22",
         "Time(ms)": "53220",
         "First Name": "Grigoriy",
         "Last Name": "Tarasevich",
         "_deepnote_index_column": "7"
        },
        {
         "Event": "100m Backstroke",
         "Gender": "Men",
         "Date": "2018-07-28 00:00:00",
         "Athlete": "Justin Ress",
         "Nation": "United States",
         "NOC": "United States",
         "Time(s)": "53.26",
         "Time(ms)": "53260",
         "First Name": "Justin",
         "Last Name": "Ress",
         "_deepnote_index_column": "8"
        },
        {
         "Event": "100m Backstroke",
         "Gender": "Men",
         "Date": "2018-05-27 00:00:00",
         "Athlete": "Robert Glinta",
         "Nation": "Romania",
         "NOC": "Romania",
         "Time(s)": "53.32",
         "Time(ms)": "53320",
         "First Name": "Robert",
         "Last Name": "Glinta",
         "_deepnote_index_column": "9"
        }
       ]
      },
      "text/plain": "                 Event Gender       Date             Athlete         Nation  \\\n0      100m Backstroke    Men 2018-08-09         Ryan Murphy  United States   \n1      100m Backstroke    Men 2018-08-22            Xu Jiayu          China   \n2      100m Backstroke    Men 2018-08-06  Kliment Kolesnikov         Russia   \n3      100m Backstroke    Men 2018-08-19        Ryosuke Irie          Japan   \n4      100m Backstroke    Men 2018-07-28        Matt Grevers  United States   \n...                ...    ...        ...                 ...            ...   \n16635   800m Freestyle  Women 2018-07-26       Klara Bosnjak        Croatia   \n16636   800m Freestyle  Women 2018-05-19     Chantel Jeffrey         Canada   \n16637   800m Freestyle  Women 2018-04-21          Bindi Ware      Australia   \n16638   800m Freestyle  Women 2018-03-02    Ebony Blackstone      Australia   \n16639   800m Freestyle  Women 2018-06-09      Mia Steen Duus        Denmark   \n\n                 NOC  Time(s)  Time(ms) First Name   Last Name  \n0      United States    51.94     51940       Ryan      Murphy  \n1              China    52.30     52300         Xu       Jiayu  \n2             Russia    52.51     52510    Kliment  Kolesnikov  \n3              Japan    52.53     52530    Ryosuke        Irie  \n4      United States    52.55     52550       Matt     Grevers  \n...              ...      ...       ...        ...         ...  \n16635        Croatia  9:02.44    542440      Klara     Bosnjak  \n16636         Canada  9:02.47    542470    Chantel     Jeffrey  \n16637      Australia  9:02.48    542480      Bindi        Ware  \n16638      Australia  9:02.54    542540      Ebony  Blackstone  \n16639        Denmark  9:02.55    542550        Mia  Steen Duus  \n\n[16640 rows x 10 columns]",
      "text/html": "<div>\n<style scoped>\n    .dataframe tbody tr th:only-of-type {\n        vertical-align: middle;\n    }\n\n    .dataframe tbody tr th {\n        vertical-align: top;\n    }\n\n    .dataframe thead th {\n        text-align: right;\n    }\n</style>\n<table border=\"1\" class=\"dataframe\">\n  <thead>\n    <tr style=\"text-align: right;\">\n      <th></th>\n      <th>Event</th>\n      <th>Gender</th>\n      <th>Date</th>\n      <th>Athlete</th>\n      <th>Nation</th>\n      <th>NOC</th>\n      <th>Time(s)</th>\n      <th>Time(ms)</th>\n      <th>First Name</th>\n      <th>Last Name</th>\n    </tr>\n  </thead>\n  <tbody>\n    <tr>\n      <th>0</th>\n      <td>100m Backstroke</td>\n      <td>Men</td>\n      <td>2018-08-09</td>\n      <td>Ryan Murphy</td>\n      <td>United States</td>\n      <td>United States</td>\n      <td>51.94</td>\n      <td>51940</td>\n      <td>Ryan</td>\n      <td>Murphy</td>\n    </tr>\n    <tr>\n      <th>1</th>\n      <td>100m Backstroke</td>\n      <td>Men</td>\n      <td>2018-08-22</td>\n      <td>Xu Jiayu</td>\n      <td>China</td>\n      <td>China</td>\n      <td>52.30</td>\n      <td>52300</td>\n      <td>Xu</td>\n      <td>Jiayu</td>\n    </tr>\n    <tr>\n      <th>2</th>\n      <td>100m Backstroke</td>\n      <td>Men</td>\n      <td>2018-08-06</td>\n      <td>Kliment Kolesnikov</td>\n      <td>Russia</td>\n      <td>Russia</td>\n      <td>52.51</td>\n      <td>52510</td>\n      <td>Kliment</td>\n      <td>Kolesnikov</td>\n    </tr>\n    <tr>\n      <th>3</th>\n      <td>100m Backstroke</td>\n      <td>Men</td>\n      <td>2018-08-19</td>\n      <td>Ryosuke Irie</td>\n      <td>Japan</td>\n      <td>Japan</td>\n      <td>52.53</td>\n      <td>52530</td>\n      <td>Ryosuke</td>\n      <td>Irie</td>\n    </tr>\n    <tr>\n      <th>4</th>\n      <td>100m Backstroke</td>\n      <td>Men</td>\n      <td>2018-07-28</td>\n      <td>Matt Grevers</td>\n      <td>United States</td>\n      <td>United States</td>\n      <td>52.55</td>\n      <td>52550</td>\n      <td>Matt</td>\n      <td>Grevers</td>\n    </tr>\n    <tr>\n      <th>...</th>\n      <td>...</td>\n      <td>...</td>\n      <td>...</td>\n      <td>...</td>\n      <td>...</td>\n      <td>...</td>\n      <td>...</td>\n      <td>...</td>\n      <td>...</td>\n      <td>...</td>\n    </tr>\n    <tr>\n      <th>16635</th>\n      <td>800m Freestyle</td>\n      <td>Women</td>\n      <td>2018-07-26</td>\n      <td>Klara Bosnjak</td>\n      <td>Croatia</td>\n      <td>Croatia</td>\n      <td>9:02.44</td>\n      <td>542440</td>\n      <td>Klara</td>\n      <td>Bosnjak</td>\n    </tr>\n    <tr>\n      <th>16636</th>\n      <td>800m Freestyle</td>\n      <td>Women</td>\n      <td>2018-05-19</td>\n      <td>Chantel Jeffrey</td>\n      <td>Canada</td>\n      <td>Canada</td>\n      <td>9:02.47</td>\n      <td>542470</td>\n      <td>Chantel</td>\n      <td>Jeffrey</td>\n    </tr>\n    <tr>\n      <th>16637</th>\n      <td>800m Freestyle</td>\n      <td>Women</td>\n      <td>2018-04-21</td>\n      <td>Bindi Ware</td>\n      <td>Australia</td>\n      <td>Australia</td>\n      <td>9:02.48</td>\n      <td>542480</td>\n      <td>Bindi</td>\n      <td>Ware</td>\n    </tr>\n    <tr>\n      <th>16638</th>\n      <td>800m Freestyle</td>\n      <td>Women</td>\n      <td>2018-03-02</td>\n      <td>Ebony Blackstone</td>\n      <td>Australia</td>\n      <td>Australia</td>\n      <td>9:02.54</td>\n      <td>542540</td>\n      <td>Ebony</td>\n      <td>Blackstone</td>\n    </tr>\n    <tr>\n      <th>16639</th>\n      <td>800m Freestyle</td>\n      <td>Women</td>\n      <td>2018-06-09</td>\n      <td>Mia Steen Duus</td>\n      <td>Denmark</td>\n      <td>Denmark</td>\n      <td>9:02.55</td>\n      <td>542550</td>\n      <td>Mia</td>\n      <td>Steen Duus</td>\n    </tr>\n  </tbody>\n</table>\n<p>16640 rows × 10 columns</p>\n</div>"
     },
     "metadata": {}
    }
   ]
  },
  {
   "cell_type": "markdown",
   "source": "#### Finale: Have a final Dataframe that contains only the top (up to 4) Great British swimmers for each event and gender. Then save this data into a new csv or json file.\n> Hint: The dataset you have been handling is already sorted and grouped. Fastest swimmers (top four) would be at the top of each group (gender/event).",
   "metadata": {
    "tags": [],
    "cell_id": "00019-e94947b8-bf60-4dbe-887b-752541a792a6",
    "output_cleared": false,
    "deepnote_cell_type": "markdown",
    "deepnote_cell_height": 126.390625
   }
  },
  {
   "cell_type": "code",
   "source": "## create new variable and select just GB athletes ##\n# GB = dropped_nan_values.loc[dropped_nan_values['NOC'] == 'Great Britain']\n# ##from this new dataframe, group by event and gender, and .head(4) picks the top 4 from each group - then reset the index and drop=True remvoes the old index)\n# Top_4_GB = GB.groupby(['Event','Gender']).head(4).reset_index(drop=True)\n# Top_4_GB\n## as data is already sorted by time then when you choose.head(4) it will pick the fastest 4\n    ## if wasn't already, could sort first by the time column and then go from that\n\n##In one line....##\nGB = dropped_nan_values.loc[dropped_nan_values['NOC'] == 'Great Britain'].groupby(['Event','Gender']).head(4).reset_index(drop=True)\nGB",
   "metadata": {
    "tags": [],
    "cell_id": "00020-036b19fc-0205-4b6f-b1b2-152419cab621",
    "output_cleared": false,
    "source_hash": "44edfd4",
    "execution_millis": 60,
    "execution_start": 1670607809866,
    "deepnote_to_be_reexecuted": false,
    "deepnote_cell_type": "code",
    "deepnote_cell_height": 797,
    "deepnote_output_heights": [
     610
    ]
   },
   "outputs": [
    {
     "output_type": "execute_result",
     "execution_count": 11,
     "data": {
      "application/vnd.deepnote.dataframe.v3+json": {
       "column_count": 10,
       "row_count": 136,
       "columns": [
        {
         "name": "Event",
         "dtype": "object",
         "stats": {
          "unique_count": 17,
          "nan_count": 0,
          "categories": [
           {
            "name": "100m Backstroke",
            "count": 8
           },
           {
            "name": "100m Breaststroke",
            "count": 8
           },
           {
            "name": "15 others",
            "count": 120
           }
          ]
         }
        },
        {
         "name": "Gender",
         "dtype": "object",
         "stats": {
          "unique_count": 2,
          "nan_count": 0,
          "categories": [
           {
            "name": "Men",
            "count": 68
           },
           {
            "name": "Women",
            "count": 68
           }
          ]
         }
        },
        {
         "name": "Date",
         "dtype": "datetime64[ns]",
         "stats": {
          "unique_count": 33,
          "nan_count": 0,
          "min": "2018-01-13 00:00:00",
          "max": "2018-12-01 00:00:00",
          "histogram": [
           {
            "bin_start": 1515801600000000000,
            "bin_end": 1518583680000000000,
            "count": 1
           },
           {
            "bin_start": 1518583680000000000,
            "bin_end": 1521365760000000000,
            "count": 10
           },
           {
            "bin_start": 1521365760000000000,
            "bin_end": 1524147840000000000,
            "count": 64
           },
           {
            "bin_start": 1524147840000000000,
            "bin_end": 1526929920000000000,
            "count": 1
           },
           {
            "bin_start": 1526929920000000000,
            "bin_end": 1529712000000000000,
            "count": 1
           },
           {
            "bin_start": 1529712000000000000,
            "bin_end": 1532494080000000000,
            "count": 17
           },
           {
            "bin_start": 1532494080000000000,
            "bin_end": 1535276160000000000,
            "count": 40
           },
           {
            "bin_start": 1535276160000000000,
            "bin_end": 1538058240000000000,
            "count": 0
           },
           {
            "bin_start": 1538058240000000000,
            "bin_end": 1540840320000000000,
            "count": 0
           },
           {
            "bin_start": 1540840320000000000,
            "bin_end": 1543622400000000000,
            "count": 2
           }
          ]
         }
        },
        {
         "name": "Athlete",
         "dtype": "object",
         "stats": {
          "unique_count": 76,
          "nan_count": 0,
          "categories": [
           {
            "name": "James Guy",
            "count": 5
           },
           {
            "name": "Duncan Scott",
            "count": 4
           },
           {
            "name": "74 others",
            "count": 127
           }
          ]
         }
        },
        {
         "name": "Nation",
         "dtype": "object",
         "stats": {
          "unique_count": 6,
          "nan_count": 0,
          "categories": [
           {
            "name": "England",
            "count": 54
           },
           {
            "name": "Great Britain",
            "count": 39
           },
           {
            "name": "4 others",
            "count": 43
           }
          ]
         }
        },
        {
         "name": "NOC",
         "dtype": "object",
         "stats": {
          "unique_count": 1,
          "nan_count": 0,
          "categories": [
           {
            "name": "Great Britain",
            "count": 136
           }
          ]
         }
        },
        {
         "name": "Time(s)",
         "dtype": "object",
         "stats": {
          "unique_count": 135,
          "nan_count": 0,
          "categories": [
           {
            "name": "28.18",
            "count": 2
           },
           {
            "name": "54.23",
            "count": 1
           },
           {
            "name": "133 others",
            "count": 133
           }
          ]
         }
        },
        {
         "name": "Time(ms)",
         "dtype": "int64",
         "stats": {
          "unique_count": 135,
          "nan_count": 0,
          "min": "21110",
          "max": "1015820",
          "histogram": [
           {
            "bin_start": 21110,
            "bin_end": 120581,
            "count": 84
           },
           {
            "bin_start": 120581,
            "bin_end": 220052,
            "count": 20
           },
           {
            "bin_start": 220052,
            "bin_end": 319523,
            "count": 16
           },
           {
            "bin_start": 319523,
            "bin_end": 418994,
            "count": 0
           },
           {
            "bin_start": 418994,
            "bin_end": 518465,
            "count": 7
           },
           {
            "bin_start": 518465,
            "bin_end": 617936,
            "count": 1
           },
           {
            "bin_start": 617936,
            "bin_end": 717407,
            "count": 0
           },
           {
            "bin_start": 717407,
            "bin_end": 816878,
            "count": 0
           },
           {
            "bin_start": 816878,
            "bin_end": 916349,
            "count": 2
           },
           {
            "bin_start": 916349,
            "bin_end": 1015820,
            "count": 6
           }
          ]
         }
        },
        {
         "name": "First Name",
         "dtype": "object",
         "stats": {
          "unique_count": 65,
          "nan_count": 0,
          "categories": [
           {
            "name": "James",
            "count": 7
           },
           {
            "name": "Emily",
            "count": 5
           },
           {
            "name": "63 others",
            "count": 124
           }
          ]
         }
        },
        {
         "name": "Last Name",
         "dtype": "object",
         "stats": {
          "unique_count": 76,
          "nan_count": 0,
          "categories": [
           {
            "name": "Guy",
            "count": 5
           },
           {
            "name": "Scott",
            "count": 4
           },
           {
            "name": "74 others",
            "count": 127
           }
          ]
         }
        },
        {
         "name": "_deepnote_index_column",
         "dtype": "int64"
        }
       ],
       "rows": [
        {
         "Event": "100m Backstroke",
         "Gender": "Men",
         "Date": "2018-04-07 00:00:00",
         "Athlete": "Chris Walker-Hebborn",
         "Nation": "England",
         "NOC": "Great Britain",
         "Time(s)": "54.23",
         "Time(ms)": "54230",
         "First Name": "Chris",
         "Last Name": "Walker-Hebborn",
         "_deepnote_index_column": "0"
        },
        {
         "Event": "100m Backstroke",
         "Gender": "Men",
         "Date": "2018-04-06 00:00:00",
         "Athlete": "Luke Greenbank",
         "Nation": "England",
         "NOC": "Great Britain",
         "Time(s)": "54.37",
         "Time(ms)": "54370",
         "First Name": "Luke",
         "Last Name": "Greenbank",
         "_deepnote_index_column": "1"
        },
        {
         "Event": "100m Backstroke",
         "Gender": "Men",
         "Date": "2018-08-06 00:00:00",
         "Athlete": "Nicholas Pyle",
         "Nation": "Great Britain",
         "NOC": "Great Britain",
         "Time(s)": "54.50",
         "Time(ms)": "54500",
         "First Name": "Nicholas",
         "Last Name": "Pyle",
         "_deepnote_index_column": "2"
        },
        {
         "Event": "100m Backstroke",
         "Gender": "Men",
         "Date": "2018-04-06 00:00:00",
         "Athlete": "Xavier Castelli",
         "Nation": "Wales",
         "NOC": "Great Britain",
         "Time(s)": "54.60",
         "Time(ms)": "54600",
         "First Name": "Xavier",
         "Last Name": "Castelli",
         "_deepnote_index_column": "3"
        },
        {
         "Event": "100m Backstroke",
         "Gender": "Women",
         "Date": "2018-08-06 00:00:00",
         "Athlete": "Georgia Davies",
         "Nation": "Wales",
         "NOC": "Great Britain",
         "Time(s)": "59.12",
         "Time(ms)": "59120",
         "First Name": "Georgia",
         "Last Name": "Davies",
         "_deepnote_index_column": "4"
        },
        {
         "Event": "100m Backstroke",
         "Gender": "Women",
         "Date": "2018-08-09 00:00:00",
         "Athlete": "Kathleen Dawson",
         "Nation": "Scotland",
         "NOC": "Great Britain",
         "Time(s)": "1:00.17",
         "Time(ms)": "60170",
         "First Name": "Kathleen",
         "Last Name": "Dawson",
         "_deepnote_index_column": "5"
        },
        {
         "Event": "100m Backstroke",
         "Gender": "Women",
         "Date": "2018-04-06 00:00:00",
         "Athlete": "Elizabeth Simmonds",
         "Nation": "England",
         "NOC": "Great Britain",
         "Time(s)": "1:00.49",
         "Time(ms)": "60490",
         "First Name": "Elizabeth",
         "Last Name": "Simmonds",
         "_deepnote_index_column": "6"
        },
        {
         "Event": "100m Backstroke",
         "Gender": "Women",
         "Date": "2018-04-06 00:00:00",
         "Athlete": "Cassie Wild",
         "Nation": "Scotland",
         "NOC": "Great Britain",
         "Time(s)": "1:00.93",
         "Time(ms)": "60930",
         "First Name": "Cassie",
         "Last Name": "Wild",
         "_deepnote_index_column": "7"
        },
        {
         "Event": "100m Breaststroke",
         "Gender": "Men",
         "Date": "2018-08-04 00:00:00",
         "Athlete": "Adam Peaty",
         "Nation": "England",
         "NOC": "Great Britain",
         "Time(s)": "57.10",
         "Time(ms)": "57100",
         "First Name": "Adam",
         "Last Name": "Peaty",
         "_deepnote_index_column": "8"
        },
        {
         "Event": "100m Breaststroke",
         "Gender": "Men",
         "Date": "2018-08-04 00:00:00",
         "Athlete": "James Wilby",
         "Nation": "England",
         "NOC": "Great Britain",
         "Time(s)": "58.64",
         "Time(ms)": "58640",
         "First Name": "James",
         "Last Name": "Wilby",
         "_deepnote_index_column": "9"
        }
       ]
      },
      "text/plain": "               Event Gender       Date               Athlete         Nation  \\\n0    100m Backstroke    Men 2018-04-07  Chris Walker-Hebborn        England   \n1    100m Backstroke    Men 2018-04-06        Luke Greenbank        England   \n2    100m Backstroke    Men 2018-08-06         Nicholas Pyle  Great Britain   \n3    100m Backstroke    Men 2018-04-06       Xavier Castelli          Wales   \n4    100m Backstroke  Women 2018-08-06        Georgia Davies          Wales   \n..               ...    ...        ...                   ...            ...   \n131   800m Freestyle    Men 2018-07-07         Nathan Hughes  Great Britain   \n132   800m Freestyle  Women 2018-04-09         Holly Hibbott        England   \n133   800m Freestyle  Women 2018-04-09    Camilla Hattersley       Scotland   \n134   800m Freestyle  Women 2018-04-08         Jazmin Carlin          Wales   \n135   800m Freestyle  Women 2018-07-25          Polly Holden  Great Britain   \n\n               NOC  Time(s)  Time(ms) First Name       Last Name  \n0    Great Britain    54.23     54230      Chris  Walker-Hebborn  \n1    Great Britain    54.37     54370       Luke       Greenbank  \n2    Great Britain    54.50     54500   Nicholas            Pyle  \n3    Great Britain    54.60     54600     Xavier        Castelli  \n4    Great Britain    59.12     59120    Georgia          Davies  \n..             ...      ...       ...        ...             ...  \n131  Great Britain  8:05.15    485150     Nathan          Hughes  \n132  Great Britain  8:29.05    509050      Holly         Hibbott  \n133  Great Britain  8:32.65    512650    Camilla      Hattersley  \n134  Great Britain  8:36.52    516520     Jazmin          Carlin  \n135  Great Britain  8:38.73    518730      Polly          Holden  \n\n[136 rows x 10 columns]",
      "text/html": "<div>\n<style scoped>\n    .dataframe tbody tr th:only-of-type {\n        vertical-align: middle;\n    }\n\n    .dataframe tbody tr th {\n        vertical-align: top;\n    }\n\n    .dataframe thead th {\n        text-align: right;\n    }\n</style>\n<table border=\"1\" class=\"dataframe\">\n  <thead>\n    <tr style=\"text-align: right;\">\n      <th></th>\n      <th>Event</th>\n      <th>Gender</th>\n      <th>Date</th>\n      <th>Athlete</th>\n      <th>Nation</th>\n      <th>NOC</th>\n      <th>Time(s)</th>\n      <th>Time(ms)</th>\n      <th>First Name</th>\n      <th>Last Name</th>\n    </tr>\n  </thead>\n  <tbody>\n    <tr>\n      <th>0</th>\n      <td>100m Backstroke</td>\n      <td>Men</td>\n      <td>2018-04-07</td>\n      <td>Chris Walker-Hebborn</td>\n      <td>England</td>\n      <td>Great Britain</td>\n      <td>54.23</td>\n      <td>54230</td>\n      <td>Chris</td>\n      <td>Walker-Hebborn</td>\n    </tr>\n    <tr>\n      <th>1</th>\n      <td>100m Backstroke</td>\n      <td>Men</td>\n      <td>2018-04-06</td>\n      <td>Luke Greenbank</td>\n      <td>England</td>\n      <td>Great Britain</td>\n      <td>54.37</td>\n      <td>54370</td>\n      <td>Luke</td>\n      <td>Greenbank</td>\n    </tr>\n    <tr>\n      <th>2</th>\n      <td>100m Backstroke</td>\n      <td>Men</td>\n      <td>2018-08-06</td>\n      <td>Nicholas Pyle</td>\n      <td>Great Britain</td>\n      <td>Great Britain</td>\n      <td>54.50</td>\n      <td>54500</td>\n      <td>Nicholas</td>\n      <td>Pyle</td>\n    </tr>\n    <tr>\n      <th>3</th>\n      <td>100m Backstroke</td>\n      <td>Men</td>\n      <td>2018-04-06</td>\n      <td>Xavier Castelli</td>\n      <td>Wales</td>\n      <td>Great Britain</td>\n      <td>54.60</td>\n      <td>54600</td>\n      <td>Xavier</td>\n      <td>Castelli</td>\n    </tr>\n    <tr>\n      <th>4</th>\n      <td>100m Backstroke</td>\n      <td>Women</td>\n      <td>2018-08-06</td>\n      <td>Georgia Davies</td>\n      <td>Wales</td>\n      <td>Great Britain</td>\n      <td>59.12</td>\n      <td>59120</td>\n      <td>Georgia</td>\n      <td>Davies</td>\n    </tr>\n    <tr>\n      <th>...</th>\n      <td>...</td>\n      <td>...</td>\n      <td>...</td>\n      <td>...</td>\n      <td>...</td>\n      <td>...</td>\n      <td>...</td>\n      <td>...</td>\n      <td>...</td>\n      <td>...</td>\n    </tr>\n    <tr>\n      <th>131</th>\n      <td>800m Freestyle</td>\n      <td>Men</td>\n      <td>2018-07-07</td>\n      <td>Nathan Hughes</td>\n      <td>Great Britain</td>\n      <td>Great Britain</td>\n      <td>8:05.15</td>\n      <td>485150</td>\n      <td>Nathan</td>\n      <td>Hughes</td>\n    </tr>\n    <tr>\n      <th>132</th>\n      <td>800m Freestyle</td>\n      <td>Women</td>\n      <td>2018-04-09</td>\n      <td>Holly Hibbott</td>\n      <td>England</td>\n      <td>Great Britain</td>\n      <td>8:29.05</td>\n      <td>509050</td>\n      <td>Holly</td>\n      <td>Hibbott</td>\n    </tr>\n    <tr>\n      <th>133</th>\n      <td>800m Freestyle</td>\n      <td>Women</td>\n      <td>2018-04-09</td>\n      <td>Camilla Hattersley</td>\n      <td>Scotland</td>\n      <td>Great Britain</td>\n      <td>8:32.65</td>\n      <td>512650</td>\n      <td>Camilla</td>\n      <td>Hattersley</td>\n    </tr>\n    <tr>\n      <th>134</th>\n      <td>800m Freestyle</td>\n      <td>Women</td>\n      <td>2018-04-08</td>\n      <td>Jazmin Carlin</td>\n      <td>Wales</td>\n      <td>Great Britain</td>\n      <td>8:36.52</td>\n      <td>516520</td>\n      <td>Jazmin</td>\n      <td>Carlin</td>\n    </tr>\n    <tr>\n      <th>135</th>\n      <td>800m Freestyle</td>\n      <td>Women</td>\n      <td>2018-07-25</td>\n      <td>Polly Holden</td>\n      <td>Great Britain</td>\n      <td>Great Britain</td>\n      <td>8:38.73</td>\n      <td>518730</td>\n      <td>Polly</td>\n      <td>Holden</td>\n    </tr>\n  </tbody>\n</table>\n<p>136 rows × 10 columns</p>\n</div>"
     },
     "metadata": {}
    }
   ],
   "execution_count": null
  },
  {
   "cell_type": "markdown",
   "source": "### Bonus\n\n**The aim is to create a visualisation** that shows the performance standards for each gender and event relative to the respective world record at the time. This visualisation uses world record times (2018) found in the `world_records_swimming.json` file (`data` folder). To enable a visualisation that can show both genders and all the events, at once, requires us to standardise the results data. We can do this by creating another ***result*** that is the relevent world record as a percentage of the actual result e.g.\n\n\n> **Men 100m Backstroke - Ryan Murphy, United States - `51.94` (seconds) or `51940` (milliseconds)**\n",
   "metadata": {
    "tags": [],
    "cell_id": "00021-ca89e6b2-33b6-47ef-a376-cd61cf5ea16c",
    "output_cleared": false,
    "deepnote_cell_type": "markdown",
    "deepnote_cell_height": 217.953125
   }
  },
  {
   "cell_type": "code",
   "metadata": {
    "tags": [],
    "cell_id": "00023-bc6acf28-4297-41a6-85ce-0fc681f31efd",
    "deepnote_to_be_reexecuted": false,
    "source_hash": "ba2983ca",
    "execution_millis": 4,
    "execution_start": 1670607809926,
    "deepnote_cell_type": "code",
    "deepnote_cell_height": 292.1875,
    "deepnote_output_heights": [
     20.1875
    ]
   },
   "source": "import json\n\nwrs = json.load(open('data/world_records_swimming.json'))\n\nwr_secs = float(wrs['Men']['100m Backstroke'])\nresult = 51.94\n\nwr_percentage = wr_secs / result * 100\n\nround(wr_percentage, 2)\n",
   "execution_count": 12,
   "outputs": [
    {
     "output_type": "execute_result",
     "execution_count": 12,
     "data": {
      "text/plain": "99.83"
     },
     "metadata": {}
    }
   ]
  },
  {
   "cell_type": "markdown",
   "source": "> Hints\n\n1. Include any relevant cleaning steps in the cell below before attempting to create the new column with the percentage data.\n2. Note that some of the world record times are not in seconds. It may be an idea to reformat the world records into milliseconds?\n3. We import [```seaborn```](https://seaborn.pydata.org/generated/seaborn.violinplot.html) to create the Violin Plots. e.g. https://seaborn.pydata.org/generated/seaborn.violinplot.html",
   "metadata": {
    "tags": [],
    "cell_id": "00024-be2d155b-83b0-4b33-bee5-9dfcbf47da5c",
    "deepnote_cell_type": "markdown",
    "deepnote_cell_height": 153.5625
   }
  },
  {
   "cell_type": "code",
   "metadata": {
    "tags": [],
    "cell_id": "00021-e6cb99c4-380d-4399-b88b-88a14765a1cc",
    "output_cleared": true,
    "source_hash": "8f53e439",
    "execution_millis": 900,
    "allow_embed": false,
    "deepnote_to_be_reexecuted": false,
    "execution_start": 1670607809975,
    "deepnote_cell_type": "code",
    "deepnote_cell_height": 207
   },
   "source": "import json\nimport pandas as pd\nimport seaborn as sns\n\nwrs = json.load(open('data/world_records_swimming.json'))  # Pandas is not always nessisary when handling data, a simple dictionary can be far simpler to handle ;)\n\npsb_viz_df = pd.read_csv('data/swimming_psb_data.csv')\n",
   "execution_count": 13,
   "outputs": []
  },
  {
   "cell_type": "markdown",
   "source": "##### Reference Image\n![BonusViz](./data/swimming_challenge.png)",
   "metadata": {
    "tags": [],
    "cell_id": "00026-cee68b18-133c-4995-94d2-793d3df95d8f",
    "deepnote_cell_type": "markdown",
    "deepnote_cell_height": 516.75
   }
  },
  {
   "cell_type": "markdown",
   "source": "<a style='text-decoration:none;line-height:16px;display:flex;color:#5B5B62;padding:10px;justify-content:end;' href='https://deepnote.com?utm_source=created-in-deepnote-cell&projectId=82522c04-b10e-4808-ba92-f37909eae5ea' target=\"_blank\">\n<img alt='Created in deepnote.com' style='display:inline;max-height:16px;margin:0px;margin-right:7.5px;' src='data:image/svg+xml;base64,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' > </img>\nCreated in <span style='font-weight:600;margin-left:4px;'>Deepnote</span></a>",
   "metadata": {
    "tags": [],
    "created_in_deepnote_cell": true,
    "deepnote_cell_type": "markdown"
   }
  }
 ],
 "nbformat": 4,
 "nbformat_minor": 2,
 "metadata": {
  "orig_nbformat": 2,
  "deepnote_notebook_id": "db855838-4416-4c70-90ed-c5f6aa21e6af",
  "deepnote_execution_queue": [],
  "deepnote": {},
  "deepnote_persisted_session": {
   "createdAt": "2022-12-09T16:58:53.345Z"
  }
 }
}